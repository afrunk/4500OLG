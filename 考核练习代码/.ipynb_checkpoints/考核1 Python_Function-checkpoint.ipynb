{
 "cells": [
  {
   "cell_type": "code",
   "execution_count": 1,
   "metadata": {},
   "outputs": [
    {
     "name": "stdout",
     "output_type": "stream",
     "text": [
      "12\n",
      "13\n",
      "14\n",
      "21\n",
      "23\n",
      "24\n",
      "31\n",
      "32\n",
      "34\n",
      "41\n",
      "42\n",
      "43\n",
      "可以产生：12 位不重复的两位数\n"
     ]
    }
   ],
   "source": [
    "# 题目1：有1、2、3、4个数字，能组成多少个互不相同且无重复数字的两位数？都是多少？\n",
    "sum=0\n",
    "list1=['1','2','3','4']\n",
    "list2=['1','2','3','4']\n",
    "for i in range(4):\n",
    "    for j in range(4):\n",
    "        if i!=j:\n",
    "            print(list1[i]+list2[j])\n",
    "            sum+=1\n",
    "print(\"可以产生：%s 位不重复的两位数\" %sum)"
   ]
  },
  {
   "cell_type": "code",
   "execution_count": 2,
   "metadata": {},
   "outputs": [
    {
     "name": "stdout",
     "output_type": "stream",
     "text": [
      "请输入数字：2\n",
      "请输入数字：3\n",
      "请输入数字：4\n"
     ]
    },
    {
     "data": {
      "text/plain": [
       "[2.0, 3.0, 4.0]"
      ]
     },
     "execution_count": 2,
     "metadata": {},
     "output_type": "execute_result"
    }
   ],
   "source": [
    "# 题目2：输入三个整数x,y,z，请把这三个数由小到大输出，可调用input()。（需要加判断：判断输入数据是否为数字）\n",
    "# 提示：判断是否为数字：.isdigit()\n",
    "# 该题目需要创建函数\n",
    "\n",
    "def xyz():\n",
    "    data=[]\n",
    "    for i in range(1,4):\n",
    "        xyz_1= input(\"请输入数字：\")\n",
    "        while xyz_1.isdigit() == False:\n",
    "            xyz_1x=input(\"请输入数字，否则无效\")\n",
    "        data.append(float(xyz_1))\n",
    "    return(sorted(data))\n",
    "xyz()"
   ]
  },
  {
   "cell_type": "code",
   "execution_count": 3,
   "metadata": {},
   "outputs": [
    {
     "name": "stdout",
     "output_type": "stream",
     "text": [
      "请输入一行字符：dsadsa232dasdsa\n",
      "字母 = 12,空格 = 0,数字 = 3,其他 = 0\n",
      "\n"
     ]
    }
   ],
   "source": [
    "# 题目3：输入一行字符，分别统计出其中英文字母、空格、数字和其它字符的个数。\n",
    "# 提示：利用while语句,条件为输入的字符不为'\\n'.\n",
    "# 该题目不需要创建函数\n",
    "# 提交方式：\n",
    "# 需要学员将答案代码以Python语言的形式，复制粘贴进答题框\n",
    "\n",
    "\n",
    "char =input(\"请输入一行字符：\")\n",
    "while char!=\"\":\n",
    "    a = 0# 字母\n",
    "    b = 0# 空格\n",
    "    c = 0# 数字\n",
    "    d = 0# 其他\n",
    "    for i in char:\n",
    "        if i.isalpha():\n",
    "            a += 1\n",
    "        elif i.isspace():\n",
    "            b += 1\n",
    "        elif i.isdigit():\n",
    "            c += 1\n",
    "        else:\n",
    "            d += 1\n",
    "    print ('字母 = %d,空格 = %d,数字 = %d,其他 = %d' % (a,b,c,d))\n",
    "    char=input()"
   ]
  },
  {
   "cell_type": "code",
   "execution_count": 4,
   "metadata": {},
   "outputs": [
    {
     "name": "stdout",
     "output_type": "stream",
     "text": [
      "1534\n"
     ]
    }
   ],
   "source": [
    "# 题目4：猴子吃桃问题\n",
    "# 猴子第一天摘下若干个桃子，当即吃了一半，还不瘾，又多吃了一个,\n",
    "# 第二天早上又将剩下的桃子吃掉一半，又多吃了一个。\n",
    "# 以后每天早上都吃了前一天剩下的一半零一个。到第10天早上想再吃时，见只剩下一个桃子了。求第一天共摘了多少?\n",
    "# 提示：采取逆向思维的方法，从后往前推断。\n",
    "# 该题目不需要创建函数\n",
    "\n",
    "def f(n):\n",
    "    if n==1:\n",
    "        return 1\n",
    "    else:\n",
    "        return(f(n-1)+1)*2\n",
    "print(f(10))"
   ]
  },
  {
   "cell_type": "code",
   "execution_count": null,
   "metadata": {},
   "outputs": [
    {
     "name": "stdout",
     "output_type": "stream",
     "text": [
      "请输入一个数：5\n",
      "小一点！\n",
      "请输入一个数：2\n",
      "你太厉害了，终于猜对了！花费的时间：1.8510253429412842\n",
      "请输入一个数：3\n",
      "大一点！\n",
      "请输入一个数：2\n",
      "大一点！\n"
     ]
    }
   ],
   "source": [
    "# 题目5：猜数字问题，要求如下：\n",
    "# ① 随机生成一个整数\n",
    "# ② 猜一个数字并输入\n",
    "# ③ 判断是大是小，直到猜正确\n",
    "# ④ 判断时间\n",
    "# 提示：需要用time模块、random模块\n",
    "# 该题目不需要创建函数\n",
    "\n",
    "import random\n",
    "import time\n",
    "num =int(input(\"请输入一个数：\"))\n",
    "while num!='':\n",
    "    true_num = random.randint(0,10)\n",
    "    start_time = time.time()\n",
    "    while true_num != num:\n",
    "        if num > true_num:\n",
    "            print( '小一点！')\n",
    "            num =int(input(\"请输入一个数：\"))\n",
    "        else:\n",
    "            print( '大一点！')\n",
    "            num =int(input(\"请输入一个数：\"))\n",
    "    end_time = time.time()\n",
    "    usertime = end_time - start_time\n",
    "    print(\"你太厉害了，终于猜对了！花费的时间：%s\" %usertime)\n",
    "    num =int(input(\"让我们再来一次！请输入一个数：\"))\n"
   ]
  },
  {
   "cell_type": "code",
   "execution_count": null,
   "metadata": {},
   "outputs": [],
   "source": []
  }
 ],
 "metadata": {
  "kernelspec": {
   "display_name": "Python 3",
   "language": "python",
   "name": "python3"
  },
  "language_info": {
   "codemirror_mode": {
    "name": "ipython",
    "version": 3
   },
   "file_extension": ".py",
   "mimetype": "text/x-python",
   "name": "python",
   "nbconvert_exporter": "python",
   "pygments_lexer": "ipython3",
   "version": "3.7.1"
  },
  "toc": {
   "base_numbering": 1,
   "nav_menu": {},
   "number_sections": true,
   "sideBar": true,
   "skip_h1_title": false,
   "title_cell": "Table of Contents",
   "title_sidebar": "Contents",
   "toc_cell": false,
   "toc_position": {},
   "toc_section_display": true,
   "toc_window_display": false
  }
 },
 "nbformat": 4,
 "nbformat_minor": 2
}
