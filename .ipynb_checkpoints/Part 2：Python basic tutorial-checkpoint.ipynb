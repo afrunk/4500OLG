{
 "cells": [
  {
   "cell_type": "markdown",
   "metadata": {},
   "source": [
    "# Python Basic\n",
    "对于列表、字典、函数、语句、文件的基本操作，这里只记录一些不常见的用法，其余的后续在实战中碰到不懂的函数在这里补充。（为了提高效率并没有一个一个视频的去看，直接看的notebook文件，查看代码和注释即可。）另外，附上训练内容的代码和数据集。"
   ]
  },
  {
   "cell_type": "markdown",
   "metadata": {},
   "source": [
    "## 一、序列及通用操作\n",
    "序列是python的最基本数据结构\n"
   ]
  },
  {
   "cell_type": "code",
   "execution_count": 6,
   "metadata": {},
   "outputs": [
    {
     "name": "stdout",
     "output_type": "stream",
     "text": [
      "True\n",
      "True\n",
      "True\n"
     ]
    }
   ],
   "source": [
    "# 判断值是否属于序列\n",
    "\n",
    "lst =[1,2,3,4,5,6,7,8]\n",
    "a,b,c=1,2.0,'hello'\n",
    "print(a in lst)\n",
    "print(b in lst)\n",
    "print(c not in lst) # 是否不在序列中"
   ]
  },
  {
   "cell_type": "code",
   "execution_count": 9,
   "metadata": {},
   "outputs": [
    {
     "name": "stdout",
     "output_type": "stream",
     "text": [
      "['a', 'b', 1, 2, 3]\n",
      "[1, 2, 3, 1, 2, 3, 1, 2, 3]\n"
     ]
    }
   ],
   "source": [
    "# 序列连接和重复\n",
    "\n",
    "lst1=[1,2,3]\n",
    "lst2=['a','b']\n",
    "print(lst2+lst1)#谁写在前面谁就在前面输出 连接\n",
    "print(lst1*3)# 重复"
   ]
  },
  {
   "cell_type": "code",
   "execution_count": 13,
   "metadata": {},
   "outputs": [
    {
     "name": "stdout",
     "output_type": "stream",
     "text": [
      "[1, 2, 3, 4, 5, 6, 7, 8]\n",
      "1 3\n",
      "8\n",
      "6\n"
     ]
    }
   ],
   "source": [
    "# 下标索引 指向一个元素\n",
    "\n",
    "print(lst)\n",
    "print(lst[0],lst[2])\n",
    "print(lst[-1]) # 最后一个值\n",
    "print(lst[-3]) # 倒数第三个值"
   ]
  },
  {
   "cell_type": "code",
   "execution_count": 17,
   "metadata": {},
   "outputs": [
    {
     "name": "stdout",
     "output_type": "stream",
     "text": [
      "[1, 2]\n",
      "[3, 4, 5]\n",
      "[1, 2, 3, 4, 5]\n",
      "[5, 6, 7, 8]\n"
     ]
    }
   ],
   "source": [
    "# 切片 指向多个元素\n",
    "\n",
    "print(lst[0:2]) # 0-2中的2个数 即0,1\n",
    "print(lst[2:5])\n",
    "print(lst[:5]) # 从0开始到5\n",
    "print(lst[4:]) # 从4到最后"
   ]
  },
  {
   "cell_type": "code",
   "execution_count": 20,
   "metadata": {},
   "outputs": [
    {
     "name": "stdout",
     "output_type": "stream",
     "text": [
      "[1, 2, 3, 4, 5, 6, 7, 8]\n",
      "[3, 5, 7]\n"
     ]
    }
   ],
   "source": [
    "# 步长\n",
    "\n",
    "print(lst)\n",
    "print(lst[2:7:2])# 取2-7中的数 每次间隔2的步长进行选择"
   ]
  },
  {
   "cell_type": "code",
   "execution_count": 27,
   "metadata": {},
   "outputs": [
    {
     "name": "stdout",
     "output_type": "stream",
     "text": [
      "9\n",
      "10\n",
      "8\n",
      "1\n"
     ]
    }
   ],
   "source": [
    "# 基本全局函数\n",
    "lst=[1, 2, 3, 4, 5, 6, 7, 8,10]\n",
    "print(len(lst))# 求长度\n",
    "print(max(lst)) # 求最大值\n",
    "print(lst.index(10)) # 求10这个数的索引是多少 有多个只会返回第一个匹配项\n",
    "print(lst.count(6)) #计数：列表中该数出现多少次"
   ]
  },
  {
   "cell_type": "code",
   "execution_count": 36,
   "metadata": {},
   "outputs": [
    {
     "name": "stdout",
     "output_type": "stream",
     "text": [
      "[1, 2, 3, 4, 5, 6, 7, 8, '1', '1', '1', '1', '1', '1']\n",
      "[1, 2, 3, 4, 6, 7, 8, '1', '1', '1', '1', '1', '1']\n"
     ]
    }
   ],
   "source": [
    "# 添加元素\n",
    "lst.append('1')\n",
    "print(lst)\n",
    "\n",
    "# 删除元素\n",
    "lst.remove(5)\n",
    "print(lst)"
   ]
  },
  {
   "cell_type": "code",
   "execution_count": 39,
   "metadata": {},
   "outputs": [
    {
     "name": "stdout",
     "output_type": "stream",
     "text": [
      "[1, 2, '1', '1', '1', '1', '1']\n"
     ]
    }
   ],
   "source": [
    "# 删除切片元素\n",
    "del lst[2:4]\n",
    "print(lst)"
   ]
  },
  {
   "cell_type": "code",
   "execution_count": 40,
   "metadata": {},
   "outputs": [],
   "source": [
    "# 清空列表\n",
    "lst.clear()"
   ]
  },
  {
   "cell_type": "code",
   "execution_count": 41,
   "metadata": {},
   "outputs": [
    {
     "name": "stdout",
     "output_type": "stream",
     "text": [
      "[1, 'a', 2, 3, 4]\n"
     ]
    }
   ],
   "source": [
    "# 插入元素\n",
    "lst =[1,2,3,4]\n",
    "lst.insert(1,'a') #在1的位置插入一个字符\n",
    "print(lst)"
   ]
  },
  {
   "cell_type": "code",
   "execution_count": 44,
   "metadata": {},
   "outputs": [
    {
     "name": "stdout",
     "output_type": "stream",
     "text": [
      "[0, 1, 2, 3, 4, 5, 6, 7, 8, 9]\n",
      "[0, 1, 2, 3, 4, 5, 6, 7, 8, 9]\n",
      "[0, 1, 101, 3, 4, 5, 6, 7, 8, 9]\n",
      "[0, 1, 101, 3, 4, 5, 6, 7, 8, 9]\n",
      "=====使用copy函数后的两个列表的情况=====\n",
      "[0, 1, 101, 3, 4, 5, 6, 7, 8, 9]\n",
      "[0, 1, 'hello', 3, 4, 5, 6, 7, 8, 9]\n"
     ]
    }
   ],
   "source": [
    "# 复制\n",
    "# 如果只是将一个列表赋值给一个列表 \n",
    "# 那么任意修改这两个列表中的随意一个列表 都会导致列表的变动 \n",
    "# 因为只是将这两个变量的索引指向了同一块的存储空间而已\n",
    "# 这就是复制存在的必要\n",
    "x=list(range(10))\n",
    "m=x\n",
    "print(x)\n",
    "print(m)\n",
    "x[2]=101\n",
    "# 注意我们修改的是x但是m仍然跟着被改动了\n",
    "print(x)\n",
    "print(m)\n",
    "\n",
    "lst2=x.copy()\n",
    "lst2[2]='hello'\n",
    "print(\"=====使用copy函数后的两个列表的情况=====\")\n",
    "print(x)\n",
    "print(lst2)"
   ]
  },
  {
   "cell_type": "code",
   "execution_count": 47,
   "metadata": {},
   "outputs": [
    {
     "name": "stdout",
     "output_type": "stream",
     "text": [
      "[1, 2, 3, 55, 587, 694, 695] ['abd', 'data', 'sun']\n"
     ]
    }
   ],
   "source": [
    "# 排序 sort()函数\n",
    "\n",
    "lst1=[1,2,3,695,587,694,55]\n",
    "lst2=['abd','data','sun']\n",
    "lst1.sort()\n",
    "lst2.sort()\n",
    "print(lst1,lst2)"
   ]
  },
  {
   "cell_type": "code",
   "execution_count": null,
   "metadata": {},
   "outputs": [],
   "source": [
    "# 字符串序列\n",
    "# 单双引号都是可行的\n",
    "\n"
   ]
  },
  {
   "cell_type": "markdown",
   "metadata": {},
   "source": [
    "## 二、字典\n",
    "### A 字典的属性"
   ]
  },
  {
   "cell_type": "code",
   "execution_count": 55,
   "metadata": {},
   "outputs": [
    {
     "name": "stdout",
     "output_type": "stream",
     "text": [
      "{'大头儿子': 6, '小头爸爸': 37, '隔壁老王': 37}\n",
      "{'大头儿子': 6, '小头爸爸': 37, '隔壁老王': 37, '大头儿子妈妈': 33}\n",
      "{'a': 'fff', 'b': 'ggg'}\n"
     ]
    }
   ],
   "source": [
    "dic ={'大头儿子':6,'小头爸爸':37,'隔壁老王':37}\n",
    "print(dic)\n",
    "# 添加元素\n",
    "dic['大头儿子妈妈']=33\n",
    "print(dic)\n",
    "# 序列生成字典 dict()函数\n",
    "lst1=[(\"a\",'fff'),(\"b\",'ggg')]\n",
    "dic1=dict(lst1)\n",
    "print(dic1)"
   ]
  },
  {
   "cell_type": "code",
   "execution_count": 56,
   "metadata": {},
   "outputs": [
    {
     "name": "stdout",
     "output_type": "stream",
     "text": [
      "{'a': 2}\n",
      "{'var1': 1, 'var2': 'hello', 'var3': [1, 2, 3], 'var4': {'a': 1, 'b': 2}}\n",
      "{'var2': 'hello', 'var3': [1, 2, 3], 'var4': '任意修改其中一个值', 'var5': '添加一个值'}\n",
      "{}\n"
     ]
    }
   ],
   "source": [
    "# 字典的特点\n",
    "\n",
    "dic = {'a':1,'b':2,'c':3}\n",
    "# 键值对，一定共同出现，不能只有一个\n",
    "\n",
    "dic = {'a':1,'a':2}\n",
    "print(dic)\n",
    "# 不允许同一个键出现两次：创建时如果同一个键被赋值两次，后一个值会被记住\n",
    "\n",
    "dic = {'var1':1, 'var2':'hello', 'var3':[1,2,3], 'var4':{'a':1,'b':2}}\n",
    "# key必须是不可变的对象，value则可以是任意对象：数值，字符串，序列，字典\n",
    "\n",
    "print(dic)\n",
    "# 字典是一个无序集合,序列由于没有key来做对应，所以以顺序来对应值\n",
    "# 序列有顺序，字典没有！\n",
    "\n",
    "dic['var5'] = '添加一个值'  # 任意添加元素\n",
    "dic['var4'] = '任意修改其中一个值'  # 任意修改元素\n",
    "del dic['var1']  # 任意删除元素\n",
    "print(dic)\n",
    "\n",
    "dic.clear()  # 清空词典所有条目\n",
    "print(dic)\n",
    "\n",
    "del dic  # 删除词典\n",
    "#print(dic)  "
   ]
  },
  {
   "cell_type": "code",
   "execution_count": 57,
   "metadata": {},
   "outputs": [
    {
     "name": "stdout",
     "output_type": "stream",
     "text": [
      "{'m': 10, 'n': 'aa', 'h': [1, 2, 3]}\n",
      "{'a': 'fff', 'b': 'ggg'} {'c': 1, 'd': 2} {'e': [1, 2], 'f': [3, 4]}\n",
      "{'a': None, 'b': None, 'c': None} {'a': 'hello', 'b': 'hello', 'c': 'hello'}\n"
     ]
    }
   ],
   "source": [
    "# 申明一个字典\n",
    "\n",
    "dic = {'a':1,'b':2}\n",
    "# 最简单直接的方式，手动书写申明一个字典变量，注意是：不是=\n",
    "\n",
    "dic = dict(m = 10 ,n = 'aa', h = [1,2,3])\n",
    "print(dic)\n",
    "# dict()函数\n",
    "\n",
    "lst1=[(\"a\",\"fff\"),(\"b\",\"ggg\")]\n",
    "lst2=[[\"c\",1],[\"d\",2]]\n",
    "lst3=((\"e\",[1,2]),(\"f\",[3,4]))\n",
    "dic1 = dict(lst1)\n",
    "dic2 = dict(lst2)\n",
    "dic3 = dict(lst3)\n",
    "print(dic1,dic2,dic3)\n",
    "# dict()由序列生成一个字典，嵌套序列，可以是list或者tuple\n",
    "\n",
    "keys = [\"a\", \"b\", \"c\"]\n",
    "dic1 = dict.fromkeys(keys)\n",
    "dic2 = dict.fromkeys(keys, 'hello')\n",
    "print(dic1,dic2)\n",
    "# 只有key，直接生成一个字典"
   ]
  },
  {
   "cell_type": "markdown",
   "metadata": {},
   "source": [
    "### B 字典的常用操作"
   ]
  },
  {
   "cell_type": "code",
   "execution_count": 58,
   "metadata": {},
   "outputs": [
    {
     "name": "stdout",
     "output_type": "stream",
     "text": [
      "{'a': 1, 'b': 2, 'c': 3, 'd': 4} {'c': 3, 'd': 4}\n",
      "{'m': 1, 'n': 2, 'p': 3, 'q': 4} {'m': 1, 'n': 2, 'p': 3, 'q': 4}\n",
      "{'m': 1, 'n': 2, 'p': 3, 'q': 4} {'m': 1, 'n': 2, 'p': 3}\n",
      "4\n",
      "True\n",
      "False\n"
     ]
    }
   ],
   "source": [
    "dic1 = {\"a\":1, \"b\":2}\n",
    "dic2 = {\"c\":3, \"d\":4}\n",
    "dic1.update(dic2)\n",
    "print(dic1,dic2)\n",
    "# dict.update()方法：更新/合并一个字典，把第二个字典合并到第一个字典，改变了第一个字典\n",
    "\n",
    "a = {'m':1 , 'n':2 , 'p':3}\n",
    "b = a\n",
    "a.update({'q':4})\n",
    "print(a,b)\n",
    "# 和序列的原理一样，a和b指向同一个字典，所以会一起更新\n",
    "\n",
    "a = {'m':1 , 'n':2 , 'p':3}\n",
    "b = a.copy()\n",
    "a.update({'q':4})\n",
    "print(a,b)\n",
    "# 通过.copy()方法，复制一个新的字典\n",
    "\n",
    "print(len(a))\n",
    "# 查看字典元素个数\n",
    "\n",
    "print('m' in a)\n",
    "print(1 in a)\n",
    "# in / not in ：判断是否包含，这里的判断对象是key"
   ]
  },
  {
   "cell_type": "code",
   "execution_count": 59,
   "metadata": {},
   "outputs": [
    {
     "name": "stdout",
     "output_type": "stream",
     "text": [
      "1\n",
      "somewhere\n",
      "shop\n",
      "nothing\n",
      "None\n",
      "dict_keys(['name', 'city', 'information']) <class 'dict_keys'>\n",
      "['name', 'city', 'information']\n",
      "dict_values(['shop', 'shanghai', {'address': 'somewhere', 'num': 66663333}]) <class 'dict_values'>\n",
      "['shop', 'shanghai', {'address': 'somewhere', 'num': 66663333}]\n",
      "dict_items([('name', 'shop'), ('city', 'shanghai'), ('information', {'address': 'somewhere', 'num': 66663333})]) <class 'dict_items'>\n",
      "[('name', 'shop'), ('city', 'shanghai'), ('information', {'address': 'somewhere', 'num': 66663333})]\n"
     ]
    }
   ],
   "source": [
    "# 字典的元素访问\n",
    "\n",
    "dic = {'a':1, \"b\":2, \"c\":3}\n",
    "print(dic['a'])\n",
    "#print(dic[1])  # 不能用序列的索引方式\n",
    "# 字典里面也就同样的意思，但字典没有顺序，以key来作为指向，所以指向的key必须存在\n",
    "\n",
    "poi = {'name':'shop', 'city':'shanghai', 'information':{'address':'somewhere', 'num':66663333}}\n",
    "print(poi['information']['address'])\n",
    "# 对于嵌套字典，输出嵌套内容，通过重复指向来输出\n",
    "\n",
    "print(poi.get('name'))\n",
    "print(poi.get('type',print('nothing')))\n",
    "# .get(key)方法：直接查看key的value，如果没有相应key则返回None，添加print参数可以多返回一个值\n",
    "\n",
    "print(poi.keys(),type(poi.keys()))\n",
    "print(list(poi.keys()))\n",
    "# .keys()方法：输出字典所有key，注意这里的输出内容格式是视图，可以用list()得到key的列表，类似range()\n",
    "\n",
    "print(poi.values(),type(poi.values()))\n",
    "print(list(poi.values()))\n",
    "# .values()方法：输出字典所有values，原理同.keys()方法\n",
    "\n",
    "print(poi.items(),type(poi.items()))\n",
    "print(list(poi.items()))\n",
    "# .items()方法：输出字典所有items（元素），原理同.keys()方法"
   ]
  },
  {
   "cell_type": "code",
   "execution_count": 60,
   "metadata": {},
   "outputs": [
    {
     "name": "stdout",
     "output_type": "stream",
     "text": [
      "name\n",
      "city\n",
      "information\n",
      "-------\n",
      "shop\n",
      "shanghai\n",
      "{'address': 'somewhere', 'num': 66663333}\n",
      "-------\n",
      "key为 name, value为 shop\n",
      "key为 city, value为 shanghai\n",
      "key为 information, value为 {'address': 'somewhere', 'num': 66663333}\n",
      "-------\n"
     ]
    }
   ],
   "source": [
    "# 字典的元素遍历\n",
    "\n",
    "poi = {'name':'shop', 'city':'shanghai', 'information':{'address':'somewhere', 'num':66663333}}\n",
    "for key in poi.keys():\n",
    "    print(key)\n",
    "print('-------')\n",
    "\n",
    "for value in poi.values():\n",
    "    print(value)\n",
    "print('-------')\n",
    "\n",
    "for (k,v) in poi.items():\n",
    "    print('key为 %s, value为 %s' %(k,v))\n",
    "print('-------')  \n",
    "# for函数遍历"
   ]
  },
  {
   "cell_type": "markdown",
   "metadata": {},
   "source": [
    "## 三、函数"
   ]
  },
  {
   "cell_type": "code",
   "execution_count": 61,
   "metadata": {},
   "outputs": [
    {
     "name": "stdout",
     "output_type": "stream",
     "text": [
      "100\n",
      "1000\n"
     ]
    }
   ],
   "source": [
    "# 默认参数\n",
    "\n",
    "def f(x,n = 2):\n",
    "    return(x**n)\n",
    "print(f(10))\n",
    "print(f(10,3))\n",
    "# n = 2,这里n的默认值为2，如果不输入则以默认值为主"
   ]
  },
  {
   "cell_type": "markdown",
   "metadata": {},
   "source": [
    "### A 可变参数"
   ]
  },
  {
   "cell_type": "code",
   "execution_count": 62,
   "metadata": {},
   "outputs": [
    {
     "name": "stdout",
     "output_type": "stream",
     "text": [
      "(1,)\n",
      "('a', 'b')\n",
      "(1, 2, 3, [44, 33])\n",
      "('a', 'b')\n",
      "<class 'tuple'>\n"
     ]
    }
   ],
   "source": [
    "# 可变参数\n",
    "\n",
    "def f(*x):\n",
    "    print(x)\n",
    "    return x\n",
    "f(1)\n",
    "f('a','b')\n",
    "f(1,2,3,[44,33])\n",
    "print(type(f('a','b')))\n",
    "# 通过*来定义可变参数\n",
    "# 默认会把可变参数传入一个元祖！"
   ]
  },
  {
   "cell_type": "markdown",
   "metadata": {},
   "source": [
    "### B 全局变量和局部变量"
   ]
  },
  {
   "cell_type": "code",
   "execution_count": 63,
   "metadata": {},
   "outputs": [
    {
     "name": "stdout",
     "output_type": "stream",
     "text": [
      "请输入一个数字：22\n",
      "函数内为局部变量：呵呵哒\n",
      "函数外为全局变量：22\n"
     ]
    }
   ],
   "source": [
    "# 演示案例\n",
    "\n",
    "def f(m):\n",
    "    m = '呵呵哒'  # 函数作用：把输入变量指向“呵呵哒”\n",
    "    print(\"函数内为局部变量：%s\" % m)    \n",
    "\n",
    "a = input('请输入一个数字：')\n",
    "f(a)\n",
    "print(\"函数外为全局变量：%s\" % a)\n",
    "# f（m）中，m是函数的参数，f(x)是吧x的值赋予了m，但x值自己本身不受影响，所以执行函数后，是在函数局部“变化”了x\n",
    "# 什么是局部变量？ → 当函数定义内声明变量的时候，它们与函数外具有相同名称的其他变量没有任何关系!\n",
    "# 即变量名称对于函数来说是“局部”的。这称为变量的作用域。所有变量的作用域是它们被定义的块，从它们的名称被定义的那点开始。"
   ]
  },
  {
   "cell_type": "markdown",
   "metadata": {},
   "source": [
    "### C global语句"
   ]
  },
  {
   "cell_type": "code",
   "execution_count": 64,
   "metadata": {},
   "outputs": [
    {
     "name": "stdout",
     "output_type": "stream",
     "text": [
      "请输入一个数字：22\n",
      "输入变量值：22\n",
      "函数内转为全局变量：呵呵哒\n"
     ]
    }
   ],
   "source": [
    "# global语句 → 把局部变量变为全局变量\n",
    "\n",
    "def f():\n",
    "    global a\n",
    "    a = '呵呵哒'  \n",
    "    print(\"函数内转为全局变量：%s\" % a)    \n",
    "\n",
    "a = input('请输入一个数字：')\n",
    "print(\"输入变量值：%s\" % a)\n",
    "f()"
   ]
  },
  {
   "cell_type": "markdown",
   "metadata": {},
   "source": [
    "### D lambda函数"
   ]
  },
  {
   "cell_type": "code",
   "execution_count": 65,
   "metadata": {},
   "outputs": [
    {
     "name": "stdout",
     "output_type": "stream",
     "text": [
      "9\n",
      "9\n"
     ]
    }
   ],
   "source": [
    "# 示例\n",
    "\n",
    "def fun(a,b,c):\n",
    "    return a+b+c\n",
    "print(fun(2,3,4))\n",
    "# def创建自定义函数，求和\n",
    "\n",
    "f = lambda a,b,c:a+b+c\n",
    "print(f(2,3,4))\n",
    "# lambda作为匿名函数，是不需要函数名的 → 需要一个函数，又不想动脑筋去想名字，这就是匿名函数\n",
    "# lambda的主体是一个表达式，而不是一个代码块。\n",
    "# lambda只有一行，仅仅能在lambda表达式中封装有限的逻辑进去。"
   ]
  },
  {
   "cell_type": "markdown",
   "metadata": {},
   "source": [
    "## 四、模块与包"
   ]
  },
  {
   "cell_type": "markdown",
   "metadata": {},
   "source": [
    "### A 模块路径问题"
   ]
  },
  {
   "cell_type": "code",
   "execution_count": 66,
   "metadata": {},
   "outputs": [
    {
     "name": "stdout",
     "output_type": "stream",
     "text": [
      "D:\\anaconda\\lib\\site-packages\\pandas\\__init__.py\n"
     ]
    }
   ],
   "source": [
    "# 模块路径问题\n",
    "\n",
    "import pandas\n",
    "print(pandas.__file__)\n",
    "# 查看现有包所在路径，将自己创建的包存入改路径\n",
    "\n",
    "import sys\n",
    "sys.path.append('C:/Users/Hjx/Desktop/')\n",
    "# 加载sys包，把新建的testmodel所在路径添加上"
   ]
  },
  {
   "cell_type": "markdown",
   "metadata": {},
   "source": [
    "### B random模块"
   ]
  },
  {
   "cell_type": "code",
   "execution_count": 67,
   "metadata": {},
   "outputs": [
    {
     "name": "stdout",
     "output_type": "stream",
     "text": [
      "0.5560192546969622 8.478579252858514\n",
      "1\n",
      "0 l\n",
      "[19, 3, 4, 7, 14]\n",
      "[1, 3, 13, 5, 11, 9, 7]\n"
     ]
    }
   ],
   "source": [
    "# python标准模块 —— random随机数\n",
    "\n",
    "import random\n",
    "\n",
    "x = random.random()\n",
    "y = random.random()\n",
    "print(x,y*10)\n",
    "# random.random()随机生成一个[0:1)的随机数\n",
    "\n",
    "m = random.randint(0,10)\n",
    "print(m)\n",
    "# random.randint()随机生成一个[0:10]的整数\n",
    "\n",
    "st1 = random.choice(list(range(10)))\n",
    "st2 = random.choice('abcdnehgjla')\n",
    "print(st1,st2)\n",
    "# random.choice()随机获取()中的一个元素，()种必须是一个有序类型\n",
    "\n",
    "lst = list(range(20))\n",
    "sli = random.sample(lst,5)\n",
    "print(sli)\n",
    "# random.sample(a,b)随机获取a中指定b长度的片段，不会改变原序列\n",
    "\n",
    "lst = [1,3,5,7,9,11,13]\n",
    "random.shuffle(lst)\n",
    "print(lst)\n",
    "# random.shuffle(list)将一个列表内的元素打乱"
   ]
  },
  {
   "cell_type": "markdown",
   "metadata": {},
   "source": [
    "## 五、商品数据加载练习"
   ]
  },
  {
   "cell_type": "code",
   "execution_count": 105,
   "metadata": {},
   "outputs": [
    {
     "name": "stdout",
     "output_type": "stream",
     "text": [
      "comment\n",
      "我要点评\n",
      "74                    条点评\n",
      "265                    条点评\n",
      "2748                    条点评\n",
      "5                    条点评\n",
      "785                    条点评\n",
      "3779                    条点评\n",
      "458                    条点评\n",
      "1280                    条点评\n"
     ]
    },
    {
     "data": {
      "text/plain": [
       "0"
      ]
     },
     "execution_count": 105,
     "metadata": {},
     "output_type": "execute_result"
    }
   ],
   "source": [
    "# 读取数据第3列\n",
    "f=open('G:/DeapLearing/4500OLG/Data/商铺数据.csv','r',encoding='utf8')\n",
    "for i in f.readlines()[:10]:\n",
    "    print(i.split(',')[2])\n",
    "\n",
    "# 如果不调用f.seek()函数即后续cell不输出数据\n",
    "# 其定义为设置数据的读取位置 ，默认为0 \n",
    "# 避免下次读取无法读取到数据\n",
    "f.seek(0)"
   ]
  },
  {
   "cell_type": "code",
   "execution_count": 106,
   "metadata": {},
   "outputs": [
    {
     "name": "stdout",
     "output_type": "stream",
     "text": [
      "0\n",
      "0\n",
      "74\n",
      "265\n",
      "2748\n",
      "5\n",
      "785\n",
      "3779\n",
      "458\n",
      "1280\n"
     ]
    }
   ],
   "source": [
    "# 清洗数据\n",
    "def fcm(s):\n",
    "    if '条' in s:\n",
    "        return (int(s.split(' ')[0]))\n",
    "    else:\n",
    "#         print(\"缺失数据\")\n",
    "        return 0\n",
    "for i in f.readlines()[:10]:\n",
    "    cm= fcm(i.split(',')[2])\n",
    "    print(cm)"
   ]
  },
  {
   "cell_type": "code",
   "execution_count": 114,
   "metadata": {},
   "outputs": [
    {
     "name": "stdout",
     "output_type": "stream",
     "text": [
      "commentlist\n",
      "\n",
      "口味8.3                                环境8.4                                服务8.5\n",
      "\n",
      "口味7.4                                环境7.6                                服务7.4\n",
      "\n",
      "口味7.0                                环境7.2                                服务7.2\n",
      "\n",
      "口味8.9                                环境8.5                                服务8.4\n",
      "\n",
      "口味7.5                                环境6.8                                服务7.5\n",
      "\n",
      "口味7.4                                环境7.2                                服务7.2\n",
      "\n",
      "口味8.6                                环境8.6                                服务8.6\n",
      "\n",
      "口味7.0                                环境6.5                                服务6.5\n",
      "\n",
      "口味7.7                                环境7.5                                服务7.6\n",
      "\n"
     ]
    },
    {
     "data": {
      "text/plain": [
       "0"
      ]
     },
     "execution_count": 114,
     "metadata": {},
     "output_type": "execute_result"
    }
   ],
   "source": [
    "# 读取数据最后一列\n",
    "f=open('G:/DeapLearing/4500OLG/Data/商铺数据.csv','r',encoding='utf8')\n",
    "for i in f.readlines()[:10]:\n",
    "    print(i.split(',')[-1])\n",
    "\n",
    "# 如果不调用f.seek()函数即后续cell不输出数据\n",
    "# 其定义为设置数据的读取位置 ，默认为0 \n",
    "# 避免下次读取无法读取到数据\n",
    "f.seek(0)"
   ]
  },
  {
   "cell_type": "code",
   "execution_count": 115,
   "metadata": {},
   "outputs": [
    {
     "name": "stdout",
     "output_type": "stream",
     "text": [
      "['commentlist\\n']\n",
      "['口味8.3', '环境8.4', '服务8.5\\n']\n",
      "['口味7.4', '环境7.6', '服务7.4\\n']\n",
      "['口味7.0', '环境7.2', '服务7.2\\n']\n",
      "['口味8.9', '环境8.5', '服务8.4\\n']\n",
      "['口味7.5', '环境6.8', '服务7.5\\n']\n",
      "['口味7.4', '环境7.2', '服务7.2\\n']\n",
      "['口味8.6', '环境8.6', '服务8.6\\n']\n",
      "['口味7.0', '环境6.5', '服务6.5\\n']\n",
      "['口味7.7', '环境7.5', '服务7.6\\n']\n"
     ]
    },
    {
     "data": {
      "text/plain": [
       "0"
      ]
     },
     "execution_count": 115,
     "metadata": {},
     "output_type": "execute_result"
    }
   ],
   "source": [
    "# 处理读取数据最后一列\n",
    "f=open('G:/DeapLearing/4500OLG/Data/商铺数据.csv','r',encoding='utf8')\n",
    "for i in f.readlines()[:10]:\n",
    "    print(i.split(',')[-1].split('                                '))\n",
    "\n",
    "# 如果不调用f.seek()函数即后续cell不输出数据\n",
    "# 其定义为设置数据的读取位置 ，默认为0 \n",
    "# 避免下次读取无法读取到数据\n",
    "f.seek(0)"
   ]
  },
  {
   "cell_type": "code",
   "execution_count": 116,
   "metadata": {},
   "outputs": [
    {
     "name": "stdout",
     "output_type": "stream",
     "text": [
      "缺失数据\n",
      "[8.3, 8.4, 8.5]\n",
      "[7.4, 7.6, 7.4]\n",
      "[7.0, 7.2, 7.2]\n",
      "[8.9, 8.5, 8.4]\n",
      "[7.5, 6.8, 7.5]\n",
      "[7.4, 7.2, 7.2]\n",
      "[8.6, 8.6, 8.6]\n",
      "[7.0, 6.5, 6.5]\n",
      "[7.7, 7.5, 7.6]\n"
     ]
    }
   ],
   "source": [
    "# 清洗数据\n",
    "\n",
    "def fcl(s):\n",
    "    if len(s)==3:\n",
    "        quality = float(s[0][2:])\n",
    "        envi=float(s[1][2:])\n",
    "        service=float(s[2][2:])\n",
    "        return([quality,envi,service])\n",
    "    else:\n",
    "        return('缺失数据')\n",
    "\n",
    "# 读取每一行\n",
    "for i in f.readlines()[:10]:\n",
    "    # 将每一行处理后的数据传入函数 这时是一个列表\n",
    "    cl= fcl(i.split(',')[-1].split('                                '))\n",
    "    print(cl)"
   ]
  },
  {
   "cell_type": "code",
   "execution_count": null,
   "metadata": {},
   "outputs": [],
   "source": []
  }
 ],
 "metadata": {
  "kernelspec": {
   "display_name": "Python 3",
   "language": "python",
   "name": "python3"
  },
  "language_info": {
   "codemirror_mode": {
    "name": "ipython",
    "version": 3
   },
   "file_extension": ".py",
   "mimetype": "text/x-python",
   "name": "python",
   "nbconvert_exporter": "python",
   "pygments_lexer": "ipython3",
   "version": "3.7.1"
  },
  "toc": {
   "base_numbering": 1,
   "nav_menu": {},
   "number_sections": false,
   "sideBar": true,
   "skip_h1_title": false,
   "title_cell": "Table of Contents",
   "title_sidebar": "Contents",
   "toc_cell": false,
   "toc_position": {
    "height": "calc(100% - 180px)",
    "left": "10px",
    "top": "150px",
    "width": "190.391px"
   },
   "toc_section_display": true,
   "toc_window_display": false
  }
 },
 "nbformat": 4,
 "nbformat_minor": 2
}
