{
 "cells": [
  {
   "cell_type": "markdown",
   "metadata": {},
   "source": [
    "## 7\n",
    "Create a function named vectorDotProduct that accepts two lists(vector) as parameters and return an integer(scalar) which is the result of multiplying  the corresponding individual values of the Lists together and summing the product.\n"
   ]
  },
  {
   "cell_type": "code",
   "execution_count": 4,
   "metadata": {},
   "outputs": [
    {
     "name": "stdout",
     "output_type": "stream",
     "text": [
      "72\n"
     ]
    }
   ],
   "source": [
    "def vectorDotProduct():\n",
    "    product=0\n",
    "    # 构建列表 \n",
    "    list1=[8,3,4]\n",
    "    list2=[7,4,1]\n",
    "    # 遍历列表\n",
    "    for i in range(3):\n",
    "        # 用product 去加 两个数的乘积之后 加int是强制类型转换成int 可加可不加\n",
    "        product+=list1[i]*int(list2[i])\n",
    "    # 返回我们最后计算的值\n",
    "    return product\n",
    "# 调用函数将返回的计算值赋值给result\n",
    "result  = vectorDotProduct()\n",
    "print(result)"
   ]
  },
  {
   "cell_type": "code",
   "execution_count": 26,
   "metadata": {},
   "outputs": [
    {
     "name": "stdout",
     "output_type": "stream",
     "text": [
      "72\n"
     ]
    }
   ],
   "source": [
    "def vectorDotProduct():\n",
    "    data=0\n",
    "    # 构建列表 \n",
    "    list1=[8,3,4]\n",
    "    list2=[7,4,1]\n",
    "    data+=list1[0]*list2[0]\n",
    "    data+=list1[1]*list2[1]\n",
    "    data+=list1[2]*list2[2]\n",
    "    # 返回我们最后计算的值\n",
    "    return data\n",
    "\n",
    "\n",
    "# 调用函数将返回的计算值赋值给result\n",
    "result  = vectorDotProduct()\n",
    "print(result)"
   ]
  },
  {
   "cell_type": "markdown",
   "metadata": {},
   "source": [
    "## 8\n",
    "create a function named vectorsOrthogonal that accepts two List as parameters and returns Trur if the Dot Product(see slide 13) is o and False otherwise."
   ]
  },
  {
   "cell_type": "code",
   "execution_count": 28,
   "metadata": {},
   "outputs": [
    {
     "name": "stdout",
     "output_type": "stream",
     "text": [
      "True\n"
     ]
    }
   ],
   "source": [
    "\n",
    "def vectorsOrthogonal(list1,list2):\n",
    "    data=0\n",
    "    \n",
    "#     list1=[8,3,4]\n",
    "#     list2=[7,4,1]\n",
    "    data+=list1[0]*list2[0]\n",
    "    data+=list1[1]*list2[1]\n",
    "    data+=list1[2]*list2[2]\n",
    "    # 求和公式同7 \n",
    "    # 下面判断最后的结果是0还是1 如果是0 返回的True 注意T要大写\n",
    "    # 如果是1 返回 False F大写\n",
    "    if data==0:\n",
    "        return True\n",
    "    else:\n",
    "        return False\n",
    "list1=[2,3,1]\n",
    "list2=[3,1,-9]\n",
    "result  = vectorsOrthogonal(list1,list2)\n",
    "print(result)"
   ]
  },
  {
   "cell_type": "markdown",
   "metadata": {},
   "source": [
    "## 3\n",
    "create a function named vectorMagnitude that accepts a List(vector) and returns a float which is square root of the sum of the squared values in the array.this represents the magnitude of a vector.\n"
   ]
  },
  {
   "cell_type": "code",
   "execution_count": 34,
   "metadata": {},
   "outputs": [
    {
     "name": "stdout",
     "output_type": "stream",
     "text": [
      "9.43\n",
      "<class 'float'>\n"
     ]
    }
   ],
   "source": [
    "def vectorMagnitude():\n",
    "    data=0\n",
    "    list1=[8,3,4]\n",
    "    # 调用内置函数 两个*表示次方 后面的2 表示2次方 将三个数的2次方值求和\n",
    "    data+=list1[0]**2+list1[1]**2+list1[2]**2\n",
    "    # 判断是否为负数 如果是负数则取反\n",
    "    if data<=0:\n",
    "        data =-data\n",
    "    # 0.5次方即开平方\n",
    "    data = data**0.5\n",
    "    #因为我本身定义的product值是0 返回的值即 float类型\n",
    "    return data\n",
    "\n",
    "\n",
    "result  = vectorMagnitude()\n",
    "# 如果要保留两位小数加下面的round内置函数即可\n",
    "result = round(result,2)\n",
    "print(result)\n",
    "# 验证是否是float类型 答案不需要写\n",
    "print(type(result))"
   ]
  },
  {
   "cell_type": "code",
   "execution_count": null,
   "metadata": {},
   "outputs": [],
   "source": []
  }
 ],
 "metadata": {
  "kernelspec": {
   "display_name": "Python 3",
   "language": "python",
   "name": "python3"
  },
  "language_info": {
   "codemirror_mode": {
    "name": "ipython",
    "version": 3
   },
   "file_extension": ".py",
   "mimetype": "text/x-python",
   "name": "python",
   "nbconvert_exporter": "python",
   "pygments_lexer": "ipython3",
   "version": "3.7.1"
  }
 },
 "nbformat": 4,
 "nbformat_minor": 2
}
