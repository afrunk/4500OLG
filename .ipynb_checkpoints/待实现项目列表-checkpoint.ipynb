{
 "cells": [
  {
   "cell_type": "markdown",
   "metadata": {},
   "source": [
    "# 待实现项目列表"
   ]
  },
  {
   "cell_type": "markdown",
   "metadata": {},
   "source": [
    "## 1 房价预测"
   ]
  },
  {
   "cell_type": "markdown",
   "metadata": {},
   "source": [
    "\n",
    "1. [上海二手房房价分析](https://blog.csdn.net/Caesar1993_Wang/article/details/80237461?depth_1-utm_source=distribute.pc_relevant.none-task&utm_source=distribute.pc_relevant.none-task)：美中不足的是只有报告，没有数据和获取数据的过程\n",
    "2. [基于Python的南京二手房数据采集及可视化分析](https://github.com/ideaOzy/data_analysis)：什么都有，基于GITHUB的二手房关键词搜索找到。\n",
    "3. [二手房房价影响因素分析](https://blog.csdn.net/qq_29663489/article/details/89380059):kaggle 项目\n"
   ]
  },
  {
   "cell_type": "markdown",
   "metadata": {},
   "source": [
    "## 2. 共享单车项目"
   ]
  },
  {
   "cell_type": "markdown",
   "metadata": {},
   "source": [
    "1. [共享单车项目分析](https://blog.csdn.net/Caesar1993_Wang/article/details/80310491)"
   ]
  }
 ],
 "metadata": {
  "kernelspec": {
   "display_name": "Python 3",
   "language": "python",
   "name": "python3"
  },
  "language_info": {
   "codemirror_mode": {
    "name": "ipython",
    "version": 3
   },
   "file_extension": ".py",
   "mimetype": "text/x-python",
   "name": "python",
   "nbconvert_exporter": "python",
   "pygments_lexer": "ipython3",
   "version": "3.7.1"
  }
 },
 "nbformat": 4,
 "nbformat_minor": 2
}
