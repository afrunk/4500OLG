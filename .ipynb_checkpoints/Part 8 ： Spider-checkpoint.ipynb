{
 "cells": [
  {
   "cell_type": "markdown",
   "metadata": {},
   "source": [
    "# Spider\n",
    "知识点\n",
    "- 实战爬虫\n",
    "- 将数据存储到MongoDB"
   ]
  },
  {
   "cell_type": "markdown",
   "metadata": {},
   "source": [
    "## 一、豆瓣实战Ι 简单尝试\n",
    "2020-3-10\n",
    "知识点：\n",
    "- 如何使用Cookie和Headers来避免被反扒和登录\n",
    "- 如何避免获取的HTML字符解析不正常\n",
    "- 使用BeautifulSoup来解析网页内容"
   ]
  },
  {
   "cell_type": "markdown",
   "metadata": {},
   "source": [
    "###  A Test"
   ]
  },
  {
   "cell_type": "code",
   "execution_count": 11,
   "metadata": {},
   "outputs": [
    {
     "name": "stdout",
     "output_type": "stream",
     "text": [
      "\n",
      "affunk的帐号\n",
      "\n"
     ]
    }
   ],
   "source": [
    "import requests\n",
    "url='https://book.douban.com/tag/%E5%8E%86%E5%8F%B2'\n",
    "\n",
    "header ={\n",
    "    'User-Agent':'Mozilla/5.0 (Windows NT 10.0; Win64; x64) AppleWebKit/537.36 (KHTML, like Gecko) Chrome/78.0.3904.97 Safari/537.36'\n",
    "}\n",
    "# 将cookies存储到字典的方法\n",
    "cookies  = 'bid=P_ZKV9BVHfE; __utmc=30149280; ll=\"118271\"; _vwo_uuid_v2=D5F6301CCA0BA1F403310BBDB612A50A8|a7920ac816b0fa2e758cd41c10b386ce; gr_user_id=c45f1875-a6e0-43d9-aa34-cd019cf81e6b; __utmv=30149280.18622; douban-fav-remind=1; viewed=\"3165271_4254271\"; __utmc=81379588; gr_cs1_b61834d4-dee7-400e-b3ef-ba1189b0456b=user_id%3A0; ap_v=0,6.0; __utma=30149280.696154547.1563276061.1583499887.1583829730.30; __utmz=30149280.1583829730.30.17.utmcsr=baidu|utmccn=(organic)|utmcmd=organic; __utmt_douban=1; __utma=81379588.1649039511.1582552835.1582552835.1583829730.2; __utmz=81379588.1583829730.2.2.utmcsr=baidu|utmccn=(organic)|utmcmd=organic; __utmt=1; _pk_ref.100001.3ac3=%5B%22%22%2C%22%22%2C1583829730%2C%22https%3A%2F%2Fwww.baidu.com%2Flink%3Furl%3DuNphXXY-esw0TdBmKkUMe2BS2M-TjiIZi-QBZGAcYwXjmUMfOtxJRMnkop0Bperh%26wd%3D%26eqid%3D94ea1a200002da69000000055e6752aa%22%5D; _pk_ses.100001.3ac3=*; dbcl2=\"186229531:3ufBftA4bfw\"; ck=OeSD; gr_session_id_22c937bbd8ebd703f2d8e9445f7dfd03=e3637341-2cf6-460d-836a-b24b088f6d0d; gr_cs1_e3637341-2cf6-460d-836a-b24b088f6d0d=user_id%3A1; gr_session_id_22c937bbd8ebd703f2d8e9445f7dfd03_e3637341-2cf6-460d-836a-b24b088f6d0d=true; push_noty_num=0; push_doumail_num=0; _pk_id.100001.3ac3=527bb4a0a2a1ee2d.1582552835.2.1583829810.1582552835.; __utmb=30149280.4.10.1583829730; __utmb=81379588.4.10.1583829730'\n",
    "clst = cookies.split(';')\n",
    "dic_c={}\n",
    "for i in clst:\n",
    "    dic_c[i.split('=')[0]]=i.split('=')[1]\n",
    "# print(dic_c)\n",
    "# 如果不添加 headers 和 cookies的话会导致返回 418\n",
    "\n",
    "\n",
    "r= requests.get(url,headers=header,cookies=dic_c)\n",
    "\n",
    "# 如果编码不正常添加如下代码即可\n",
    "# r.encodng = r.apprent_encoding\n",
    "# print(r.text)\n",
    "from bs4 import BeautifulSoup\n",
    "soup = BeautifulSoup(r.text,'lxml')\n",
    "# print(soup)\n",
    "name = soup.find('li',class_='nav-user-account').find('a').text\n",
    "print(name)"
   ]
  },
  {
   "cell_type": "markdown",
   "metadata": {},
   "source": [
    "### B 实战"
   ]
  },
  {
   "cell_type": "code",
   "execution_count": 17,
   "metadata": {},
   "outputs": [
    {
     "name": "stdout",
     "output_type": "stream",
     "text": [
      "导入成功！\n",
      "['https://book.douban.com/tag/%E6%9C%BA%E5%99%A8%E5%AD%A6%E4%B9%A0?start=0&type=T', 'https://book.douban.com/tag/%E6%9C%BA%E5%99%A8%E5%AD%A6%E4%B9%A0?start=20&type=T', 'https://book.douban.com/tag/%E6%9C%BA%E5%99%A8%E5%AD%A6%E4%B9%A0?start=40&type=T', 'https://book.douban.com/tag/%E6%9C%BA%E5%99%A8%E5%AD%A6%E4%B9%A0?start=60&type=T', 'https://book.douban.com/tag/%E6%9C%BA%E5%99%A8%E5%AD%A6%E4%B9%A0?start=80&type=T', 'https://book.douban.com/tag/%E6%9C%BA%E5%99%A8%E5%AD%A6%E4%B9%A0?start=100&type=T', 'https://book.douban.com/tag/%E6%9C%BA%E5%99%A8%E5%AD%A6%E4%B9%A0?start=120&type=T', 'https://book.douban.com/tag/%E6%9C%BA%E5%99%A8%E5%AD%A6%E4%B9%A0?start=140&type=T', 'https://book.douban.com/tag/%E6%9C%BA%E5%99%A8%E5%AD%A6%E4%B9%A0?start=160&type=T', 'https://book.douban.com/tag/%E6%9C%BA%E5%99%A8%E5%AD%A6%E4%B9%A0?start=180&type=T']\n"
     ]
    }
   ],
   "source": [
    "import requests\n",
    "from bs4 import BeautifulSoup\n",
    "import pandas as pd\n",
    "print(\"导入成功！\")\n",
    "\n",
    "header ={\n",
    "    'User-Agent':'Mozilla/5.0 (Windows NT 10.0; Win64; x64) AppleWebKit/537.36 (KHTML, like Gecko) Chrome/78.0.3904.97 Safari/537.36'\n",
    "}\n",
    "# 将cookies存储到字典的方法\n",
    "cookies  = 'bid=P_ZKV9BVHfE; __utmc=30149280; ll=\"118271\"; _vwo_uuid_v2=D5F6301CCA0BA1F403310BBDB612A50A8|a7920ac816b0fa2e758cd41c10b386ce; gr_user_id=c45f1875-a6e0-43d9-aa34-cd019cf81e6b; __utmv=30149280.18622; douban-fav-remind=1; viewed=\"3165271_4254271\"; __utmc=81379588; gr_cs1_b61834d4-dee7-400e-b3ef-ba1189b0456b=user_id%3A0; ap_v=0,6.0; __utma=30149280.696154547.1563276061.1583499887.1583829730.30; __utmz=30149280.1583829730.30.17.utmcsr=baidu|utmccn=(organic)|utmcmd=organic; __utmt_douban=1; __utma=81379588.1649039511.1582552835.1582552835.1583829730.2; __utmz=81379588.1583829730.2.2.utmcsr=baidu|utmccn=(organic)|utmcmd=organic; __utmt=1; _pk_ref.100001.3ac3=%5B%22%22%2C%22%22%2C1583829730%2C%22https%3A%2F%2Fwww.baidu.com%2Flink%3Furl%3DuNphXXY-esw0TdBmKkUMe2BS2M-TjiIZi-QBZGAcYwXjmUMfOtxJRMnkop0Bperh%26wd%3D%26eqid%3D94ea1a200002da69000000055e6752aa%22%5D; _pk_ses.100001.3ac3=*; dbcl2=\"186229531:3ufBftA4bfw\"; ck=OeSD; gr_session_id_22c937bbd8ebd703f2d8e9445f7dfd03=e3637341-2cf6-460d-836a-b24b088f6d0d; gr_cs1_e3637341-2cf6-460d-836a-b24b088f6d0d=user_id%3A1; gr_session_id_22c937bbd8ebd703f2d8e9445f7dfd03_e3637341-2cf6-460d-836a-b24b088f6d0d=true; push_noty_num=0; push_doumail_num=0; _pk_id.100001.3ac3=527bb4a0a2a1ee2d.1582552835.2.1583829810.1582552835.; __utmb=30149280.4.10.1583829730; __utmb=81379588.4.10.1583829730'\n",
    "clst = cookies.split(';')\n",
    "dic_c={}\n",
    "for i in clst:\n",
    "    dic_c[i.split('=')[0]]=i.split('=')[1]\n",
    "\n",
    "u0 ='https://book.douban.com/tag/%E6%9C%BA%E5%99%A8%E5%AD%A6%E4%B9%A0start=40&type=T'\n",
    "\n",
    "def get_urls(n):\n",
    "    \"\"\"\n",
    "    分页网页URL采集 函数\n",
    "    n:页数参数\n",
    "    结果：得到一个分页网页的list\n",
    "    \"\"\"\n",
    "    lst=[]\n",
    "    for i in range(n):\n",
    "        # %% 必须是双引号 否则无法生效\n",
    "        ui='https://book.douban.com/tag/%%E6%%9C%%BA%%E5%%99%%A8%%E5%%AD%%A6%%E4%%B9%%A0?start=%i&type=T'%(i*20)\n",
    "        lst.append(ui)\n",
    "    return lst\n",
    "retun_lst = get_urls(10)\n",
    "\n"
   ]
  },
  {
   "cell_type": "markdown",
   "metadata": {},
   "source": [
    "## 二、MongoDB"
   ]
  },
  {
   "cell_type": "markdown",
   "metadata": {},
   "source": [
    "- NoSQL 是什么\n",
    "    - 非关系型数据库，相对于SQL关系型数据库来说\n",
    "    - NoSQL = Not Only SQL 不仅仅是SQL\n",
    "    - NoSQL用来存储超大规模数据的存储，这些类型的数据存储不需要固定的模式，无需多余操作就可以横向扩展\n",
    "- 优点\n",
    "    - 高可扩展性\n",
    "    - 分布式计算\n",
    "    - 低成本\n",
    "    - 架构的灵活性，半结构化数据\n",
    "    - 没有复杂关系\n",
    "- MongoDB\n",
    "    - 概念：MongoDB是一个基于分布式文件存储的数据库。由C++语言编写。旨在为web应用提供高扩展性的高性能数据存储解决方案\n",
    "    - 存储对象\n",
    "        - MongoDB 将数据存储为一个文档，数据结构由键值对组成\n",
    "        - MongoDB文档类似于JSON对象，字段值可以包含其他文档，数组及文档数组\n"
   ]
  },
  {
   "cell_type": "markdown",
   "metadata": {},
   "source": [
    "### A 安装MongoDB\n",
    "[MongoDB ](https://www.mongodb.com/dr/fastdl.mongodb.org/win32/mongodb-win32-x86_64-2012plus-4.2.3-signed.msi/download)<br>\n",
    "\n",
    "安装好了之后，需要找到MongoDB的BIN目录，添加到环境变量中去。然后我们直接参考该文章 [MongoDB安装配置详细教程-window10](https://blog.csdn.net/xueyawuhai/article/details/98973708?depth_1-utm_source=distribute.pc_relevant.none-task&utm_source=distribute.pc_relevant.none-task)，**需要注意的地方就是必须在管理员权限下运行CMD才能生效。**"
   ]
  },
  {
   "cell_type": "markdown",
   "metadata": {},
   "source": [
    "### B 基本语法\n",
    "\n",
    "- show dbs 查看所有数据库\n",
    "- db 查看现运行的数据库\n",
    "- 数据库必须有数据，才可以显示\n",
    "- db.table02.insert(...)这里虽然没有创建集合，但是mongodb中当你插入一些文档时 MongoDB会自动创建集合"
   ]
  },
  {
   "cell_type": "code",
   "execution_count": null,
   "metadata": {},
   "outputs": [],
   "source": [
    "# 查看所有的数据库\n",
    "> show dbs\n",
    "admin   0.000GB\n",
    "config  0.000GB\n",
    "local   0.000GB\n",
    "# 查看当前的数据库\n",
    "> db\n",
    "test\n",
    "# 往当前数据库插入数据\n",
    "> db.table.insert({\"a\":1,\"b\":2})\n",
    "WriteResult({ \"nInserted\" : 1 })\n",
    "# 发现test数据库显示出来了\n",
    "> show dbs\n",
    "admin   0.000GB\n",
    "config  0.000GB\n",
    "local   0.000GB\n",
    "test    0.000GB\n",
    "# 删除当前数据库\n",
    "> db.dropDatabase()\n",
    "{ \"dropped\" : \"test\", \"ok\" : 1 }\n",
    "# 发现test数据库消失了\n",
    "> show dbs\n",
    "admin   0.000GB\n",
    "config  0.000GB\n",
    "local   0.000GB"
   ]
  },
  {
   "cell_type": "markdown",
   "metadata": {},
   "source": [
    "### C 数据类型"
   ]
  },
  {
   "cell_type": "markdown",
   "metadata": {},
   "source": [
    "- String 字符串\n",
    "- Integer 整型\n",
    "- Boolean 布尔值\n",
    "- Timestamp 时间戳\n",
    "- Min/Max keys 将一个值与BSON元素的最低值和最高值比较\n",
    "- Array 将数组或列表或多个值存储为一个键\n",
    "- Object 用于内嵌文档\n",
    "- Null 用于创建空值\n",
    "- Symbol 符号 等同于字符串类型\n",
    "- Date 日期时间\n"
   ]
  },
  {
   "cell_type": "markdown",
   "metadata": {},
   "source": [
    "### D Robo 3T 的安装与使用\n",
    "[参考文章](https://www.cnblogs.com/jianxian/p/12262670.html)"
   ]
  },
  {
   "cell_type": "markdown",
   "metadata": {},
   "source": [
    "### E 使用Pymongo 连接 MongoDB  处理数据"
   ]
  },
  {
   "cell_type": "markdown",
   "metadata": {},
   "source": [
    "#### 1 连接数据库"
   ]
  },
  {
   "cell_type": "code",
   "execution_count": 24,
   "metadata": {},
   "outputs": [
    {
     "name": "stdout",
     "output_type": "stream",
     "text": [
      "<class 'pymongo.mongo_client.MongoClient'>\n",
      "['admin', 'config', 'douban', 'local']\n"
     ]
    }
   ],
   "source": [
    "import pymongo\n",
    "# 链接数据库\n",
    "muclient =pymongo.MongoClient(\"mongodb://localhost:27017/\")\n",
    "print(type(muclient))\n",
    "# 输出当前数据库的名字\n",
    "print(muclient.list_database_names())"
   ]
  },
  {
   "cell_type": "markdown",
   "metadata": {},
   "source": [
    "#### 2 查询该数据库下有多少个集合"
   ]
  },
  {
   "cell_type": "code",
   "execution_count": 28,
   "metadata": {},
   "outputs": [
    {
     "name": "stdout",
     "output_type": "stream",
     "text": [
      "['table']\n"
     ]
    }
   ],
   "source": [
    "# 链接douban数据库\n",
    "db1 = muclient['douban']\n",
    "# 查询该数据库下有多少个集合\n",
    "print(db1.list_collection_names())"
   ]
  },
  {
   "cell_type": "markdown",
   "metadata": {},
   "source": [
    "#### 3 查询某个集合 并输出集合内的数据"
   ]
  },
  {
   "cell_type": "code",
   "execution_count": 33,
   "metadata": {},
   "outputs": [
    {
     "name": "stdout",
     "output_type": "stream",
     "text": [
      "{'_id': ObjectId('5e6775da504c65681c5981c2'), 'name': '小明', 'age': 12.0}\n",
      "小明\n",
      "{'_id': ObjectId('5e67763d504c65681c5981c3'), 'name': '小王', 'age': 19.0}\n",
      "小王\n",
      "{'_id': ObjectId('5e677882277b8c39a9854536'), 'name': '小美', 'age': 20}\n",
      "小美\n"
     ]
    }
   ],
   "source": [
    "# 将table集合复制给变量data1\n",
    "data1 = db1['table']\n",
    "# 遍历data1的查询结果 切片前10个元素 然后进行变量输出\n",
    "for i in data1.find()[:10]:\n",
    "    print(i)\n",
    "    print(i['name'])"
   ]
  },
  {
   "cell_type": "markdown",
   "metadata": {},
   "source": [
    "#### 4 创建一个集合并将数据插入到数据库"
   ]
  },
  {
   "cell_type": "code",
   "execution_count": 34,
   "metadata": {},
   "outputs": [
    {
     "data": {
      "text/plain": [
       "<pymongo.results.InsertOneResult at 0x219f8b78c88>"
      ]
     },
     "execution_count": 34,
     "metadata": {},
     "output_type": "execute_result"
    }
   ],
   "source": [
    "# 创建一个新的集合并将数据插入其中\n",
    "data2=db1['table_2']\n",
    "dic = {\"id\":1,\"value\":10}\n",
    "# 将集合data2插入到数据库douban中\n",
    "data2.insert_one(dic)"
   ]
  },
  {
   "cell_type": "code",
   "execution_count": 38,
   "metadata": {},
   "outputs": [
    {
     "name": "stdout",
     "output_type": "stream",
     "text": [
      "{'_id': ObjectId('5e677ada17a7209b972bb009'), 'id': 1, 'value': 10}\n"
     ]
    }
   ],
   "source": [
    "# 遍历data2集合 输出里面的数据\n",
    "for i in data2.find():\n",
    "    print(i)"
   ]
  },
  {
   "cell_type": "code",
   "execution_count": 41,
   "metadata": {},
   "outputs": [
    {
     "name": "stdout",
     "output_type": "stream",
     "text": [
      "{'_id': ObjectId('5e677ada17a7209b972bb009'), 'id': 1, 'value': 10}\n",
      "{'_id': ObjectId('5e677be517a7209b972bb00a'), 'id': 1, 'value': 11}\n",
      "{'_id': ObjectId('5e677be517a7209b972bb00b'), 'id': 2, 'value': 2}\n",
      "{'_id': ObjectId('5e677be517a7209b972bb00c'), 'id': 3, 'value': 13}\n",
      "{'_id': ObjectId('5e677be517a7209b972bb00d'), 'id': 4, 'value': 110}\n",
      "{'_id': ObjectId('5e677be517a7209b972bb00e'), 'id': 5, 'value': 32}\n",
      "{'_id': ObjectId('5e677be517a7209b972bb00f'), 'id': 6, 'value': 31}\n",
      "{'_id': ObjectId('5e677bef17a7209b972bb010'), 'id': 1, 'value': 11}\n",
      "{'_id': ObjectId('5e677bef17a7209b972bb011'), 'id': 2, 'value': 2}\n",
      "{'_id': ObjectId('5e677bef17a7209b972bb012'), 'id': 3, 'value': 13}\n",
      "{'_id': ObjectId('5e677bef17a7209b972bb013'), 'id': 4, 'value': 110}\n",
      "{'_id': ObjectId('5e677bef17a7209b972bb014'), 'id': 5, 'value': 32}\n",
      "{'_id': ObjectId('5e677bef17a7209b972bb015'), 'id': 6, 'value': 31}\n"
     ]
    }
   ],
   "source": [
    "diclist = [\n",
    "    {\"id\":1,\"value\":11},\n",
    "    {\"id\":2,\"value\":2},\n",
    "    {\"id\":3,\"value\":13},\n",
    "    {\"id\":4,\"value\":110},\n",
    "    {\"id\":5,\"value\":32},\n",
    "    {\"id\":6,\"value\":31},\n",
    "]\n",
    "# 将集合data2插入到数据库douban中\n",
    "data2.insert_many(diclist)\n",
    "for i in data2.find():\n",
    "    print(i)"
   ]
  },
  {
   "cell_type": "markdown",
   "metadata": {},
   "source": [
    "#### 5 删除数据"
   ]
  },
  {
   "cell_type": "code",
   "execution_count": 46,
   "metadata": {},
   "outputs": [
    {
     "data": {
      "text/plain": [
       "<pymongo.results.DeleteResult at 0x219f910da08>"
      ]
     },
     "execution_count": 46,
     "metadata": {},
     "output_type": "execute_result"
    }
   ],
   "source": [
    "# 删除id=1的一个值\n",
    "data2.delete_one({'id':1})"
   ]
  },
  {
   "cell_type": "markdown",
   "metadata": {},
   "source": [
    "for i in data2.find():\n",
    "    print(i)"
   ]
  },
  {
   "cell_type": "code",
   "execution_count": 48,
   "metadata": {},
   "outputs": [
    {
     "data": {
      "text/plain": [
       "<pymongo.results.DeleteResult at 0x219f93351c8>"
      ]
     },
     "execution_count": 48,
     "metadata": {},
     "output_type": "execute_result"
    }
   ],
   "source": [
    "# 删除id=2的所有数据\n",
    "data2.delete_many({'id':2})"
   ]
  },
  {
   "cell_type": "code",
   "execution_count": 49,
   "metadata": {},
   "outputs": [
    {
     "name": "stdout",
     "output_type": "stream",
     "text": [
      "{'_id': ObjectId('5e677be517a7209b972bb00c'), 'id': 3, 'value': 13}\n",
      "{'_id': ObjectId('5e677be517a7209b972bb00d'), 'id': 4, 'value': 110}\n",
      "{'_id': ObjectId('5e677be517a7209b972bb00e'), 'id': 5, 'value': 32}\n",
      "{'_id': ObjectId('5e677be517a7209b972bb00f'), 'id': 6, 'value': 31}\n",
      "{'_id': ObjectId('5e677bef17a7209b972bb010'), 'id': 1, 'value': 11}\n",
      "{'_id': ObjectId('5e677bef17a7209b972bb012'), 'id': 3, 'value': 13}\n",
      "{'_id': ObjectId('5e677bef17a7209b972bb013'), 'id': 4, 'value': 110}\n",
      "{'_id': ObjectId('5e677bef17a7209b972bb014'), 'id': 5, 'value': 32}\n",
      "{'_id': ObjectId('5e677bef17a7209b972bb015'), 'id': 6, 'value': 31}\n"
     ]
    }
   ],
   "source": [
    "for i in data2.find():\n",
    "    print(i)"
   ]
  },
  {
   "cell_type": "markdown",
   "metadata": {},
   "source": [
    "#### 6 删除集合"
   ]
  },
  {
   "cell_type": "code",
   "execution_count": 50,
   "metadata": {},
   "outputs": [],
   "source": [
    "data2.drop()"
   ]
  },
  {
   "cell_type": "code",
   "execution_count": 51,
   "metadata": {},
   "outputs": [
    {
     "name": "stdout",
     "output_type": "stream",
     "text": [
      "['table']\n"
     ]
    }
   ],
   "source": [
    "# 链接douban数据库\n",
    "db1 = muclient['douban']\n",
    "# 查询该数据库下有多少个集合\n",
    "print(db1.list_collection_names())\n",
    "\n",
    "# 可以看到 data2 的集合不见了 "
   ]
  },
  {
   "cell_type": "markdown",
   "metadata": {},
   "source": [
    "#### 7 配合Pandas来使用"
   ]
  },
  {
   "cell_type": "code",
   "execution_count": 56,
   "metadata": {},
   "outputs": [
    {
     "name": "stdout",
     "output_type": "stream",
     "text": [
      "                        _id   age name\n",
      "0  5e6775da504c65681c5981c2  12.0   小明\n",
      "1  5e67763d504c65681c5981c3  19.0   小王\n",
      "2  5e677882277b8c39a9854536  20.0   小美\n",
      "所花时间为：-0.0030\n"
     ]
    }
   ],
   "source": [
    "import time\n",
    "starttime = time.time()\n",
    "data1 = db1['table']\n",
    "datalist = list(data1.find())\n",
    "datadf = pd.DataFrame(datalist)\n",
    "endtime = time.time()\n",
    "print(datadf)\n",
    "print(\"所花时间为：%.4f\" %(starttime-endtime))"
   ]
  },
  {
   "cell_type": "markdown",
   "metadata": {},
   "source": [
    "## 三、豆瓣实战 Π 将数据抓取存储到 MongoDB"
   ]
  },
  {
   "cell_type": "code",
   "execution_count": 79,
   "metadata": {},
   "outputs": [
    {
     "name": "stdout",
     "output_type": "stream",
     "text": [
      "机器学习\n",
      "['周志华 ', ' 清华大学出版社 ', ' 2016-1-1 ', ' 88.00元']\n",
      "(2349人评价)\n",
      "机器学习是计算机科学与人工智能的重要分支领域. 本书作为该领域的入门教材，在内容上尽可能涵盖机器学习基础知识的各方面。 为了使尽可能多的读者通过本书对机器学... \n",
      "Python深度学习\n",
      "['[美] 弗朗索瓦•肖莱 ', ' 人民邮电出版社 ', ' 2018-8 ', ' 119.00元']\n",
      "(484人评价)\n",
      "本书由Keras之父、现任Google人工智能研究员的弗朗索瓦•肖莱（François Chollet）执笔，详尽介绍了用Python和Keras进行深度学... \n",
      "统计学习方法\n",
      "['李航 ', ' 清华大学出版社 ', ' 2012-3 ', ' 38.00元']\n",
      "(2026人评价)\n",
      "详细介绍支持向量机、Boosting、最大熵、条件随机场等十个统计学习方法。 \n",
      "Pattern Recognition and Machine Learning\n",
      "['Christopher Bishop ', ' Springer ', ' 2007-10-1 ', ' USD 94.95']\n",
      "(1286人评价)\n",
      "The dramatic growth in practical applications for machine learning over the la... \n",
      "深度学习\n",
      "['[美] 伊恩·古德费洛、[加] 约书亚·本吉奥、[加] 亚伦·库维尔 ', ' 人民邮电出版社 ', ' 2017-7-1 ', ' 168']\n",
      "(864人评价)\n",
      "《深度学习》由全球知名的三位专家Ian Goodfellow、Yoshua Bengio 和Aaron Courville撰写，是深度学习领域奠基性的经典教... \n",
      "统计学习方法（第2版）\n",
      "['李航 ', ' 清华大学出版社 ', ' 2019-5-1 ', ' 98.00元']\n",
      "(142人评价)\n",
      "统计学习方法即机器学习方法，是计算机及其应用领域的一门重要学科。本书分为监督学 习和无监督学习两篇，全面系统地介绍了统计学习的主要方法。包括感知机、k 近邻... \n",
      "机器学习实战\n",
      "['Peter Harrington ', ' 人民邮电出版社 ', ' 2013-6 ', ' 69.00元']\n",
      "(1116人评价)\n",
      "机器学习是人工智能研究领域中一个极其重要的研究方向，在现今的大数据时代背景下，捕获数据并从中萃取有价值的信息或模式，成为各行业求生存、谋发展的决定性手段，这... \n",
      "深度学习入门           : 基于Python的理论与实现\n",
      "['[ 日］  斋藤康毅 ', ' 人民邮电出版社 ', ' 2018-7 ', ' 59.00元']\n",
      "(451人评价)\n",
      "本书是深度学习真正意义上的入门书，深入浅出地剖析了深度学习的原理和相关技术。书中使用Python3，尽量不依赖外部库或工具，从基本的数学知识出发，带领读者从... \n",
      "Hands-on Machine Learning with Scikit-Learn, Keras, and TensorFlow, 2nd Edition           : Concepts, Tools, and Techniques to Build Intelligent Systems\n",
      "['Aurelien Geron ', ' O′Reilly ', ' 2019-10-11 ', ' GBP 55.99']\n",
      "(49人评价)\n",
      "Through a series of recent breakthroughs, deep learning has boosted the entire... \n",
      "百面机器学习           : 算法工程师带你去面试\n",
      "['诸葛越、葫芦娃 ', ' 人民邮电出版社 ', ' 2018-8-1 ', ' 89.00元']\n",
      "(200人评价)\n",
      "人工智能领域正在以超乎人们想象的速度发展，本书赶在人工智能彻底占领世界之前完成编写，实属万幸。\n",
      "书中收录了超过100道机器学习算法工程师的面试题目和解答，其... \n",
      "The Elements of Statistical Learning           : Data Mining, Inference, and Prediction, Second Edition\n",
      "['Trevor Hastie、Robert Tibshirani、Jerome Friedman ', ' Springer ', ' 2009-10-1 ', ' GBP 62.99']\n",
      "(630人评价)\n",
      "During the past decade there has been an explosion in computation and informat... \n",
      "自然语言处理入门\n",
      "['何晗 ', ' 人民邮电出版社 ', ' 2019-10 ', ' 99.00元']\n",
      "(41人评价)\n",
      "这是一本务实的入门书，助你零起点上手自然语言处理。\n",
      "HanLP 作者何晗汇集多年经验，从基本概念出发，逐步介绍中文分词、词性标注、命名实体识别、信 息抽取、... \n",
      "Hands-On Machine Learning with Scikit-Learn and TensorFlow           : Concepts, Tools, and Techniques for Building Intelligent Systems\n",
      "['Aurélien Géron ', \" O'Reilly Media \", ' 2017-1-25 ', ' USD 49.99']\n",
      "(384人评价)\n",
      "无简介\n",
      "动手学深度学习\n",
      "['阿斯顿·张（Aston Zhang）、李沐（Mu Li）、[美] 扎卡里·C. 立顿（Zachary C. Lipton）、[德] 亚历山大·J. 斯莫拉（Alexander J. Smola） ', ' 人民邮电出版社 ', ' 2019-6 ', ' 85.00元']\n",
      "(119人评价)\n",
      "本书旨在向读者交付有关深度学习的交互式学习体验。书中不仅阐述深度学习的算法原理，还演示它们的实现和运行。与传统图书不同，本书的每一节都是一个可以下载并运行的... \n",
      "神经网络与深度学习\n",
      "['邱锡鹏 ', ' 2019-4-12']\n",
      "(78人评价)\n",
      "复旦大学邱锡鹏老师在 Github 上开放的深度学习书籍\n",
      "https://nndl.github.io/\n",
      "https://github.com/nndl/n... \n",
      "集体智慧编程\n",
      "['TOBY SEGARAN ', ' 电子工业出版社 ', ' 2009-1 ', ' 59.80元']\n",
      "(1468人评价)\n",
      "本书以机器学习与计算统计为主题背景，专门讲述如何挖掘和分析Web上的数据和资源，如何分析用户体验、市场营销、个人品味等诸多信息，并得出有用的结论，通过复杂的... \n",
      "Scikit-Learn与TensorFlow机器学习实用指南（影印版）\n",
      "['Aurélien Géron ', ' 东南大学出版社 ', ' 2017-10-1 ', ' 98.00元']\n",
      "(78人评价)\n",
      "通过具体的例子、很少的理论以及两款成熟的Python框架：Scikit-Learn和TensorFlow，作者Aurélien Géron会帮助你掌握构建智... \n",
      "Python数据科学手册\n",
      "['Jake VanderPlas ', ' 人民邮电出版社 ', ' 2018-1-20 ', ' 109.00元']\n",
      "(177人评价)\n",
      "本书是对以数据深度需求为中心的科学、研究以及针对计算和统计方法的参考书。本书共五章，每章介绍一到两个Python数据科学中的重点工具包。首先从IPython... \n",
      "推荐系统实践\n",
      "['项亮 ', ' 人民邮电出版社 ', ' 2012-6-1 ', ' 49.00元']\n",
      "(1763人评价)\n",
      "内容简介：\n",
      "随着信息技术和互联网的发展，人们逐渐从信息匮乏的时代走入了信息过载（information overload）的时代 。在这个时代，无论是信息消... \n",
      "机器学习实战：基于Scikit-Learn和TensorFlow\n",
      "['Aurélien Géron ', ' 机械工业出版社 ', ' 2018-8 ', ' 119.00']\n",
      "(94人评价)\n",
      "本书主要分为两个部分。第一部分为第1章到第8章，涵盖机器学习的基础理论知识和基本算法——从线性回归到随机森林等，帮助读者掌握Scikit-Learn的常用方... \n"
     ]
    }
   ],
   "source": [
    "# 链接 pymongo 数据库\n",
    "import pymongo\n",
    "client = pymongo.MongoClient(host='localhost',port=27017)\n",
    "# 指定数据库 douban\n",
    "db =client.douban\n",
    "# 指定集合 doubanbooksML\n",
    "collection = db.doubanbooksML\n",
    "\n",
    "\n",
    "import requests\n",
    "from bs4 import BeautifulSoup\n",
    "import pandas as pd\n",
    "# print(\"导入成功！\")\n",
    "\n",
    "header ={\n",
    "    'User-Agent':'Mozilla/5.0 (Windows NT 10.0; Win64; x64) AppleWebKit/537.36 (KHTML, like Gecko) Chrome/78.0.3904.97 Safari/537.36'\n",
    "}\n",
    "# 将cookies存储到字典的方法\n",
    "cookies  = 'bid=P_ZKV9BVHfE; __utmc=30149280; ll=\"118271\"; _vwo_uuid_v2=D5F6301CCA0BA1F403310BBDB612A50A8|a7920ac816b0fa2e758cd41c10b386ce; gr_user_id=c45f1875-a6e0-43d9-aa34-cd019cf81e6b; __utmv=30149280.18622; douban-fav-remind=1; viewed=\"3165271_4254271\"; __utmc=81379588; gr_cs1_b61834d4-dee7-400e-b3ef-ba1189b0456b=user_id%3A0; ap_v=0,6.0; __utma=30149280.696154547.1563276061.1583499887.1583829730.30; __utmz=30149280.1583829730.30.17.utmcsr=baidu|utmccn=(organic)|utmcmd=organic; __utmt_douban=1; __utma=81379588.1649039511.1582552835.1582552835.1583829730.2; __utmz=81379588.1583829730.2.2.utmcsr=baidu|utmccn=(organic)|utmcmd=organic; __utmt=1; _pk_ref.100001.3ac3=%5B%22%22%2C%22%22%2C1583829730%2C%22https%3A%2F%2Fwww.baidu.com%2Flink%3Furl%3DuNphXXY-esw0TdBmKkUMe2BS2M-TjiIZi-QBZGAcYwXjmUMfOtxJRMnkop0Bperh%26wd%3D%26eqid%3D94ea1a200002da69000000055e6752aa%22%5D; _pk_ses.100001.3ac3=*; dbcl2=\"186229531:3ufBftA4bfw\"; ck=OeSD; gr_session_id_22c937bbd8ebd703f2d8e9445f7dfd03=e3637341-2cf6-460d-836a-b24b088f6d0d; gr_cs1_e3637341-2cf6-460d-836a-b24b088f6d0d=user_id%3A1; gr_session_id_22c937bbd8ebd703f2d8e9445f7dfd03_e3637341-2cf6-460d-836a-b24b088f6d0d=true; push_noty_num=0; push_doumail_num=0; _pk_id.100001.3ac3=527bb4a0a2a1ee2d.1582552835.2.1583829810.1582552835.; __utmb=30149280.4.10.1583829730; __utmb=81379588.4.10.1583829730'\n",
    "clst = cookies.split(';')\n",
    "dic_c={}\n",
    "for i in clst:\n",
    "    dic_c[i.split('=')[0]]=i.split('=')[1]\n",
    "\n",
    "# 拼接链接 返回列表\n",
    "def get_urls(n):\n",
    "    \"\"\"\n",
    "    分页网页URL采集 函数\n",
    "    n:页数参数\n",
    "    结果：得到一个分页网页的list\n",
    "    \"\"\"\n",
    "    lst=[]\n",
    "    for i in range(n):\n",
    "        # %% 必须是双引号 否则无法生效\n",
    "        ui='https://book.douban.com/tag/%%E6%%9C%%BA%%E5%%99%%A8%%E5%%AD%%A6%%E4%%B9%%A0?start=%i&type=T'%(i*20)\n",
    "        lst.append(ui)\n",
    "    return lst\n",
    "\n",
    "# 获取HTML 然后匹配信息\n",
    "def get_soup(url):\n",
    "    r= requests.get(url,headers=header,cookies=dic_c)\n",
    "\n",
    "    # 如果编码不正常添加如下代码即可\n",
    "    # r.encodng = r.apprent_encoding\n",
    "    # print(r.text)\n",
    "    from bs4 import BeautifulSoup\n",
    "    soup = BeautifulSoup(r.text,'lxml')\n",
    "    ul_class = soup.find('ul',class_='subject-list')\n",
    "    lis= ul_class.find_all('li',class_='subject-item')\n",
    "    for i in lis:\n",
    "        info = i.find('div',class_='info')\n",
    "        h2 = info.find('h2').text.strip().replace('\\n','') # 标题\n",
    "        chubaninfo = info.find('div',class_='pub').text.strip().split('/') # 出版信息\n",
    "        # 如果有两个作者 删除第2个作者信息\n",
    "        if len(chubaninfo)>4:\n",
    "            del chubaninfo[1]\n",
    "        commits = info.find('span',class_='pl').text.strip()# 评论人数\n",
    "        try:\n",
    "            documents = info.find('p').text # 简介\n",
    "        except:\n",
    "            documents = '无简介'\n",
    "        print(h2)\n",
    "        print(chubaninfo)\n",
    "        print(commits)\n",
    "        print(documents)\n",
    "\n",
    "if __name__ == '__main__':\n",
    "    retun_lst = get_urls(10)\n",
    "#     print(retun_lst)\n",
    "    for i in retun_lst:\n",
    "#         print(i)\n",
    "        get_soup(i)\n",
    "        break\n",
    "    "
   ]
  },
  {
   "cell_type": "code",
   "execution_count": null,
   "metadata": {},
   "outputs": [],
   "source": []
  }
 ],
 "metadata": {
  "kernelspec": {
   "display_name": "Python 3",
   "language": "python",
   "name": "python3"
  },
  "language_info": {
   "codemirror_mode": {
    "name": "ipython",
    "version": 3
   },
   "file_extension": ".py",
   "mimetype": "text/x-python",
   "name": "python",
   "nbconvert_exporter": "python",
   "pygments_lexer": "ipython3",
   "version": "3.7.1"
  },
  "toc": {
   "base_numbering": 1,
   "nav_menu": {},
   "number_sections": false,
   "sideBar": true,
   "skip_h1_title": false,
   "title_cell": "Table of Contents",
   "title_sidebar": "Contents",
   "toc_cell": false,
   "toc_position": {},
   "toc_section_display": true,
   "toc_window_display": false
  }
 },
 "nbformat": 4,
 "nbformat_minor": 2
}
