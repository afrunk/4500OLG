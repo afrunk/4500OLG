{
 "cells": [
  {
   "cell_type": "markdown",
   "metadata": {},
   "source": [
    "# Spider\n",
    "知识点\n",
    "- 实战爬虫\n",
    "- 将数据存储到MongoDB"
   ]
  },
  {
   "cell_type": "markdown",
   "metadata": {},
   "source": [
    "## 一、豆瓣实战Ι 简单尝试\n",
    "2020-3-10\n",
    "知识点：\n",
    "- 如何使用Cookie和Headers来避免被反扒和登录\n",
    "- 如何避免获取的HTML字符解析不正常\n",
    "- 使用BeautifulSoup来解析网页内容"
   ]
  },
  {
   "cell_type": "markdown",
   "metadata": {},
   "source": [
    "###  A Test"
   ]
  },
  {
   "cell_type": "code",
   "execution_count": 11,
   "metadata": {},
   "outputs": [
    {
     "name": "stdout",
     "output_type": "stream",
     "text": [
      "\n",
      "affunk的帐号\n",
      "\n"
     ]
    }
   ],
   "source": [
    "import requests\n",
    "url='https://book.douban.com/tag/%E5%8E%86%E5%8F%B2'\n",
    "\n",
    "header ={\n",
    "    'User-Agent':'Mozilla/5.0 (Windows NT 10.0; Win64; x64) AppleWebKit/537.36 (KHTML, like Gecko) Chrome/78.0.3904.97 Safari/537.36'\n",
    "}\n",
    "# 将cookies存储到字典的方法\n",
    "cookies  = 'bid=P_ZKV9BVHfE; __utmc=30149280; ll=\"118271\"; _vwo_uuid_v2=D5F6301CCA0BA1F403310BBDB612A50A8|a7920ac816b0fa2e758cd41c10b386ce; gr_user_id=c45f1875-a6e0-43d9-aa34-cd019cf81e6b; __utmv=30149280.18622; douban-fav-remind=1; viewed=\"3165271_4254271\"; __utmc=81379588; gr_cs1_b61834d4-dee7-400e-b3ef-ba1189b0456b=user_id%3A0; ap_v=0,6.0; __utma=30149280.696154547.1563276061.1583499887.1583829730.30; __utmz=30149280.1583829730.30.17.utmcsr=baidu|utmccn=(organic)|utmcmd=organic; __utmt_douban=1; __utma=81379588.1649039511.1582552835.1582552835.1583829730.2; __utmz=81379588.1583829730.2.2.utmcsr=baidu|utmccn=(organic)|utmcmd=organic; __utmt=1; _pk_ref.100001.3ac3=%5B%22%22%2C%22%22%2C1583829730%2C%22https%3A%2F%2Fwww.baidu.com%2Flink%3Furl%3DuNphXXY-esw0TdBmKkUMe2BS2M-TjiIZi-QBZGAcYwXjmUMfOtxJRMnkop0Bperh%26wd%3D%26eqid%3D94ea1a200002da69000000055e6752aa%22%5D; _pk_ses.100001.3ac3=*; dbcl2=\"186229531:3ufBftA4bfw\"; ck=OeSD; gr_session_id_22c937bbd8ebd703f2d8e9445f7dfd03=e3637341-2cf6-460d-836a-b24b088f6d0d; gr_cs1_e3637341-2cf6-460d-836a-b24b088f6d0d=user_id%3A1; gr_session_id_22c937bbd8ebd703f2d8e9445f7dfd03_e3637341-2cf6-460d-836a-b24b088f6d0d=true; push_noty_num=0; push_doumail_num=0; _pk_id.100001.3ac3=527bb4a0a2a1ee2d.1582552835.2.1583829810.1582552835.; __utmb=30149280.4.10.1583829730; __utmb=81379588.4.10.1583829730'\n",
    "clst = cookies.split(';')\n",
    "dic_c={}\n",
    "for i in clst:\n",
    "    dic_c[i.split('=')[0]]=i.split('=')[1]\n",
    "# print(dic_c)\n",
    "# 如果不添加 headers 和 cookies的话会导致返回 418\n",
    "\n",
    "\n",
    "r= requests.get(url,headers=header,cookies=dic_c)\n",
    "\n",
    "# 如果编码不正常添加如下代码即可\n",
    "# r.encodng = r.apprent_encoding\n",
    "# print(r.text)\n",
    "from bs4 import BeautifulSoup\n",
    "soup = BeautifulSoup(r.text,'lxml')\n",
    "# print(soup)\n",
    "name = soup.find('li',class_='nav-user-account').find('a').text\n",
    "print(name)"
   ]
  },
  {
   "cell_type": "markdown",
   "metadata": {},
   "source": [
    "### B 实战"
   ]
  },
  {
   "cell_type": "code",
   "execution_count": 17,
   "metadata": {},
   "outputs": [
    {
     "name": "stdout",
     "output_type": "stream",
     "text": [
      "导入成功！\n",
      "['https://book.douban.com/tag/%E6%9C%BA%E5%99%A8%E5%AD%A6%E4%B9%A0?start=0&type=T', 'https://book.douban.com/tag/%E6%9C%BA%E5%99%A8%E5%AD%A6%E4%B9%A0?start=20&type=T', 'https://book.douban.com/tag/%E6%9C%BA%E5%99%A8%E5%AD%A6%E4%B9%A0?start=40&type=T', 'https://book.douban.com/tag/%E6%9C%BA%E5%99%A8%E5%AD%A6%E4%B9%A0?start=60&type=T', 'https://book.douban.com/tag/%E6%9C%BA%E5%99%A8%E5%AD%A6%E4%B9%A0?start=80&type=T', 'https://book.douban.com/tag/%E6%9C%BA%E5%99%A8%E5%AD%A6%E4%B9%A0?start=100&type=T', 'https://book.douban.com/tag/%E6%9C%BA%E5%99%A8%E5%AD%A6%E4%B9%A0?start=120&type=T', 'https://book.douban.com/tag/%E6%9C%BA%E5%99%A8%E5%AD%A6%E4%B9%A0?start=140&type=T', 'https://book.douban.com/tag/%E6%9C%BA%E5%99%A8%E5%AD%A6%E4%B9%A0?start=160&type=T', 'https://book.douban.com/tag/%E6%9C%BA%E5%99%A8%E5%AD%A6%E4%B9%A0?start=180&type=T']\n"
     ]
    }
   ],
   "source": [
    "import requests\n",
    "from bs4 import BeautifulSoup\n",
    "import pandas as pd\n",
    "print(\"导入成功！\")\n",
    "\n",
    "header ={\n",
    "    'User-Agent':'Mozilla/5.0 (Windows NT 10.0; Win64; x64) AppleWebKit/537.36 (KHTML, like Gecko) Chrome/78.0.3904.97 Safari/537.36'\n",
    "}\n",
    "# 将cookies存储到字典的方法\n",
    "cookies  = 'bid=P_ZKV9BVHfE; __utmc=30149280; ll=\"118271\"; _vwo_uuid_v2=D5F6301CCA0BA1F403310BBDB612A50A8|a7920ac816b0fa2e758cd41c10b386ce; gr_user_id=c45f1875-a6e0-43d9-aa34-cd019cf81e6b; __utmv=30149280.18622; douban-fav-remind=1; viewed=\"3165271_4254271\"; __utmc=81379588; gr_cs1_b61834d4-dee7-400e-b3ef-ba1189b0456b=user_id%3A0; ap_v=0,6.0; __utma=30149280.696154547.1563276061.1583499887.1583829730.30; __utmz=30149280.1583829730.30.17.utmcsr=baidu|utmccn=(organic)|utmcmd=organic; __utmt_douban=1; __utma=81379588.1649039511.1582552835.1582552835.1583829730.2; __utmz=81379588.1583829730.2.2.utmcsr=baidu|utmccn=(organic)|utmcmd=organic; __utmt=1; _pk_ref.100001.3ac3=%5B%22%22%2C%22%22%2C1583829730%2C%22https%3A%2F%2Fwww.baidu.com%2Flink%3Furl%3DuNphXXY-esw0TdBmKkUMe2BS2M-TjiIZi-QBZGAcYwXjmUMfOtxJRMnkop0Bperh%26wd%3D%26eqid%3D94ea1a200002da69000000055e6752aa%22%5D; _pk_ses.100001.3ac3=*; dbcl2=\"186229531:3ufBftA4bfw\"; ck=OeSD; gr_session_id_22c937bbd8ebd703f2d8e9445f7dfd03=e3637341-2cf6-460d-836a-b24b088f6d0d; gr_cs1_e3637341-2cf6-460d-836a-b24b088f6d0d=user_id%3A1; gr_session_id_22c937bbd8ebd703f2d8e9445f7dfd03_e3637341-2cf6-460d-836a-b24b088f6d0d=true; push_noty_num=0; push_doumail_num=0; _pk_id.100001.3ac3=527bb4a0a2a1ee2d.1582552835.2.1583829810.1582552835.; __utmb=30149280.4.10.1583829730; __utmb=81379588.4.10.1583829730'\n",
    "clst = cookies.split(';')\n",
    "dic_c={}\n",
    "for i in clst:\n",
    "    dic_c[i.split('=')[0]]=i.split('=')[1]\n",
    "\n",
    "u0 ='https://book.douban.com/tag/%E6%9C%BA%E5%99%A8%E5%AD%A6%E4%B9%A0start=40&type=T'\n",
    "\n",
    "def get_urls(n):\n",
    "    \"\"\"\n",
    "    分页网页URL采集 函数\n",
    "    n:页数参数\n",
    "    结果：得到一个分页网页的list\n",
    "    \"\"\"\n",
    "    lst=[]\n",
    "    for i in range(n):\n",
    "        # %% 必须是双引号 否则无法生效\n",
    "        ui='https://book.douban.com/tag/%%E6%%9C%%BA%%E5%%99%%A8%%E5%%AD%%A6%%E4%%B9%%A0?start=%i&type=T'%(i*20)\n",
    "        lst.append(ui)\n",
    "    return lst\n",
    "retun_lst = get_urls(10)\n",
    "\n"
   ]
  },
  {
   "cell_type": "markdown",
   "metadata": {},
   "source": [
    "## 二、MongoDB"
   ]
  },
  {
   "cell_type": "markdown",
   "metadata": {},
   "source": [
    "- NoSQL 是什么\n",
    "    - 非关系型数据库，相对于SQL关系型数据库来说\n",
    "    - NoSQL = Not Only SQL 不仅仅是SQL\n",
    "    - NoSQL用来存储超大规模数据的存储，这些类型的数据存储不需要固定的模式，无需多余操作就可以横向扩展\n",
    "- 优点\n",
    "    - 高可扩展性\n",
    "    - 分布式计算\n",
    "    - 低成本\n",
    "    - 架构的灵活性，半结构化数据\n",
    "    - 没有复杂关系\n",
    "- MongoDB\n",
    "    - 概念：MongoDB是一个基于分布式文件存储的数据库。由C++语言编写。旨在为web应用提供高扩展性的高性能数据存储解决方案\n",
    "    - 存储对象\n",
    "        - MongoDB 将数据存储为一个文档，数据结构由键值对组成\n",
    "        - MongoDB文档类似于JSON对象，字段值可以包含其他文档，数组及文档数组\n"
   ]
  },
  {
   "cell_type": "markdown",
   "metadata": {},
   "source": [
    "### A 安装MongoDB\n",
    "[MongoDB ](https://www.mongodb.com/dr/fastdl.mongodb.org/win32/mongodb-win32-x86_64-2012plus-4.2.3-signed.msi/download)<br>\n",
    "\n",
    "安装好了之后，需要找到MongoDB的BIN目录，添加到环境变量中去。然后我们直接参考该文章 [MongoDB安装配置详细教程-window10](https://blog.csdn.net/xueyawuhai/article/details/98973708?depth_1-utm_source=distribute.pc_relevant.none-task&utm_source=distribute.pc_relevant.none-task)，**需要注意的地方就是必须在管理员权限下运行CMD才能生效。**"
   ]
  },
  {
   "cell_type": "markdown",
   "metadata": {},
   "source": [
    "### B 基本语法\n",
    "\n",
    "- show dbs 查看所有数据库\n",
    "- db 查看现运行的数据库\n",
    "- 数据库必须有数据，才可以显示\n",
    "- db.table02.insert(...)这里虽然没有创建集合，但是mongodb中当你插入一些文档时 MongoDB会自动创建集合"
   ]
  },
  {
   "cell_type": "code",
   "execution_count": null,
   "metadata": {},
   "outputs": [],
   "source": [
    "# 查看所有的数据库\n",
    "> show dbs\n",
    "admin   0.000GB\n",
    "config  0.000GB\n",
    "local   0.000GB\n",
    "# 查看当前的数据库\n",
    "> db\n",
    "test\n",
    "# 往当前数据库插入数据\n",
    "> db.table.insert({\"a\":1,\"b\":2})\n",
    "WriteResult({ \"nInserted\" : 1 })\n",
    "# 发现test数据库显示出来了\n",
    "> show dbs\n",
    "admin   0.000GB\n",
    "config  0.000GB\n",
    "local   0.000GB\n",
    "test    0.000GB\n",
    "# 删除当前数据库\n",
    "> db.dropDatabase()\n",
    "{ \"dropped\" : \"test\", \"ok\" : 1 }\n",
    "# 发现test数据库消失了\n",
    "> show dbs\n",
    "admin   0.000GB\n",
    "config  0.000GB\n",
    "local   0.000GB"
   ]
  },
  {
   "cell_type": "markdown",
   "metadata": {},
   "source": [
    "### C 数据类型"
   ]
  },
  {
   "cell_type": "markdown",
   "metadata": {},
   "source": [
    "- String 字符串\n",
    "- Integer 整型\n",
    "- Boolean 布尔值\n",
    "- Timestamp 时间戳\n",
    "- Min/Max keys 将一个值与BSON元素的最低值和最高值比较\n",
    "- Array 将数组或列表或多个值存储为一个键\n",
    "- Object 用于内嵌文档\n",
    "- Null 用于创建空值\n",
    "- Symbol 符号 等同于字符串类型\n",
    "- Date 日期时间\n"
   ]
  },
  {
   "cell_type": "markdown",
   "metadata": {},
   "source": [
    "### D Robo 3T 的安装与使用\n",
    "[参考文章](https://www.cnblogs.com/jianxian/p/12262670.html)"
   ]
  },
  {
   "cell_type": "markdown",
   "metadata": {},
   "source": [
    "### E 使用Pymongo 连接 MongoDB  处理数据"
   ]
  },
  {
   "cell_type": "markdown",
   "metadata": {},
   "source": [
    "#### 1 连接数据库"
   ]
  },
  {
   "cell_type": "code",
   "execution_count": 24,
   "metadata": {},
   "outputs": [
    {
     "name": "stdout",
     "output_type": "stream",
     "text": [
      "<class 'pymongo.mongo_client.MongoClient'>\n",
      "['admin', 'config', 'douban', 'local']\n"
     ]
    }
   ],
   "source": [
    "import pymongo\n",
    "# 链接数据库\n",
    "muclient =pymongo.MongoClient(\"mongodb://localhost:27017/\")\n",
    "print(type(muclient))\n",
    "# 输出当前数据库的名字\n",
    "print(muclient.list_database_names())"
   ]
  },
  {
   "cell_type": "markdown",
   "metadata": {},
   "source": [
    "#### 2 查询该数据库下有多少个集合"
   ]
  },
  {
   "cell_type": "code",
   "execution_count": 28,
   "metadata": {},
   "outputs": [
    {
     "name": "stdout",
     "output_type": "stream",
     "text": [
      "['table']\n"
     ]
    }
   ],
   "source": [
    "# 链接douban数据库\n",
    "db1 = muclient['douban']\n",
    "# 查询该数据库下有多少个集合\n",
    "print(db1.list_collection_names())"
   ]
  },
  {
   "cell_type": "markdown",
   "metadata": {},
   "source": [
    "#### 3 查询某个集合 并输出集合内的数据"
   ]
  },
  {
   "cell_type": "code",
   "execution_count": 33,
   "metadata": {},
   "outputs": [
    {
     "name": "stdout",
     "output_type": "stream",
     "text": [
      "{'_id': ObjectId('5e6775da504c65681c5981c2'), 'name': '小明', 'age': 12.0}\n",
      "小明\n",
      "{'_id': ObjectId('5e67763d504c65681c5981c3'), 'name': '小王', 'age': 19.0}\n",
      "小王\n",
      "{'_id': ObjectId('5e677882277b8c39a9854536'), 'name': '小美', 'age': 20}\n",
      "小美\n"
     ]
    }
   ],
   "source": [
    "# 将table集合复制给变量data1\n",
    "data1 = db1['table']\n",
    "# 遍历data1的查询结果 切片前10个元素 然后进行变量输出\n",
    "for i in data1.find()[:10]:\n",
    "    print(i)\n",
    "    print(i['name'])"
   ]
  },
  {
   "cell_type": "markdown",
   "metadata": {},
   "source": [
    "#### 4 创建一个集合并将数据插入到数据库"
   ]
  },
  {
   "cell_type": "code",
   "execution_count": 34,
   "metadata": {},
   "outputs": [
    {
     "data": {
      "text/plain": [
       "<pymongo.results.InsertOneResult at 0x219f8b78c88>"
      ]
     },
     "execution_count": 34,
     "metadata": {},
     "output_type": "execute_result"
    }
   ],
   "source": [
    "# 创建一个新的集合并将数据插入其中\n",
    "data2=db1['table_2']\n",
    "dic = {\"id\":1,\"value\":10}\n",
    "# 将集合data2插入到数据库douban中\n",
    "data2.insert_one(dic)"
   ]
  },
  {
   "cell_type": "code",
   "execution_count": 38,
   "metadata": {},
   "outputs": [
    {
     "name": "stdout",
     "output_type": "stream",
     "text": [
      "{'_id': ObjectId('5e677ada17a7209b972bb009'), 'id': 1, 'value': 10}\n"
     ]
    }
   ],
   "source": [
    "# 遍历data2集合 输出里面的数据\n",
    "for i in data2.find():\n",
    "    print(i)"
   ]
  },
  {
   "cell_type": "code",
   "execution_count": 41,
   "metadata": {},
   "outputs": [
    {
     "name": "stdout",
     "output_type": "stream",
     "text": [
      "{'_id': ObjectId('5e677ada17a7209b972bb009'), 'id': 1, 'value': 10}\n",
      "{'_id': ObjectId('5e677be517a7209b972bb00a'), 'id': 1, 'value': 11}\n",
      "{'_id': ObjectId('5e677be517a7209b972bb00b'), 'id': 2, 'value': 2}\n",
      "{'_id': ObjectId('5e677be517a7209b972bb00c'), 'id': 3, 'value': 13}\n",
      "{'_id': ObjectId('5e677be517a7209b972bb00d'), 'id': 4, 'value': 110}\n",
      "{'_id': ObjectId('5e677be517a7209b972bb00e'), 'id': 5, 'value': 32}\n",
      "{'_id': ObjectId('5e677be517a7209b972bb00f'), 'id': 6, 'value': 31}\n",
      "{'_id': ObjectId('5e677bef17a7209b972bb010'), 'id': 1, 'value': 11}\n",
      "{'_id': ObjectId('5e677bef17a7209b972bb011'), 'id': 2, 'value': 2}\n",
      "{'_id': ObjectId('5e677bef17a7209b972bb012'), 'id': 3, 'value': 13}\n",
      "{'_id': ObjectId('5e677bef17a7209b972bb013'), 'id': 4, 'value': 110}\n",
      "{'_id': ObjectId('5e677bef17a7209b972bb014'), 'id': 5, 'value': 32}\n",
      "{'_id': ObjectId('5e677bef17a7209b972bb015'), 'id': 6, 'value': 31}\n"
     ]
    }
   ],
   "source": [
    "diclist = [\n",
    "    {\"id\":1,\"value\":11},\n",
    "    {\"id\":2,\"value\":2},\n",
    "    {\"id\":3,\"value\":13},\n",
    "    {\"id\":4,\"value\":110},\n",
    "    {\"id\":5,\"value\":32},\n",
    "    {\"id\":6,\"value\":31},\n",
    "]\n",
    "# 将集合data2插入到数据库douban中\n",
    "data2.insert_many(diclist)\n",
    "for i in data2.find():\n",
    "    print(i)"
   ]
  },
  {
   "cell_type": "markdown",
   "metadata": {},
   "source": [
    "#### 5 删除数据"
   ]
  },
  {
   "cell_type": "code",
   "execution_count": 46,
   "metadata": {},
   "outputs": [
    {
     "data": {
      "text/plain": [
       "<pymongo.results.DeleteResult at 0x219f910da08>"
      ]
     },
     "execution_count": 46,
     "metadata": {},
     "output_type": "execute_result"
    }
   ],
   "source": [
    "# 删除id=1的一个值\n",
    "data2.delete_one({'id':1})"
   ]
  },
  {
   "cell_type": "markdown",
   "metadata": {},
   "source": [
    "for i in data2.find():\n",
    "    print(i)"
   ]
  },
  {
   "cell_type": "code",
   "execution_count": 48,
   "metadata": {},
   "outputs": [
    {
     "data": {
      "text/plain": [
       "<pymongo.results.DeleteResult at 0x219f93351c8>"
      ]
     },
     "execution_count": 48,
     "metadata": {},
     "output_type": "execute_result"
    }
   ],
   "source": [
    "# 删除id=2的所有数据\n",
    "data2.delete_many({'id':2})"
   ]
  },
  {
   "cell_type": "code",
   "execution_count": 49,
   "metadata": {},
   "outputs": [
    {
     "name": "stdout",
     "output_type": "stream",
     "text": [
      "{'_id': ObjectId('5e677be517a7209b972bb00c'), 'id': 3, 'value': 13}\n",
      "{'_id': ObjectId('5e677be517a7209b972bb00d'), 'id': 4, 'value': 110}\n",
      "{'_id': ObjectId('5e677be517a7209b972bb00e'), 'id': 5, 'value': 32}\n",
      "{'_id': ObjectId('5e677be517a7209b972bb00f'), 'id': 6, 'value': 31}\n",
      "{'_id': ObjectId('5e677bef17a7209b972bb010'), 'id': 1, 'value': 11}\n",
      "{'_id': ObjectId('5e677bef17a7209b972bb012'), 'id': 3, 'value': 13}\n",
      "{'_id': ObjectId('5e677bef17a7209b972bb013'), 'id': 4, 'value': 110}\n",
      "{'_id': ObjectId('5e677bef17a7209b972bb014'), 'id': 5, 'value': 32}\n",
      "{'_id': ObjectId('5e677bef17a7209b972bb015'), 'id': 6, 'value': 31}\n"
     ]
    }
   ],
   "source": [
    "for i in data2.find():\n",
    "    print(i)"
   ]
  },
  {
   "cell_type": "markdown",
   "metadata": {},
   "source": [
    "#### 6 删除集合"
   ]
  },
  {
   "cell_type": "code",
   "execution_count": 50,
   "metadata": {},
   "outputs": [],
   "source": [
    "data2.drop()"
   ]
  },
  {
   "cell_type": "code",
   "execution_count": 51,
   "metadata": {},
   "outputs": [
    {
     "name": "stdout",
     "output_type": "stream",
     "text": [
      "['table']\n"
     ]
    }
   ],
   "source": [
    "# 链接douban数据库\n",
    "db1 = muclient['douban']\n",
    "# 查询该数据库下有多少个集合\n",
    "print(db1.list_collection_names())\n",
    "\n",
    "# 可以看到 data2 的集合不见了 "
   ]
  },
  {
   "cell_type": "markdown",
   "metadata": {},
   "source": [
    "#### 7 配合Pandas来使用"
   ]
  },
  {
   "cell_type": "code",
   "execution_count": 56,
   "metadata": {},
   "outputs": [
    {
     "name": "stdout",
     "output_type": "stream",
     "text": [
      "                        _id   age name\n",
      "0  5e6775da504c65681c5981c2  12.0   小明\n",
      "1  5e67763d504c65681c5981c3  19.0   小王\n",
      "2  5e677882277b8c39a9854536  20.0   小美\n",
      "所花时间为：-0.0030\n"
     ]
    }
   ],
   "source": [
    "import time\n",
    "starttime = time.time()\n",
    "data1 = db1['table']\n",
    "datalist = list(data1.find())\n",
    "datadf = pd.DataFrame(datalist)\n",
    "endtime = time.time()\n",
    "print(datadf)\n",
    "print(\"所花时间为：%.4f\" %(starttime-endtime))"
   ]
  },
  {
   "cell_type": "markdown",
   "metadata": {},
   "source": [
    "#### 8 导出csv文件"
   ]
  },
  {
   "cell_type": "markdown",
   "metadata": {},
   "source": [
    "`mongoexport -d douban -c doubanbooksML -f title,author,Publishinghouse,publishingTime,price,commits,documents --csv -o G:\\DeapLearing\\4500OLG\\考核练习代码\\doubanbooksML.csv`<br>\n",
    "-d  标示 数据库  \n",
    "-c   标示  数据表  \n",
    "-f   需要提取的field用逗号分隔  \n",
    "-o  输出路径  \n"
   ]
  },
  {
   "cell_type": "markdown",
   "metadata": {},
   "source": [
    "## 三、豆瓣实战 Π 将数据抓取存储到 MongoDB"
   ]
  },
  {
   "cell_type": "code",
   "execution_count": 92,
   "metadata": {},
   "outputs": [
    {
     "name": "stdout",
     "output_type": "stream",
     "text": [
      "{'title': '机器学习', 'author': '周志华 ', 'Publishinghouse': ' 清华大学出版社 ', 'publishingTime': ' 2016-1-1 ', 'price': ' 88.00元', 'commits': '(2349人评价)', 'documents': '机器学习是计算机科学与人工智能的重要分支领域. 本书作为该领域的入门教材，在内容上尽可能涵盖机器学习基础知识的各方面。 为了使尽可能多的读者通过本书对机器学... '}\n",
      "{'title': 'Python深度学习', 'author': '[美] 弗朗索瓦•肖莱 ', 'Publishinghouse': ' 人民邮电出版社 ', 'publishingTime': ' 2018-8 ', 'price': ' 119.00元', 'commits': '(484人评价)', 'documents': '本书由Keras之父、现任Google人工智能研究员的弗朗索瓦•肖莱（François Chollet）执笔，详尽介绍了用Python和Keras进行深度学... '}\n",
      "{'title': '统计学习方法', 'author': '李航 ', 'Publishinghouse': ' 清华大学出版社 ', 'publishingTime': ' 2012-3 ', 'price': ' 38.00元', 'commits': '(2026人评价)', 'documents': '详细介绍支持向量机、Boosting、最大熵、条件随机场等十个统计学习方法。 '}\n",
      "{'title': 'Pattern Recognition and Machine Learning', 'author': 'Christopher Bishop ', 'Publishinghouse': ' Springer ', 'publishingTime': ' 2007-10-1 ', 'price': ' USD 94.95', 'commits': '(1286人评价)', 'documents': 'The dramatic growth in practical applications for machine learning over the la... '}\n",
      "{'title': '深度学习', 'author': '[美] 伊恩·古德费洛、[加] 约书亚·本吉奥、[加] 亚伦·库维尔 ', 'Publishinghouse': ' 人民邮电出版社 ', 'publishingTime': ' 2017-7-1 ', 'price': ' 168', 'commits': '(864人评价)', 'documents': '《深度学习》由全球知名的三位专家Ian Goodfellow、Yoshua Bengio 和Aaron Courville撰写，是深度学习领域奠基性的经典教... '}\n",
      "{'title': '统计学习方法（第2版）', 'author': '李航 ', 'Publishinghouse': ' 清华大学出版社 ', 'publishingTime': ' 2019-5-1 ', 'price': ' 98.00元', 'commits': '(142人评价)', 'documents': '统计学习方法即机器学习方法，是计算机及其应用领域的一门重要学科。本书分为监督学 习和无监督学习两篇，全面系统地介绍了统计学习的主要方法。包括感知机、k 近邻... '}\n",
      "{'title': '机器学习实战', 'author': 'Peter Harrington ', 'Publishinghouse': ' 人民邮电出版社 ', 'publishingTime': ' 2013-6 ', 'price': ' 69.00元', 'commits': '(1116人评价)', 'documents': '机器学习是人工智能研究领域中一个极其重要的研究方向，在现今的大数据时代背景下，捕获数据并从中萃取有价值的信息或模式，成为各行业求生存、谋发展的决定性手段，这... '}\n",
      "{'title': '深度学习入门           : 基于Python的理论与实现', 'author': '[ 日］  斋藤康毅 ', 'Publishinghouse': ' 人民邮电出版社 ', 'publishingTime': ' 2018-7 ', 'price': ' 59.00元', 'commits': '(451人评价)', 'documents': '本书是深度学习真正意义上的入门书，深入浅出地剖析了深度学习的原理和相关技术。书中使用Python3，尽量不依赖外部库或工具，从基本的数学知识出发，带领读者从... '}\n",
      "{'title': 'Hands-on Machine Learning with Scikit-Learn, Keras, and TensorFlow, 2nd Edition           : Concepts, Tools, and Techniques to Build Intelligent Systems', 'author': 'Aurelien Geron ', 'Publishinghouse': ' O′Reilly ', 'publishingTime': ' 2019-10-11 ', 'price': ' GBP 55.99', 'commits': '(49人评价)', 'documents': 'Through a series of recent breakthroughs, deep learning has boosted the entire... '}\n",
      "{'title': '百面机器学习           : 算法工程师带你去面试', 'author': '诸葛越、葫芦娃 ', 'Publishinghouse': ' 人民邮电出版社 ', 'publishingTime': ' 2018-8-1 ', 'price': ' 89.00元', 'commits': '(200人评价)', 'documents': '人工智能领域正在以超乎人们想象的速度发展，本书赶在人工智能彻底占领世界之前完成编写，实属万幸。\\n书中收录了超过100道机器学习算法工程师的面试题目和解答，其... '}\n",
      "{'title': 'The Elements of Statistical Learning           : Data Mining, Inference, and Prediction, Second Edition', 'author': 'Trevor Hastie、Robert Tibshirani、Jerome Friedman ', 'Publishinghouse': ' Springer ', 'publishingTime': ' 2009-10-1 ', 'price': ' GBP 62.99', 'commits': '(630人评价)', 'documents': 'During the past decade there has been an explosion in computation and informat... '}\n",
      "{'title': '自然语言处理入门', 'author': '何晗 ', 'Publishinghouse': ' 人民邮电出版社 ', 'publishingTime': ' 2019-10 ', 'price': ' 99.00元', 'commits': '(41人评价)', 'documents': '这是一本务实的入门书，助你零起点上手自然语言处理。\\nHanLP 作者何晗汇集多年经验，从基本概念出发，逐步介绍中文分词、词性标注、命名实体识别、信 息抽取、... '}\n",
      "{'title': 'Hands-On Machine Learning with Scikit-Learn and TensorFlow           : Concepts, Tools, and Techniques for Building Intelligent Systems', 'author': 'Aurélien Géron ', 'Publishinghouse': \" O'Reilly Media \", 'publishingTime': ' 2017-1-25 ', 'price': ' USD 49.99', 'commits': '(384人评价)', 'documents': '无简介'}\n",
      "{'title': '动手学深度学习', 'author': '阿斯顿·张（Aston Zhang）、李沐（Mu Li）、[美] 扎卡里·C. 立顿（Zachary C. Lipton）、[德] 亚历山大·J. 斯莫拉（Alexander J. Smola） ', 'Publishinghouse': ' 人民邮电出版社 ', 'publishingTime': ' 2019-6 ', 'price': ' 85.00元', 'commits': '(119人评价)', 'documents': '本书旨在向读者交付有关深度学习的交互式学习体验。书中不仅阐述深度学习的算法原理，还演示它们的实现和运行。与传统图书不同，本书的每一节都是一个可以下载并运行的... '}\n",
      "{'title': '神经网络与深度学习', 'author': '邱锡鹏 ', 'Publishinghouse': ' 2019-4-12', 'publishingTime': ' ', 'price': ' ', 'commits': '(78人评价)', 'documents': '复旦大学邱锡鹏老师在 Github 上开放的深度学习书籍\\nhttps://nndl.github.io/\\nhttps://github.com/nndl/n... '}\n",
      "{'title': '集体智慧编程', 'author': 'TOBY SEGARAN ', 'Publishinghouse': ' 电子工业出版社 ', 'publishingTime': ' 2009-1 ', 'price': ' 59.80元', 'commits': '(1468人评价)', 'documents': '本书以机器学习与计算统计为主题背景，专门讲述如何挖掘和分析Web上的数据和资源，如何分析用户体验、市场营销、个人品味等诸多信息，并得出有用的结论，通过复杂的... '}\n",
      "{'title': 'Scikit-Learn与TensorFlow机器学习实用指南（影印版）', 'author': 'Aurélien Géron ', 'Publishinghouse': ' 东南大学出版社 ', 'publishingTime': ' 2017-10-1 ', 'price': ' 98.00元', 'commits': '(78人评价)', 'documents': '通过具体的例子、很少的理论以及两款成熟的Python框架：Scikit-Learn和TensorFlow，作者Aurélien Géron会帮助你掌握构建智... '}\n",
      "{'title': 'Python数据科学手册', 'author': 'Jake VanderPlas ', 'Publishinghouse': ' 人民邮电出版社 ', 'publishingTime': ' 2018-1-20 ', 'price': ' 109.00元', 'commits': '(177人评价)', 'documents': '本书是对以数据深度需求为中心的科学、研究以及针对计算和统计方法的参考书。本书共五章，每章介绍一到两个Python数据科学中的重点工具包。首先从IPython... '}\n",
      "{'title': '推荐系统实践', 'author': '项亮 ', 'Publishinghouse': ' 人民邮电出版社 ', 'publishingTime': ' 2012-6-1 ', 'price': ' 49.00元', 'commits': '(1763人评价)', 'documents': '内容简介：\\n随着信息技术和互联网的发展，人们逐渐从信息匮乏的时代走入了信息过载（information overload）的时代 。在这个时代，无论是信息消... '}\n",
      "{'title': '机器学习实战：基于Scikit-Learn和TensorFlow', 'author': 'Aurélien Géron ', 'Publishinghouse': ' 机械工业出版社 ', 'publishingTime': ' 2018-8 ', 'price': ' 119.00', 'commits': '(94人评价)', 'documents': '本书主要分为两个部分。第一部分为第1章到第8章，涵盖机器学习的基础理论知识和基本算法——从线性回归到随机森林等，帮助读者掌握Scikit-Learn的常用方... '}\n",
      "{'title': '人工智能           : 一种现代的方法(第3版)(影印版)', 'author': 'Stuart J. Russell、Peter Norvig ', 'Publishinghouse': ' 清华大学出版社 ', 'publishingTime': ' 2011-7 ', 'price': ' 158.00元', 'commits': '(98人评价)', 'documents': '《人工智能:一种现代的方法(第3版)(影印版)》最权威、最经典的人工智能教材，已被全世界100多个国家的1200多所大学用作教材。《人工智能:一种现代的方法... '}\n",
      "{'title': '机器学习', 'author': '(美)Tom Mitchell ', 'Publishinghouse': ' 机械工业出版社 ', 'publishingTime': ' 2008-3 ', 'price': ' 35.00元', 'commits': '(793人评价)', 'documents': '《机器学习》展示了机器学习中核心的算法和理论，并阐明了算法的运行过程。《机器学习》综合了许多的研究成果，例如统计学、人工智能、哲学、信息论、生物学、认知科学... '}\n",
      "{'title': '利用Python进行数据分析', 'author': 'Wes McKinney ', 'Publishinghouse': ' 机械工业出版社 ', 'publishingTime': ' 2013-11-18 ', 'price': ' 89.00', 'commits': '(1236人评价)', 'documents': '【名人推荐】\\n“科学计算和数据分析社区已经等待这本书很多年了：大量具体的实践建议，以及大量综合应用方法。本书在未来几年里肯定会成为Python领域中技术计算... '}\n",
      "{'title': 'An Introduction to Statistical Learning           : with Applications in R', 'author': 'Gareth James、Daniela Witten、Trevor Hastie、Robert Tibshirani ', 'Publishinghouse': ' Springer ', 'publishingTime': ' 2013-8-12 ', 'price': ' USD 79.99', 'commits': '(526人评价)', 'documents': 'An Introduction to Statistical Learning provides an accessible overview of the... '}\n",
      "{'title': 'Learning From Data           : A Short Course', 'author': 'Yaser S. Abu-Mostafa、Malik Magdon-Ismail、Hsuan-Tien Lin ', 'Publishinghouse': ' AMLBook ', 'publishingTime': ' 2012-3-27 ', 'price': ' USD 48.00', 'commits': '(177人评价)', 'documents': 'Machine learning allows computational systems to adaptively improve their perf... '}\n",
      "{'title': '统计学习基础(第2版)(英文)           : 从入门到精通', 'author': 'Trevor Hastie、Robert Tibsiranl、Jerome Friedman ', 'Publishinghouse': ' 世界图书出版公司北京公司 ', 'publishingTime': ' 2015-1-1 ', 'price': ' 102.80', 'commits': '(56人评价)', 'documents': '无简介'}\n",
      "{'title': 'Python神经网络编程', 'author': '[英]塔里克·拉希德（Tariq Rashid） ', 'Publishinghouse': ' 人民邮电出版社 ', 'publishingTime': ' 2018-4 ', 'price': ' 69.00元', 'commits': '(400人评价)', 'documents': '神经网络是一种模拟人脑的神经网络，以期能够实现类人工智能的机器学习\\n技术。\\n本书揭示神经网络背后的概念，并介绍如何通过Python实现神经网络。全书\\n分为3... '}\n",
      "{'title': '深度学习的数学', 'author': '[日]涌井良幸、[日]涌井贞美 ', 'Publishinghouse': ' 人民邮电出版社 ', 'publishingTime': ' 2019-4 ', 'price': ' 69.00元', 'commits': '(82人评价)', 'documents': '《深度学习的数学》基于丰富的图示和具体示例，通俗易懂地介绍了深度学习相关的数学知识。第1章介绍神经网络的概况；第2章介绍理解神经网络所需的数学基础知识；第3... '}\n",
      "{'title': '计算广告           : 互联网商业变现的市场与技术', 'author': '刘鹏、王超 ', 'Publishinghouse': ' 人民邮电出版社 ', 'publishingTime': ' 2015-9-1 ', 'price': ' 69.00元', 'commits': '(995人评价)', 'documents': '计算广告是一项新兴的研究课题，它涉及大规模搜索和文本分析、信息获取、统计模型、机器学习、分类、优化以及微观经济学等诸多领域的知识。本书从实践出发，系统地介绍... '}\n",
      "{'title': '数学之美 （第二版）', 'author': '吴军 ', 'Publishinghouse': ' 人民邮电出版社 ', 'publishingTime': ' 2014-11 ', 'price': ' 49.00元', 'commits': '(3539人评价)', 'documents': '几年前，“数学之美”系列文章原刊载于谷歌黑板报，获得上百万次点击，得到读者高度评价。读者说，读了“数学之美”，才发现大学时学的数学知识，比如马尔可夫链、矩阵... '}\n",
      "{'title': '美团机器学习实践', 'author': '美团算法团队 ', 'Publishinghouse': ' 人民邮电出版社 ', 'publishingTime': ' 2018-8-1 ', 'price': ' 79.00元', 'commits': '(132人评价)', 'documents': '人工智能技术正以一种超快的速度深刻地改变着我们的生活，引导了第四次工业革命。美团作为国内O2O领域领 先的服务平台，结合自身的业务场景和数据，积极进行了人工... '}\n",
      "{'title': 'Machine Learning           : A Probabilistic Perspective', 'author': 'Kevin Murphy ', 'Publishinghouse': ' The MIT Press ', 'publishingTime': ' 2012-9-18 ', 'price': ' USD 90.00', 'commits': '(290人评价)', 'documents': \"Today's Web-enabled deluge of electronic data calls for automated methods of d... \"}\n",
      "{'title': '终极算法           : 机器学习和人工智能如何重塑世界', 'author': '[美] 佩德罗·多明戈斯 ', 'Publishinghouse': ' 中信出版集团 ', 'publishingTime': ' 2017-1-1 ', 'price': ' 68.00元', 'commits': '(732人评价)', 'documents': '算法已在多大程度上影响我们的生活？\\n购物网站用算法来为你推荐商品，点评网站用算法来帮你选择餐馆，GPS系统用算法来帮你选择最佳路线，公司用算法来选择求职者…... '}\n",
      "{'title': 'Python机器学习基础教程', 'author': '[德]安德里亚斯·穆勒、[美]莎拉·吉多 ', 'Publishinghouse': ' 人民邮电出版社 ', 'publishingTime': ' 2018-1 ', 'price': ' 79.00元', 'commits': '(104人评价)', 'documents': '本书是机器学习入门书，以Python语言介绍。主要内容包括：机器学习的基本概念及其应用；实践中最常用的机器学习算法以及这些算法的优缺点；在机器学习中待处理数... '}\n",
      "{'title': 'Deep Learning           : Adaptive Computation and Machine Learning series', 'author': 'Ian Goodfellow、Yoshua Bengio、Aaron Courville ', 'Publishinghouse': ' The MIT Press ', 'publishingTime': ' 2016-11-11 ', 'price': ' USD 72.00', 'commits': '(486人评价)', 'documents': '\"Written by three experts in the field, Deep Learning is the only comprehensiv... '}\n",
      "{'title': '分布式机器学习：算法、理论与实践', 'author': '刘铁岩、陈薇、王太峰、高飞 ', 'Publishinghouse': ' 机械工业出版社 ', 'publishingTime': ' 2018-10-20 ', 'price': ' 89.00', 'commits': '(71人评价)', 'documents': '人工智能和大数据时代，解决最有挑战性问题的主流方案是分布式机器学习！本书旨在全面介绍分布式机器学习的现状，深入分析其中的核心技术问题，并且讨论该领域未来的发... '}\n",
      "{'title': '数据挖掘导论', 'author': 'Pang-Ning Tan、Michael Steinbach、Vipin Kumar ', 'Publishinghouse': ' 人民邮电出版社 ', 'publishingTime': ' 2010-12-10 ', 'price': ' 69.00元', 'commits': '(510人评价)', 'documents': '本书全面介绍了数据挖掘，涵盖了五个主题：数据、分类、关联分析、聚类和异常检测。除异常检测外，每个主题都有两章。前一章涵盖基本概念、代表性算法和评估技术，而后... '}\n",
      "{'title': 'Deep Learning with Python', 'author': 'Francois Chollet ', 'Publishinghouse': ' Manning Publications ', 'publishingTime': ' 2017-10-31 ', 'price': ' USD 49.99', 'commits': '(150人评价)', 'documents': 'Deep Learning with Python introduces the field of deep learning using the Pyth... '}\n",
      "{'title': '统计学习理论的本质', 'author': '[美] Vladimir N. Vapnik ', 'Publishinghouse': ' 清华大学出版社 ', 'publishingTime': ' 2000 ', 'price': ' 27.00元', 'commits': '(122人评价)', 'documents': '本书介绍了统计学习理论和支持向量机的关键思想、结论和方法，以及该领域的最新进展。统计学习理论是针对小样本情况研究统计学习规律的理论，是传统统计学的重要发展和... '}\n",
      "{'title': 'Advances in Financial Machine Learning', 'author': 'Marcos Lopez de Prado ', 'Publishinghouse': ' John Wiley & Sons ', 'publishingTime': ' 2018-2-22 ', 'price': ' USD 50.00', 'commits': '(34人评价)', 'documents': 'Machine learning (ML) is changing virtually every aspect of our lives. Today M... '}\n"
     ]
    },
    {
     "name": "stdout",
     "output_type": "stream",
     "text": [
      "{'title': '机器学习中的数学', 'author': '孙博 ', 'Publishinghouse': ' 中国水利水电出版社 ', 'publishingTime': ' 2019-11-1 ', 'price': ' 89.80元', 'commits': '(少于10人评价)', 'documents': '《机器学习中的数学》是一本系统介绍机器学习中涉及的数学知识的入门图书，本书从机器学习中的数学入门开始，以展示数学的友好性为原则，讲述了机器学习中的一些常见的... '}\n",
      "{'title': '机器学习系统设计', 'author': '[德] Willi Richert、Luis Pedro Coelho ', 'Publishinghouse': ' 人民邮电出版社 ', 'publishingTime': ' 2014-7-1 ', 'price': ' CNY 49.00', 'commits': '(99人评价)', 'documents': '如今，机器学习正在互联网上下掀起热潮，而Python则是非常适合开发机器学习系统的一门优秀语言。作为动态语言，它支持快速探索和实验，并且针对Python的机... '}\n",
      "{'title': 'TensorFlow：实战Google深度学习框架（第2版）', 'author': '顾思宇、梁博文、郑泽宇 ', 'Publishinghouse': ' 电子工业出版社 ', 'publishingTime': ' 2018-2-1 ', 'price': ' 89', 'commits': '(134人评价)', 'documents': 'TensorFlow是谷歌2015年开源的主流深度学习框架，目前已得到广泛应用。《TensorFlow：实战Google深度学习框架（第2版）》为Tenso... '}\n",
      "{'title': '凸优化', 'author': 'Stephen Boyd、Lieven Vandenberghe ', 'Publishinghouse': ' 清华大学出版社 ', 'publishingTime': ' 2013-1 ', 'price': ' 99.00元', 'commits': '(168人评价)', 'documents': '《信息技术和电气工程学科国际知名教材中译本系列:凸优化》内容非常丰富。理论部分由4章构成，不仅涵盖了凸优化的所有基本概念和主要结果，还详细介绍了几类基本的凸... '}\n",
      "{'title': 'Probabilistic Graphical Models           : Principles and Techniques', 'author': 'Daphne Koller、Nir Friedman ', 'Publishinghouse': ' The MIT Press ', 'publishingTime': ' 2009-7-31 ', 'price': ' USD 120.00', 'commits': '(142人评价)', 'documents': 'Most tasks require a person or an automated system to reason--to reach conclus... '}\n",
      "{'title': '最优化导论', 'author': 'Edwin K. P. Chong、Stanislaw H. Zak ', 'Publishinghouse': ' 电子工业出版社 ', 'publishingTime': ' 2015-10 ', 'price': ' 89.00', 'commits': '(37人评价)', 'documents': '本书是一本关于最优化技术的入门教材，全书共分为四部分。第一部分是预备知识。第二部分主要介绍无约束的优化问题，并介绍线性方程的求解方法、神经网络方法和全局搜索... '}\n",
      "{'title': '深度学习           : 智能时代的核心驱动力量', 'author': '[美]特伦斯·谢诺夫斯基（Terrence Sejnowski） ', 'Publishinghouse': ' 中信出版集团 ', 'publishingTime': ' 2019-2 ', 'price': ' 88', 'commits': '(420人评价)', 'documents': '全球科技巨头纷纷拥抱深度学习，自动驾驶、AI医疗、语音识别、图像识别、智能翻译以及震惊世界的AlphaGo，背后都是深度学习在发挥神奇的作用。深度学习是人工... '}\n",
      "{'title': '机器学习与优化', 'author': '[意] 罗伯托·巴蒂蒂、[意] 毛罗·布鲁纳托 ', 'Publishinghouse': ' 人民邮电出版社 ', 'publishingTime': ' 2018-5 ', 'price': ' 89.00元', 'commits': '(15人评价)', 'documents': '本书是机器学习实战领域的一本佳作，从机器学习的基本概念讲起，旨在将初学者引入机器学习的大门，并走上实践的道路。本书通过讲解机器学习中的监督学习和无监督学习，... '}\n",
      "{'title': '集体智慧编程', 'author': 'Toby Segaran ', 'Publishinghouse': ' 电子工业出版社 ', 'publishingTime': ' 2015-3 ', 'price': ' 79.00元', 'commits': '(86人评价)', 'documents': '《集体智慧编程》以机器学习与计算统计为主题背景，专门讲述如何挖掘和分析Web 上的数据和资源，如何分析用户体验、市场营销、个人品味等诸多信息，并得出有用的结... '}\n",
      "{'title': 'Foundations of Machine Learning', 'author': 'Mehryar Mohri、Afshin Rostamizadeh、Ameet Talwalkar ', 'Publishinghouse': ' The MIT Press ', 'publishingTime': ' 2012-8-17 ', 'price': ' USD 70.00', 'commits': '(71人评价)', 'documents': '无简介'}\n",
      "{'title': 'Information Theory, Inference and Learning Algorithms', 'author': 'David J. C. MacKay ', 'Publishinghouse': ' Cambridge University Press ', 'publishingTime': ' 2003-10-6 ', 'price': ' USD 80.00', 'commits': '(113人评价)', 'documents': 'Information theory and inference, taught together in this exciting textbook, l... '}\n",
      "{'title': '应用预测建模', 'author': '[美] 马克斯·库恩、[美] 谢尔·约翰逊 ', 'Publishinghouse': ' 机械工业出版社 ', 'publishingTime': ' 2016-4-25 ', 'price': ' 99.00元', 'commits': '(17人评价)', 'documents': '无简介'}\n",
      "{'title': '数据挖掘           : 概念与技术（原书第3版）', 'author': '（美）Jiawei Han、（加）Micheline Kamber、（加）Jian Pei ', 'Publishinghouse': ' 机械工业出版社 ', 'publishingTime': ' 2012-8 ', 'price': ' 79.00元', 'commits': '(174人评价)', 'documents': '数据挖掘领域最具里程碑意义的经典著作\\n完整全面阐述该领域的重要知识和技术创新\\n这是一本数据挖掘和知识发现的优秀教材，结构合理、条理清晰。本书既保留了相当篇幅... '}\n",
      "{'title': 'Understanding Machine Learning           : From Theory to Algorithms', 'author': 'Shai Shalev-Shwartz、Shai Ben-David ', 'Publishinghouse': ' Cambridge University Press ', 'publishingTime': ' 2014 ', 'price': ' USD 48.51', 'commits': '(45人评价)', 'documents': 'Machine learning is one of the fastest growing areas of computer science, with... '}\n",
      "{'title': '信息论、推理与学习算法', 'author': '[英] David J.C. MacKay ', 'Publishinghouse': ' 高等教育出版社 ', 'publishingTime': ' 2006-7 ', 'price': ' 59.00元', 'commits': '(55人评价)', 'documents': '本书是英国剑桥大学卡文迪许实验室的著名学者David J．C．MacKay博士总结多年教学经验和科研成果，于2003年推出的一部力作。本书作者不仅透彻地论述... '}\n",
      "{'title': 'Bayesian Reasoning and Machine Learning', 'author': 'David Barber ', 'Publishinghouse': ' Cambridge University Press ', 'publishingTime': ' 2011 ', 'price': ' USD 84.99', 'commits': '(76人评价)', 'documents': 'Machine learning methods extract value from vast data sets quickly and with mo... '}\n",
      "{'title': 'Deep Learning with PyTorch', 'author': 'Eli Stevens、Luca Antiga ', 'Publishinghouse': ' Manning Publications ', 'publishingTime': ' 2020-6-4 ', 'price': ' USD 49.99', 'commits': '(19人评价)', 'documents': 'Deep Learning with PyTorch teaches you how to implement deep learning algorith... '}\n",
      "{'title': '产品逻辑之美：打造复杂的产品系统', 'author': '潘一鸣 编著 ', 'Publishinghouse': ' 电子工业出版社 ', 'publishingTime': ' 2019-8 ', 'price': ' 79.00元', 'commits': '(58人评价)', 'documents': '互联网已经深刻地改变了这个时代。为了更好地满足用户的需求，互联网产品背后的系统逻辑也变得越来越复杂。为了跟上时代的脚步，每一个互联网从业者都需要不断升级自己... '}\n",
      "{'title': 'Applied Predictive Modeling', 'author': 'Max Kuhn、Kjell Johnson ', 'Publishinghouse': ' Springer ', 'publishingTime': ' 2013-9-15 ', 'price': ' USD 89.95', 'commits': '(51人评价)', 'documents': 'This text is intended for a broad audience as both an introduction to predicti... '}\n",
      "{'title': '统计学习导论           : 基于R应用', 'author': 'Gareth James、Daniela Witten、Trevor Hastie ', 'Publishinghouse': ' 机械工业出版社 ', 'publishingTime': ' 2015-5-1 ', 'price': ' CNY 79.00', 'commits': '(111人评价)', 'documents': '《统计学习导论:基于R应用》读者对象是那些希望运用统计学习前沿技术分析数据的人士，既包括统计学专业的师生，也包括非统计学专业的从业者。 '}\n",
      "{'title': '图解机器学习', 'author': '杉山将 ', 'Publishinghouse': ' 人民邮电出版社 ', 'publishingTime': ' 2015-4 ', 'price': ' 49', 'commits': '(165人评价)', 'documents': '本书用丰富的图示，从最小二乘法出发，对基于最小二乘法实现的各种机器学习算法进行了详细的介绍。第Ⅰ部分介绍了机器学习领域的概况；第Ⅱ部分和第Ⅲ部分分别介绍了各... '}\n",
      "{'title': '人工智能           : 一种现代方法(第2版)(中文版)', 'author': 'Peter Norvig、Stuart Russell ', 'Publishinghouse': ' 人民邮电出版社 ', 'publishingTime': ' 2004-6 ', 'price': ' 85.00元', 'commits': '(224人评价)', 'documents': '《人工智能:一种现代方法》(第2版中文版)以详尽和丰富的资料，从理性智能体的角度，全面阐述了人工智能领域的核心内容，并深入介绍了各个主要的研究方向，是一本难... '}\n",
      "{'title': 'Linear Algebra and Learning from Data', 'author': 'Gilbert Strang ', 'Publishinghouse': ' Wellesley-Cambridge Press ', 'publishingTime': ' 2019-1-31 ', 'price': ' GBP 58.99', 'commits': '(少于10人评价)', 'documents': 'This is a textbook to help readers understand the steps that lead to deep lear... '}\n",
      "{'title': 'Interpretable Machine Learning', 'author': '[德] Christoph Molnar ', 'Publishinghouse': ' Lulu Press ', 'publishingTime': ' 2019-3-24 ', 'price': ' USD 47.62', 'commits': '(少于10人评价)', 'documents': 'This book is about making machine learning models and their decisions interpre... '}\n",
      "{'title': '线性代数及其应用（原书第5版）', 'author': '[美] 戴维 C.雷、[美] 史蒂文 R.雷、[美] 朱迪 J.麦克唐纳 ', 'Publishinghouse': ' 机械工业出版社 ', 'publishingTime': ' 2018-7 ', 'price': ' 79.00元', 'commits': '(40人评价)', 'documents': '本书是一本的现代教材，给出新的线性代数基本介绍和一些有趣应用，目的是帮助学生掌握线性代数的基本概念及应用技巧，为后续课程的学习和工作实践奠定基础。主要内容包... '}\n",
      "{'title': '数据挖掘导论           : （英文版）', 'author': '(美)Pang-Ning Tan、Michael Steinbach、Vipin Kumar ', 'Publishinghouse': ' 机械工业出版社 ', 'publishingTime': ' 2010-9 ', 'price': ' 59.00元', 'commits': '(57人评价)', 'documents': '本书全面介绍了数据挖掘的理论和方法，着重介绍如何用数据挖掘知识解决各种实际问题，涉及学科领域众多，适用面广。\\n书中涵盖5个主题：数据、分类、关联分析、聚类和... '}\n",
      "{'title': '利用Python进行数据分析 原书第2版', 'author': 'Wes McKinney ', 'Publishinghouse': ' 机械工业出版社 ', 'publishingTime': ' 2018-7 ', 'price': ' 119', 'commits': '(203人评价)', 'documents': '本书由Python pandas项目创始人Wes McKinney亲笔撰写，详细介绍利用Python进行操作、处理、清洗和规整数据等方面的具体细节和基本要点... '}\n",
      "{'title': '人工智能 （第2版）', 'author': '[美] 史蒂芬·卢奇（Stephen Lucci）、[美]丹尼·科佩克（Danny Kopec） ', 'Publishinghouse': ' 人民邮电出版社 ', 'publishingTime': ' 2018-8-1 ', 'price': ' 108', 'commits': '(32人评价)', 'documents': '作为计算机科学的一个分支，人工智能主要研究、开发用于模拟、延伸和扩展人类智能的理论、方法、技术及应用系统，涉及机器人、语音识别、图像识别、自然语言处理和专家... '}\n",
      "{'title': '知识图谱', 'author': '赵军 ', 'Publishinghouse': ' 高等教育出版社 ', 'publishingTime': ' 2018-12 ', 'price': ' 49.90元', 'commits': '(45人评价)', 'documents': '本书聚焦于知识图谱，分十个章节围绕知识建模、知识获取、知识融合、存储和检索、知识推理以及知识服务等知识图谱生命周期各个主要环节展开介绍。每章以任务为导引，引... '}\n",
      "{'title': '统计学习基础           : （英文版）', 'author': '哈斯蒂 (Hastie.T.) ', 'Publishinghouse': ' 世界图书出版公司 ', 'publishingTime': ' 2009-1-1 ', 'price': ' 88.00元', 'commits': '(42人评价)', 'documents': '计算和信息技术的飞速发展带来了医学、生物学、财经和营销等诸多领域的海量数据。理解这些数据是一种挑战，这导致了统计学领域新工具的发展，并延伸到诸如数据挖掘、机... '}\n",
      "{'title': '白话机器学习算法', 'author': '[新加坡] 黄莉婷、[新加坡] 苏川集 ', 'Publishinghouse': ' 人民邮电出版社 ', 'publishingTime': ' 2019-2 ', 'price': ' 49.00元', 'commits': '(42人评价)', 'documents': '与使用数学语言或计算机编程语言讲解算法的书不同，本书另辟蹊径，用通俗易懂的人类语言以及大量有趣的示例和插图讲解10多种前沿的机器学习算法。内容涵盖k均值聚类... '}\n",
      "{'title': '漫画机器学习入门', 'author': '（日）大关真之 ', 'Publishinghouse': ' 化学工业出版社 ', 'publishingTime': ' 2018-11 ', 'price': ' 49.00元', 'commits': '(16人评价)', 'documents': '本书以多层神经网络、玻尔兹曼机器学习等经典理论为开端，以深度学习为结果，向读者展示了一个非常美妙的机器学习技术领域。内容包括数据采集、数据挖掘、机器学习、支... '}\n",
      "{'title': '强化学习：原理与Python实现', 'author': '肖智清 ', 'Publishinghouse': ' 机械工业出版社 ', 'publishingTime': ' 2019-7-21 ', 'price': ' 89', 'commits': '(47人评价)', 'documents': '本书理论完备，涵盖主流经典强化学习算法和深度强化学习算法；实战性强，基于Python、Gym、TensorFlow 2、AlphaZero等构建，配套代码与... '}\n",
      "{'title': 'Mathematics for Machine Learning', 'author': 'Marc Peter Deisenroth、A. Aldo Faisal、Cheng Soon Ong ', 'Publishinghouse': ' Cambridge University Press ', 'publishingTime': ' 2020-1-31 ', 'price': ' $46.99', 'commits': '(少于10人评价)', 'documents': 'https://mml-book.github.io/\\n::This self-contained textbook introduces all the ... '}\n",
      "{'title': '机器学习基础', 'author': '梅尔亚·莫里（Mehryar Mohri），阿夫欣·罗斯塔米扎达尔（Afshin Rostamizadeh），阿米特·塔尔沃卡尔 （Ameet Talwalkar） ', 'Publishinghouse': ' 机械工业出版社 ', 'publishingTime': ' 2019-5-1 ', 'price': ' 99', 'commits': '(少于10人评价)', 'documents': '无简介'}\n",
      "{'title': '精通特征工程', 'author': '[美] 爱丽丝 • 郑、[美] 阿曼达 • 卡萨丽 ', 'Publishinghouse': ' 人民邮电出版社 ', 'publishingTime': ' 2019-4 ', 'price': ' 59.00元', 'commits': '(22人评价)', 'documents': '特征工程是机器学习流程中至关重要的一个环节，然而专门讨论这个话题的著作却寥寥无几。本书旨在填补这一空白，着重阐明特征工程的基本原则，介绍大量特征工程技术，教... '}\n",
      "{'title': 'R语言实战（第2版）', 'author': '[美] Robert I. Kabacoff ', 'Publishinghouse': ' 人民邮电出版社 ', 'publishingTime': ' 2016-5 ', 'price': ' 99.00元', 'commits': '(168人评价)', 'documents': '本书注重实用性，是一本全面而细致的R指南，高度概括了该软件和它的强大功能，展示了使用的统计示例，且对于难以用传统方法处理的凌乱、不完整和非正态的数据给出了优... '}\n",
      "{'title': 'Neural Networks and Deep Learning', 'author': 'Michael Nielsen ', 'Publishinghouse': ' 2016-1', 'publishingTime': ' ', 'price': ' ', 'commits': '(190人评价)', 'documents': 'http://neuralnetworksanddeeplearning.com/ '}\n",
      "{'title': '白话大数据与机器学习', 'author': '高扬、卫峥、尹会生 ', 'Publishinghouse': ' 机械工业出版社 ', 'publishingTime': ' 2016-6 ', 'price': ' 69', 'commits': '(217人评价)', 'documents': '本书通俗易懂，有高中数学基础即可看懂，同时结合大量案例与漫画，将高度抽象的数学、算法与应用，与现实生活中的案例和事件一一做了关联，将源自生活的抽象还原出来，... '}\n",
      "{'title': '强化学习（第2版）', 'author': '【加】Richard S. Sutton（理查德·桑顿）、【美】Andrew G. Barto（安德鲁·巴图） 著 ', 'Publishinghouse': ' 电子工业出版社 ', 'publishingTime': ' 2019-9 ', 'price': ' 168.00元', 'commits': '(25人评价)', 'documents': '《强化学习（第2版）》作为强化学习思想的深度解剖之作，被业内公认为是一本强化学习基础理论的经典著作。它从强化学习的基本思想出发，深入浅出又严谨细致地介绍了马... '}\n"
     ]
    },
    {
     "name": "stdout",
     "output_type": "stream",
     "text": [
      "{'title': '概率论及其应用', 'author': '威廉·费勒 ', 'Publishinghouse': ' 人民邮电出版社 ', 'publishingTime': ' 2006-5 ', 'price': ' 59.00元', 'commits': '(170人评价)', 'documents': '《概率论及其应用》(第3版)涉及面极广，不仅讨论了概率论在离散空间中的诸多课题，也涉及了概率论在物理学、化学、生物学(特别是遗传学)、博弈论及经济学等方面的... '}\n",
      "{'title': '机器学习线性代数基础           : Python语言描述', 'author': '张雨萌 编著 ', 'Publishinghouse': ' 北京大学出版社 ', 'publishingTime': ' 49.00元', 'price': ' ', 'commits': '(少于10人评价)', 'documents': '数学是机器学习绕不开的基础知识，传统教材的风格偏重理论定义和运算技巧，想以此高效地打下机器学习的数学基础，针对性和可读性并不佳。本书以机器学习涉及的线性代数... '}\n",
      "{'title': '机器学习与R语言实战', 'author': '丘祐玮 (Yu-Wei Chiu) ', 'Publishinghouse': ' 机械工业出版社 ', 'publishingTime': ' 2016-5-1 ', 'price': ' CNY 69.00', 'commits': '(少于10人评价)', 'documents': '本书共11章。第1章介绍如何创建一个可用的R环境和基本的R命令；第2章讲述如何使用R语言进行探索性数据分析；第3章重点探讨数据采样和概率分布的概念；第4章探... '}\n",
      "{'title': 'Neural Networks and Learning Machines           : Third Edition', 'author': 'Simon O. Haykin ', 'Publishinghouse': ' Pearson ', 'publishingTime': ' 2008-11-28 ', 'price': ' USD 252.40', 'commits': '(53人评价)', 'documents': 'For graduate-level neural network courses offered in the departments of Comput... '}\n",
      "{'title': 'TensorFlow+Keras深度学习人工智能实践应用', 'author': '林大贵 ', 'Publishinghouse': ' 清华大学出版社 ', 'publishingTime': ' 2018-1-1', 'price': ' ', 'commits': '(16人评价)', 'documents': '本书提供安装、上机操作指南，同时辅以大量范例程序介绍TensorFlow + Keras深度学习方面的知识。本书分9部分，共21章，内容主要包括基本概念介绍... '}\n",
      "{'title': '线性代数应该这样学           : 第3版', 'author': 'Sheldon Axler ', 'Publishinghouse': ' 人民邮电出版社 ', 'publishingTime': ' 2016-10 ', 'price': ' 49', 'commits': '(117人评价)', 'documents': '本书强调抽象的向量空间和线性映射, 内容涉及多项式、本征值、本征向量、内积空间、迹与行列式等. 本书在内容编排和处理方法上与国内通行的做法大不相同, 它完全... '}\n",
      "{'title': '矩阵分析与应用（第2版）', 'author': '张贤达 ', 'Publishinghouse': ' 清华大学出版社 ', 'publishingTime': ' 89.00元', 'price': ' ', 'commits': '(43人评价)', 'documents': '《矩阵分析与应用（第2版）》系统、全面地介绍矩阵分析的主要理论、具有代表性的方法及一些典型应用。全书共10章，内容包括矩阵代数基础、特殊矩阵、矩阵微分、梯度... '}\n",
      "{'title': '特征工程入门与实践', 'author': 'Sinan Ozdemir、Divya Susarla ', 'Publishinghouse': ' 人民邮电出版社 ', 'publishingTime': ' 2019-5-27 ', 'price': ' 59.00元', 'commits': '(15人评价)', 'documents': '特征工程是数据科学和机器学习流水线上的重要一环，包括识别、清洗、构建和发掘数据的特征，为进一步解释数据并进行预测性分析做准备。\\n本书囊括了特征工程的全流程，... '}\n",
      "{'title': 'Statistical Rethinking           : A Bayesian Course with Examples in R and Stan', 'author': 'Richard McElreath ', 'Publishinghouse': 'CRC ', 'publishingTime': ' 2015-12-21 ', 'price': ' USD 99.00', 'commits': '(33人评价)', 'documents': 'Statistical Rethinking: A Bayesian Course with Examples in R and Stan builds r... '}\n",
      "{'title': '机器学习与R语言（原书第2版）', 'author': '布雷特·兰茨 (Brett Lantz) ', 'Publishinghouse': ' 机械工业出版社 ', 'publishingTime': ' 2017-3-15 ', 'price': ' CNY 69.00', 'commits': '(少于10人评价)', 'documents': '无简介'}\n",
      "{'title': '统计决策理论和贝叶斯分析', 'author': 'James O.Berger ', 'Publishinghouse': ' 世界图书出版公司 ', 'publishingTime': ' 2004-11 ', 'price': ' 88.00元', 'commits': '(15人评价)', 'documents': 'The relationships （both conceptual and mathematical） between Bayesian analysis... '}\n",
      "{'title': '推荐系统', 'author': '[奥地利] Dietmar Jannach、Markus Zanker、Alexander Felfernig、Gerhard Friedrich ', 'Publishinghouse': ' 人民邮电出版社 ', 'publishingTime': ' 2013-6-25 ', 'price': ' 59.00元', 'commits': '(203人评价)', 'documents': '编辑推荐：\\n通过对本书的学习，读者不仅可以全面系统地了解该领域的基础原理，还能试验如何搭建一套真正的推荐系统。\\n—— 百度主任架构师、百度技术委员会主席 廖... '}\n",
      "{'title': '构建实时机器学习系统', 'author': '彭河森、汪涵 ', 'Publishinghouse': ' 机械工业出版社 ', 'publishingTime': ' 2017-8-1 ', 'price': ' 59.00元', 'commits': '(24人评价)', 'documents': '《构建实时机器学习系统》特点：以全栈机器学习应用为目标\\n通过介绍Docker等部署工具，帮助读者加速掌握机器学习模型的产业化进程。不管你是就职于大公司，还是... '}\n",
      "{'title': '机器学习vs复杂系统', 'author': '许铁 ', 'Publishinghouse': ' 电子工业出版社 ', 'publishingTime': ' 2018-8 ', 'price': ' 59.00元', 'commits': '(20人评价)', 'documents': '《机器学习vs复杂系统》从跨学科视角来看待人工智能这个技术性的学科。围绕用数学模型预测未来这一主题，介绍算法，主要包括现在流行的机器学习和深度学习算法，以及... '}\n",
      "{'title': '贝叶斯方法           : 概率编程与贝叶斯推断', 'author': '[加] Cameron Davidson-Pilon ', 'Publishinghouse': ' 人民邮电出版社 ', 'publishingTime': ' 2017-1-1 ', 'price': ' 59.00元', 'commits': '(57人评价)', 'documents': '贝叶斯推理的方法非常自然和极其强大。然而，大多数图书讨论贝叶斯推理，依赖于非常复杂的数学分析和人工的例子，使没有强大数学背景的人无法接触。不过，现在好了，卡... '}\n",
      "{'title': '深入浅出统计学', 'author': 'Dawn Griffiths ', 'Publishinghouse': ' 电子工业出版社 ', 'publishingTime': ' 2018-4 ', 'price': ' 99.00元', 'commits': '(17人评价)', 'documents': '《深入浅出统计学》具有“深入浅出”系列的一贯特色，提供符合直觉的理解方式，让统计理论的学习既有趣又自然。从应对考试到解决实际问题，无论你是学生还是数据分析师... '}\n",
      "{'title': '心智社会           : 从细胞到人工智能，人类思维的优雅解读', 'author': '[美] 马文·明斯基（Marvin Minsky） ', 'Publishinghouse': ' 机械工业出版社 ', 'publishingTime': ' 2016-12 ', 'price': ' 99.00', 'commits': '(149人评价)', 'documents': '物理学家用几条定律就解释了全世界甚至全宇宙，但对人类的思维来说行不通。\\n人类思维是一个复杂的过程。“为什么人类下雨不想被淋湿，却愿意在卫生间沐浴”这种3岁小... '}\n",
      "{'title': 'Python机器学习实践指南', 'author': '库姆斯 (Alexander T.Combs) ', 'Publishinghouse': ' 人民邮电出版社 ', 'publishingTime': ' 2017-5-1 ', 'price': ' 69', 'commits': '(31人评价)', 'documents': '机器学习是近年来渐趋热门的一个领域，同时Python 语言经过一段时间的发展也已逐渐成为主流的编程语言之一。本书结合了机器学习和Python 语言两个热门的... '}\n",
      "{'title': 'Computer Vision           : Models, Learning, and Inference', 'author': 'Dr Simon J. D. Prince ', 'Publishinghouse': ' Cambridge University Press ', 'publishingTime': ' 2012-6-18 ', 'price': ' USD 99.99', 'commits': '(28人评价)', 'documents': 'This modern treatment of computer vision focuses on learning and inference in ... '}\n",
      "{'title': 'Python Data Science Handbook           : Tools and Techniques for Developers', 'author': 'Jake VanderPlas ', 'Publishinghouse': \" O'Reilly Media \", 'publishingTime': ' 2016-6-25 ', 'price': ' USD 59.99', 'commits': '(96人评价)', 'documents': 'For many researchers, Python is a first-class tool mainly because of its libra... '}\n",
      "{'title': '神经网络与机器学习（原书第3版）', 'author': '[加] Simon Haykin ', 'Publishinghouse': ' 机械工业出版社 ', 'publishingTime': ' 2011-3 ', 'price': ' 79.00元', 'commits': '(130人评价)', 'documents': '神经网络是计算智能和机器学习的重要分支，在诸多领域都取得了很大的成功。在众多神经网络著作中，影响最为广泛的是Simon Haykin的《神经网络原理》（第3... '}\n",
      "{'title': '语音与语言处理           : ：自然语言处理、计算语言学和语音识别导论', 'author': 'Daniel Jurafsky、James H. Martin ', 'Publishinghouse': ' 人民邮电出版社 ', 'publishingTime': ' 2010-12-5 ', 'price': ' 138.00元', 'commits': '(52人评价)', 'documents': '本书是第一本从各个层面全面介绍语言技术的书，自第1版出版以来，一直好评如潮，被国外许多著名大学选为自然语言处理和计算语言学课程的主要教材。本书将深入的语言分... '}\n",
      "{'title': '智能时代           : 当所有的机器都能学习思考，我们的生活会如何改变', 'author': 'Jeff Hawkins、Sandra Blakeslee ', 'Publishinghouse': ' 译言·东西文库／中国华侨出版社 ', 'publishingTime': ' 2014-7-1 ', 'price': ' 42.00', 'commits': '(214人评价)', 'documents': '世界科技界领袖级人物、掌上电脑PDA发明人杰夫•霍金斯经典力著全新升级版。\\n详细揭示未来主流大趋势,比大数据更能决定我们生活的是智能。智能手机，智能汽车，智... '}\n",
      "{'title': 'Reinforcement Learning           : An Introduction (second edition)', 'author': 'Richard S. Sutton、Andrew G. Barto ', 'Publishinghouse': ' A Bradford Book ', 'publishingTime': ' 2018-11-13 ', 'price': ' USD 76.00', 'commits': '(61人评价)', 'documents': 'The significantly expanded and updated new edition of a widely used text on re... '}\n",
      "{'title': '深入理解机器学习：从原理到算法           : 从原理到算法', 'author': 'Shai Shalev  Shwartz、Shai Ben David ', 'Publishinghouse': ' 机械工业出版社 ', 'publishingTime': ' 2016-7 ', 'price': ' 79', 'commits': '(26人评价)', 'documents': '本书涵盖了机器学习领域中的严谨理论和实用方法，讨论了学习的计算复杂度、凸性和稳定性、PAC-贝叶斯方法、压缩界等概念，并介绍了一些重要的算法范式，包括随机梯... '}\n",
      "{'title': '数据科学实战', 'author': \"[美] Rachel Schutt、[美] Cathy O'Neil \", 'Publishinghouse': ' 人民邮电出版社 ', 'publishingTime': ' 2015-3 ', 'price': ' 79.00元', 'commits': '(150人评价)', 'documents': '•\\t统计推断、探索性数据分析（EDA）及数据科学工作流程\\n•\\t算法\\n•\\t垃圾邮件过滤、朴素贝叶斯和数据清理\\n•\\t逻辑回归\\n•\\t金融建模\\n•\\t推荐引擎和因果关... '}\n",
      "{'title': 'All of Statistics           : A Concise Course in Statistical Inference', 'author': 'Larry Wasserman ', 'Publishinghouse': ' Springer ', 'publishingTime': ' 2010-12-2 ', 'price': ' USD 99.00', 'commits': '(22人评价)', 'documents': '无简介'}\n",
      "{'title': 'Make Your Own Neural Network', 'author': 'Tariq Rashid ', 'Publishinghouse': ' CreateSpace Independent Publishing Platform ', 'publishingTime': ' 2016-3-31 ', 'price': ' USD 45.00', 'commits': '(50人评价)', 'documents': '无简介'}\n",
      "{'title': '深度学习与图像识别：原理与实践', 'author': '魏溪含\\u3000涂铭\\u3000张修鹏\\u3000著 ', 'Publishinghouse': ' 机械工业出版社 ', 'publishingTime': ' 2019-7-10 ', 'price': ' 129.00元', 'commits': '(36人评价)', 'documents': '这是一部从技术原理、算法和工程实践3个维度系统讲解图像识别的著作，由阿里巴巴达摩院算法专家、阿里巴巴技术发展专家、阿里巴巴数据架构师联合撰写。\\n在知识点的选... '}\n",
      "{'title': 'Hands-On Machine Learning for Algorithmic Trading           : Design and implement investment strategies based on smart algorithms that learn from data using', 'author': 'Stefan Jansen ', 'Publishinghouse': ' Packt Publishing ', 'publishingTime': ' 2018-12-31 ', 'price': ' GBP 34.99', 'commits': '(少于10人评价)', 'documents': '无简介'}\n",
      "{'title': '程序员的数学3           : 线性代数', 'author': '[日] 平冈和幸、[日] 堀玄 ', 'Publishinghouse': ' 人民邮电出版社 ', 'publishingTime': ' 2016-3 ', 'price': ' 79.00元', 'commits': '(163人评价)', 'documents': '本书沿袭“程序员的数学”系列平易近人的风格，用通俗的语言和具象的图表深入讲解了编程中所需的线性代数知识。内容包括向量、矩阵、行列式、秩、逆矩阵、线性方程、L... '}\n",
      "{'title': 'Feature Engineering for Machine Learning Models', 'author': 'Alice Zheng ', 'Publishinghouse': ' O′Reilly ', 'publishingTime': ' 2017-12-31 ', 'price': ' GBP 34.50', 'commits': '(27人评价)', 'documents': '特征工程对于应用机器学习来说是基础的，但是使用域知识来加强你的预测模型既困难成本又高。为了弥补特征工程现有资料的不足，本书将会为初中级数据科学家讲解如何处理... '}\n",
      "{'title': 'Programming Collective Intelligence           : Building Smart Web 2.0 Applications', 'author': 'Toby Segaran ', 'Publishinghouse': \" O'Reilly Media \", 'publishingTime': ' 2007-8-26 ', 'price': ' USD 39.99', 'commits': '(425人评价)', 'documents': 'Want to tap the power behind search rankings, product recommendations, social ... '}\n",
      "{'title': 'The Hundred-Page Machine Learning Book', 'author': 'Andriy Burkov ', 'Publishinghouse': ' 2019-1-13 ', 'publishingTime': ' USD 45.00', 'price': ' ', 'commits': '(10人评价)', 'documents': 'Everything you really need to know in Machine Learning in a hundred pages.\\nThi... '}\n",
      "{'title': 'A First Course in Bayesian Statistical Methods', 'author': 'Peter D. Hoff ', 'Publishinghouse': ' Springer ', 'publishingTime': ' 2009-06-15 ', 'price': ' USD 69.95', 'commits': '(53人评价)', 'documents': \"A self-contained introduction to probability, exchangeability and Bayes' rule ... \"}\n",
      "{'title': '数学女孩', 'author': '[日]结城浩 ', 'Publishinghouse': ' 人民邮电出版社 ', 'publishingTime': ' 2016-1-1 ', 'price': ' CNY 42.00', 'commits': '(364人评价)', 'documents': '《数学女孩》以小说的形式展开，重点描述一群年轻人探寻数学中的美。内容由浅入深，数学讲解部分十分精妙，被称为“绝赞的初等数学科普书”。内容涉及数列和数学模型、... '}\n",
      "{'title': 'TensorFlow深度学习           : 算法原理与编程实战', 'author': '蒋子阳 ', 'Publishinghouse': ' 中国水利水电出版社 ', 'publishingTime': ' 2019-1-1 ', 'price': ' 99.80元', 'commits': '(少于10人评价)', 'documents': 'TensorFlow是谷歌研发的人工智能学习系统，是一个用于数值计算的开源软件库。《TensorFlow深度学习算法原理与编程实战》以基础+实践相结合的形式... '}\n",
      "{'title': '基于深度学习的自然语言处理', 'author': 'Yoav Goldberg ', 'Publishinghouse': ' 机械工业出版社 ', 'publishingTime': ' 2018-5-1 ', 'price': ' 69', 'commits': '(55人评价)', 'documents': '本书重点介绍了神经网络模型在自然语言处理中的应用。首先介绍有监督的机器学习和前馈神经网络的基本知识，如何将机器学习方法应用在自然语言处理中，以及词向量表示（... '}\n",
      "{'title': 'Tensorflow：实战Google深度学习框架', 'author': '郑泽宇、顾思宇 ', 'Publishinghouse': ' 电子工业出版社 ', 'publishingTime': ' 2017-2-10 ', 'price': ' 79', 'commits': '(268人评价)', 'documents': 'TensorFlow是谷歌2015年开源的主流深度学习框架，目前已在谷歌、优步（Uber）、京东、小米等科技公司广泛应用。《Tensorflow实战》为使用... '}\n",
      "{'title': '机器学习', 'author': '弗拉赫 (Peter Flach) ', 'Publishinghouse': ' 人民邮电出版社 ', 'publishingTime': ' 2016-1-1 ', 'price': ' CNY 79.00', 'commits': '(30人评价)', 'documents': '本书是最全面的机器学习教材之一。书中首先介绍了机器学习的构成要素（任务、模型、特征）和机器学习任务，接着详细分析了逻辑模型（树模型、规则模型）、几何模型（线... '}\n"
     ]
    },
    {
     "name": "stdout",
     "output_type": "stream",
     "text": [
      "{'title': '智能机器如何思考           : 深度神经网络的秘密', 'author': '[美]肖恩·格里什（Sean Gerrish） ', 'Publishinghouse': ' 中信出版社 ', 'publishingTime': ' 2019-6-20 ', 'price': ' 69.00元', 'commits': '(18人评价)', 'documents': '任何足够先进的技术初看都与魔法无异。\\n自动驾驶汽车已经在很多国家上路，网飞的算法能主动预测你喜欢的电影，DeepMind的计算机程序通关了雅达利游戏，Alp... '}\n",
      "{'title': 'Learning with Kernels           : Support Vector Machines, Regularization, Optimization, and Beyond (Adaptive Computation and Mach', 'author': 'Bernhard Schlkopf、Alexander J. Smola ', 'Publishinghouse': ' The MIT Press ', 'publishingTime': ' 2001-12-15 ', 'price': ' USD 79.00', 'commits': '(42人评价)', 'documents': 'In the 1990s, a new type of learning algorithm was developed, based on results... '}\n",
      "{'title': 'Statistical Learning Theory', 'author': 'Vladimir N. Vapnik ', 'Publishinghouse': ' Wiley-Interscience ', 'publishingTime': ' 1998-9-30 ', 'price': ' USD 221.00', 'commits': '(31人评价)', 'documents': 'A comprehensive look at learning and generalization theory. The statistical th... '}\n",
      "{'title': '智能风控：原理 算法与工程实践           : 算法与工程实践', 'author': '梅子行 ', 'Publishinghouse': ' 机械工业出版社 ', 'publishingTime': ' 2020-1-1 ', 'price': ' 89元', 'commits': '(13人评价)', 'documents': '内容介绍\\n本书基于Python全面介绍了机器学习在信贷风控领域的应用与实践，从原理、算法与工程实践3个维度全面展开，包含21种实用算法和26个解决方案。\\n作... '}\n",
      "{'title': 'Python机器学习手册：从数据预处理到深度学习', 'author': '【美】克里斯·阿尔本（Chris Albon） ', 'Publishinghouse': ' 电子工业出版社 ', 'publishingTime': ' 2019-7 ', 'price': ' 89.00元', 'commits': '(少于10人评价)', 'documents': '《Python机器学习手册：从数据预处理到深度学习》采用基于任务的方式来介绍如何在机器学习中使用Python。书中有近200个独立的解决 方案，针对的都是数... '}\n",
      "{'title': 'Machine Learning with R - Second Edition', 'author': 'Brett Lantz ', 'Publishinghouse': ' Packt Publishing - ebooks Account ', 'publishingTime': ' 2015-8-3 ', 'price': ' USD 54.99', 'commits': '(12人评价)', 'documents': '无简介'}\n",
      "{'title': '深度学习导论与应用实践', 'author': '高随祥、文新、马艳军、李轩涯 ', 'Publishinghouse': ' 清华大学出版社 ', 'publishingTime': ' 2019-9-1', 'price': ' ', 'commits': '(少于10人评价)', 'documents': '无简介'}\n",
      "{'title': '南京大学人工智能本科专业教育培养体系           : 培养体系', 'author': '周志华 ', 'Publishinghouse': ' 机械工业出版社 ', 'publishingTime': ' 2019-5-1 ', 'price': ' 36', 'commits': '(少于10人评价)', 'documents': '本书基于南京大学人工智能学院的主要学术带头人在人工智能人才培养方面的教学改革项目，对人工智能本科人才培养体系进行了梳理，汇集了以南京大学人工智能学院院长周志... '}\n",
      "{'title': 'Pattern Classification', 'author': 'Richard O. Duda、Peter E. Hart、David G. Stork ', 'Publishinghouse': ' Wiley-Interscience ', 'publishingTime': ' 2000-11 ', 'price': ' USD 155.00', 'commits': '(111人评价)', 'documents': 'The first edition, published in 1973, has become a classic reference in the fi... '}\n",
      "{'title': 'Data Mining           : Concepts and Techniques, Third Edition', 'author': 'Jiawei Han、Micheline Kamber、Jian Pei ', 'Publishinghouse': ' Morgan Kaufmann ', 'publishingTime': ' 2011-7-6 ', 'price': ' USD 74.95', 'commits': '(62人评价)', 'documents': 'The increasing volume of data in modern business and science calls for more co... '}\n",
      "{'title': '概率论沉思录           : （英文版）', 'author': '杰恩斯 ', 'Publishinghouse': ' 人民邮电出版社 ', 'publishingTime': ' 2009-4 ', 'price': ' 99.00元', 'commits': '(173人评价)', 'documents': '《概率论沉思录(英文版)》将概率和统计推断融合在一起，用新的观点生动地描述了概率论在物理学、数学、经济学、化学和生物学等领域中的广泛应用，尤其是它阐述了贝叶... '}\n",
      "{'title': 'Bounded Rationality           : The Adaptive Toolbox', 'author': 'Gerd Gigerenzer、Reinhard Selten ', 'Publishinghouse': ' MIT Press ', 'publishingTime': ' 2002-7 ', 'price': ' GBP 28.79', 'commits': '(14人评价)', 'documents': 'In a complex and uncertain world, humans and animals make decisions under the ... '}\n",
      "{'title': '你一定爱读的人工智能简史', 'author': '【日】山本一成 ', 'Publishinghouse': ' 北京日报出版社', 'publishingTime': '阳光博客 ', 'price': ' 2019-5 ', 'commits': '(132人评价)', 'documents': '何谓人工智能？何谓人类智慧？我们人类又是如何作出决策的？包括此刻正在阅读的你，究竟是如何做到理解文意的呢？\\n如果不是被特意追问，我们很少会留意这些问题。其实... '}\n",
      "{'title': '数据挖掘概念与技术           : 概念与技术', 'author': '(加)Jiawei Han;Micheline Kamber ', 'Publishinghouse': ' 机械工业 ', 'publishingTime': ' 2007-3 ', 'price': ' 55.00元', 'commits': '(522人评价)', 'documents': '《数据挖掘概念与技术(原书第2版)》全面地讲述数据挖掘领域的重要知识和技术创新。在第1版内容相当全面的基础上，第2版展示了该领域的最新研究成果，例如挖掘流、... '}\n",
      "{'title': '概率图模型：原理与技术', 'author': '[美]Daphne Koller、[以色列]Nir Friedman ', 'Publishinghouse': ' 清华大学出版社 ', 'publishingTime': ' 2015-3-1 ', 'price': ' CNY 198.00', 'commits': '(42人评价)', 'documents': '概率图模型将概率论与图论相结合，是当前非常热门的一个机器学习研究方向。本书详细论述了有向图模型（又称贝叶斯网）和无向图模型（又称马尔可夫网）的表示、推理和学... '}\n",
      "{'title': 'The Master Algorithm           : How the Quest for the Ultimate Learning Machine Will Remake Our World', 'author': 'Pedro Domingos ', 'Publishinghouse': ' Basic Books ', 'publishingTime': ' 2015-9-22 ', 'price': ' USD 29.99', 'commits': '(74人评价)', 'documents': 'A thought-provoking and wide-ranging exploration of machine learning and the r... '}\n",
      "{'title': 'Foundations of Data Science', 'author': 'Avrim Blum、John Hopcroft、Ravindran Kannan ', 'Publishinghouse': ' Cambridge University Press ', 'publishingTime': ' 2020', 'price': ' ', 'commits': '(目前无人评价)', 'documents': 'Description Contents Resources Courses About the Authors\\nThis book provides an... '}\n",
      "{'title': '终身机器学习', 'author': '[美] 陈志源 ', 'Publishinghouse': ' 2019-6', 'publishingTime': ' ', 'price': ' ', 'commits': '(目前无人评价)', 'documents': '终身机器学习（Lifelong Machine Learning）第二版是对机器学习范式的介绍，通过积累过去的知识持续地学习，并将所学到的知识用于帮助未来的... '}\n",
      "{'title': '统计自然语言处理（第2版）', 'author': '宗成庆 ', 'Publishinghouse': ' 清华大学出版社 ', 'publishingTime': ' 2013-8-1 ', 'price': ' 85', 'commits': '(119人评价)', 'documents': '《中文信息处理丛书：统计自然语言处理（第2版）》全面介绍了统计自然语言处理的基本概念、理论方法和最新研究进展，内容包括形式语言与自动机及其在自然语言处理中的... '}\n",
      "{'title': 'Doing Data Science           : Straight Talk from the Frontline', 'author': \"Cathy O'Neil、Rachel Schutt \", 'Publishinghouse': \" O'Reilly Media \", 'publishingTime': ' 2013-10-30 ', 'price': ' USD 44.99', 'commits': '(64人评价)', 'documents': 'Now that answering complex and compelling questions with data can make the dif... '}\n",
      "{'title': '机器学习即服务：将Python机器学习创意快速转变为云端Web应用程序           : 将Python机器学习创意快速转变为云端Web应用程序', 'author': '[美]曼纽尔·阿米纳特吉（Manuel Amunategui）   迈赫迪·洛佩伊（Mehdi Roopaei）著 ', 'Publishinghouse': ' 机械工业出版社 ', 'publishingTime': ' 2019-6-18 ', 'price': ' 99.00元', 'commits': '(11人评价)', 'documents': '本书涵盖Kubernetes架构、部署、核心资源类型、系统扩缩容、存储卷、网络插件与网络本书由浅入深地介绍了一系列常见的Python数据科学问题。书中介绍的... '}\n",
      "{'title': '为什么           : 关于因果关系的新科学', 'author': '[美]朱迪亚·珀尔(Judea Pearl)、[美]达纳·麦肯齐(Dana Mackenzie) ', 'Publishinghouse': ' 中信出版集团股份有限公司 ', 'publishingTime': ' 2019-7-1 ', 'price': ' 69.00元', 'commits': '(601人评价)', 'documents': '在本书中，人工智能领域的权威专家朱迪亚·珀尔及其同事领导的因果关系革命突破多年的迷雾，厘清了知识的本质，确立了因果关系研究在科学探索中的核心地位。\\n而因果关... '}\n",
      "{'title': '写给大家的AI极简史           : 从图灵测试到智能物联', 'author': '[德] 托马斯·拉姆齐 ', 'Publishinghouse': ' 中国友谊出版公司 ', 'publishingTime': ' 2019-9 ', 'price': ' 49元', 'commits': '(49人评价)', 'documents': '如同飞机的出现彻底改变了人类的旅行轨迹，催生出一个全新的行业，人工智能也正在迎来属于它的“基蒂霍克时刻”。它将在未来20年内，从根本上改变人类的生活、工作、... '}\n",
      "{'title': 'Python自然语言处理', 'author': '(美)Steven Bird    Ewan Klein    Edward Loper ', 'Publishinghouse': ' 人民邮电出版社 ', 'publishingTime': ' 2014-6-25 ', 'price': ' 89.00', 'commits': '(77人评价)', 'documents': '自然语言处理（natural language processing，nlp）是计算机科学领域与人工智能领域中的一个重要方向。它研究能够实现人与计算机之间用... '}\n",
      "{'title': '人工智能基础（高中版）           : 高中版', 'author': '汤晓鸥、陈玉琨 ', 'Publishinghouse': ' 华东师范大学出版社 ', 'publishingTime': ' 2018-4-1 ', 'price': ' 35.00元', 'commits': '(179人评价)', 'documents': '人工智能基础（高中版）》是面向高中学生的教材。讲授人工智能的发展历史、基本概念以及实际应用，使学生理解人工智能的基本原理，特别是数据、算法与应用之间的相互关... '}\n",
      "{'title': 'Recommender Systems Handbook           : A Complete Guide for Research Scientists & Practitioners', 'author': 'Paul B. Kantor、Francesco Ricci、Lior Rokach、Bracha Shapira ', 'Publishinghouse': ' Springer ', 'publishingTime': ' 2010-10-29 ', 'price': ' GBP 153.00', 'commits': '(71人评价)', 'documents': 'The explosive growth of e-commerce and online environments has made the issue ... '}\n",
      "{'title': 'Reinforcement Learning           : An Introduction', 'author': 'Richard S. Sutton、Andrew G. Barto ', 'Publishinghouse': ' The MIT Press ', 'publishingTime': ' 1998-03-01 ', 'price': ' USD 60.00', 'commits': '(113人评价)', 'documents': 'Reinforcement learning, one of the most active research areas in artificial in... '}\n",
      "{'title': 'python机器学习', 'author': 'Sebastian Raschka ', 'Publishinghouse': ' 机械工业出版社 ', 'publishingTime': ' 2017-3-15 ', 'price': ' 79', 'commits': '(44人评价)', 'documents': '无简介'}\n",
      "{'title': 'Variational Bayesian Learning Theory', 'author': 'Shinichi Nakajima、Kazuho Watanabe、Masashi Sugiyama ', 'Publishinghouse': ' Cambridge University Press ', 'publishingTime': ' 2019-8-22 ', 'price': ' USD 160.00', 'commits': '(目前无人评价)', 'documents': 'Designed for researchers and graduate students in machine learning, this book ... '}\n",
      "{'title': '深度学习图解', 'author': '[美]安德鲁·特拉斯克(Andrew W. Trask) ', 'Publishinghouse': ' 清华大学出版社 ', 'publishingTime': ' 2020-1 ', 'price': ' 99', 'commits': '(少于10人评价)', 'documents': '《深度学习图解》指导你从最基础的每一行代码开始搭建深度学习网络！经验丰富的深度学习专家Andrew W. Trask以有趣的图解方式为你揭开深度学习的神秘面... '}\n",
      "{'title': '决战大数据（升级版）           : 大数据的关键思考', 'author': '车品觉 ', 'Publishinghouse': ' 浙江人民出版社 ', 'publishingTime': ' 2016-4 ', 'price': ' 56.90元', 'commits': '(195人评价)', 'documents': '\\uf06c\\t在数据无限的时代，我们如何利用大数据实现商业大洗牌？传统行业又该如何通过挖掘隐藏在大数据背后的信息，冲出层层危机，实现行业质和量的飞跃？企业如何才能实现... '}\n",
      "{'title': 'Spark高级数据分析', 'author': '[美] Sandy Ryza、[美] Uri Laserson、[英] Sean Owen、[美] Josh Wills ', 'Publishinghouse': ' 人民邮电出版社 ', 'publishingTime': ' 2015-11 ', 'price': ' 59.00元', 'commits': '(44人评价)', 'documents': '本书是使用Spark进行大规模数据分析的实战宝典，由著名大数据公司Cloudera的数据科学家撰写。四位作者首先结合数据科学和大数据分析的广阔背景讲解了Sp... '}\n",
      "{'title': '模式识别与智能计算', 'author': '杨淑莹 ', 'Publishinghouse': ' 电子工业 ', 'publishingTime': ' 2008-1 ', 'price': ' 48.00元', 'commits': '(26人评价)', 'documents': '《模式识别与智能计算:Matlab技术实现》广泛吸取统计学、神经网络、数据挖掘、机器学习、人工智能、群智能计算等学科的先进思想和理论，将其应用到模式识别领域... '}\n",
      "{'title': 'Gaussian Processes for Machine Learning (Adaptive Computation and Machine Learning)', 'author': 'Carl Edward Rasmussen、Christopher K. I. Williams ', 'Publishinghouse': ' The MIT Press ', 'publishingTime': ' 2005-12-01 ', 'price': ' USD 36.00', 'commits': '(37人评价)', 'documents': 'Gaussian processes (GPs) provide a principled, practical, probabilistic approa... '}\n",
      "{'title': '机器学习精讲 全彩印刷           : 全彩印刷', 'author': '[加拿大] 安德烈·布可夫（Andriy Burkov） ', 'Publishinghouse': ' 人民邮电出版社 ', 'publishingTime': ' 2020-1-1 ', 'price': ' 69元', 'commits': '(少于10人评价)', 'documents': '人工智能的核心是机器学习。《机器学习精讲》囊括机器学习的精髓，系统而精炼地讲解机器学习的基本原理。本书英文版一经推出，就长期位于美国***机器学习图书排行榜... '}\n",
      "{'title': '数值最优化', 'author': 'Jorge Nocedal、Stephen Wright ', 'Publishinghouse': ' 科学出版社 ', 'publishingTime': ' 2006年01月 ', 'price': ' 98.0', 'commits': '(47人评价)', 'documents': '本书作者现任美国西北大学教授，多种国际权威杂志的主编、副主编。作者根据在教学、研究和咨询中的经验，写了这本适合学生和实际工作者的书。本书提供连续优化中大多数... '}\n",
      "{'title': '贝叶斯思维           : 统计建模的Python学习法', 'author': '[美]Allen B. Downey（艾伦·唐尼） ', 'Publishinghouse': ' 人民邮电出版社 ', 'publishingTime': ' 2015-3 ', 'price': ' 49.00', 'commits': '(103人评价)', 'documents': '这本书帮助那些希望用数学工具解决实际问题的人们，仅有的要求可能就是懂一点概率知识和程序设计。而贝叶斯方法是一种常见的利用概率学知识去解决不确定性问题的数学方... '}\n",
      "{'title': '深度学习与计算机视觉           : 算法原理、框架应用与代码实现', 'author': '叶韵 ', 'Publishinghouse': ' 机械工业出版社 ', 'publishingTime': ' 2017-7-25 ', 'price': ' 79', 'commits': '(65人评价)', 'documents': '全书共13章，分为2篇。第1篇基础知识，介绍了人工智能发展里程、计算机视觉概要、深度学习和计算机视觉中的基础数学知识、神经网络及其相关的机器学习基础、卷积神... '}\n",
      "{'title': 'Python深度学习：基于PyTorch', 'author': '吴茂贵、郁明敏、杨本法、李涛、张粤磊 ', 'Publishinghouse': ' 机械工业出版社 ', 'publishingTime': ' 2019-11-1 ', 'price': ' 89元', 'commits': '(19人评价)', 'documents': '这是一本基于最新的Python和PyTorch版本的深度学习著作，旨在帮助读者低门槛进入深度学习领域，轻松速掌握深度学习的理论知识和实践方法，快速实现从入门... '}\n",
      "{'title': '机器学习与应用', 'author': '雷明 ', 'Publishinghouse': ' 清华大学出版社 ', 'publishingTime': ' 2019-1-1 ', 'price': ' 138', 'commits': '(少于10人评价)', 'documents': '无简介'}\n"
     ]
    },
    {
     "name": "stdout",
     "output_type": "stream",
     "text": [
      "{'title': '人工智能           : 一种现代的方法', 'author': '罗素 (Stuart J.Russell)、诺维格 (Peter Norvig) ', 'Publishinghouse': ' 清华大学出版社 ', 'publishingTime': ' 2013-11-1 ', 'price': ' CNY 128.00', 'commits': '(100人评价)', 'documents': '《人工智能：一种现代的方法（第3版）》是最权威、最经典的人工智能教材，已被全世界100多个国家的1200多所大学用作教材。\\n《人工智能：一种现代的方法（第3... '}\n",
      "{'title': '智能Web算法', 'author': 'Haralambos Marmanis、Dmitry Babenko ', 'Publishinghouse': ' 电子工业出版社 ', 'publishingTime': ' 2011-11 ', 'price': ' 65.00元', 'commits': '(220人评价)', 'documents': '本书涵盖了五类重要的智能算法：搜索、推荐、聚类、分类和分类器组合，并结合具体的案例讨论了它们在Web应用中的角色及要注意的问题。除了第1章的概要性介绍以及第... '}\n",
      "{'title': '模式识别', 'author': '张学工 ', 'Publishinghouse': ' 清华大学出版社 ', 'publishingTime': ' 2010-8 ', 'price': ' 25.00元', 'commits': '(51人评价)', 'documents': '《模式识别(第3版)》是清华大学自动化系国家精品课程“模式识别基础”的教材，是在《模式识别》第一版和第二版基础上重写而成的。本教材系统地讨论了模式识别的基本... '}\n",
      "{'title': '人工智能的未来', 'author': 'Jeff Hawkins、Sandra Blakeslee ', 'Publishinghouse': ' 陕西科学技术出版社 ', 'publishingTime': ' 2006.1 ', 'price': ' 18.5', 'commits': '(848人评价)', 'documents': '陕西科技出版社最新引进美国图书《人工智能的未来》（On Intelligence）一书，是由杰夫•霍金斯，一位在硅谷极其成功、受人尊敬的计算机工程师、企业家... '}\n",
      "{'title': 'The Art of Statistics           : Learning from Data', 'author': 'David Spiegelhalter ', 'Publishinghouse': ' Pelican ', 'publishingTime': ' 2019-3 ', 'price': ' USD 21.48', 'commits': '(13人评价)', 'documents': 'Statistics has played a leading role in our scientific understanding of the wo... '}\n",
      "{'title': 'Feature Engineering Made Easy           : Identify unique features from your dataset in order to build powerful machine learning systems', 'author': 'Sinan Ozdemir、Divya Susarla ', 'Publishinghouse': ' Packt Publishing ', 'publishingTime': ' 2018-1 ', 'price': ' USD 39.99', 'commits': '(少于10人评价)', 'documents': 'About This Book\\nDesign, discover, and create dynamic, efficient features for y... '}\n",
      "{'title': '推荐系统           : 技术、评估及高效算法（原书第2版）', 'author': '弗朗西斯科·里奇（Francesco Ricci）、利奥·罗卡奇（Lior Rokach）、布拉哈·夏皮拉（Bracha Shapira） ', 'Publishinghouse': ' 机械工业出版社 ', 'publishingTime': ' 2018-7 ', 'price': ' 139.00元', 'commits': '(少于10人评价)', 'documents': '本书由五部分组成：推荐系统的技术、评估、应用、人机交互及高级话题。第 一部分展示了如今构建推荐系统的流行和基础的技术，如协同过滤、基于语义的方法、数据挖掘方... '}\n",
      "{'title': 'Python Machine Learning           : Machine Learning and Deep Learning with Python, scikit-learn, and TensorFlow, 2nd Edition', 'author': 'Sebastian Raschka、Vahid Mirjalili ', 'Publishinghouse': ' Packt Publishing - ebooks Account ', 'publishingTime': ' 2017-9-6 ', 'price': ' USD 49.99', 'commits': '(13人评价)', 'documents': '无简介'}\n",
      "{'title': 'Outlier Analysis', 'author': 'Charu C. Aggarwal ', 'Publishinghouse': ' Springer ', 'publishingTime': ' 2016-12-12 ', 'price': ' USD 79.99', 'commits': '(少于10人评价)', 'documents': 'This book provides comprehensive coverage of the field of outlier analysis fro... '}\n",
      "{'title': '神经网络与机器学习', 'author': '(加)海金 ', 'Publishinghouse': ' 机械工业 ', 'publishingTime': ' 2009-3 ', 'price': ' 69.00元', 'commits': '(42人评价)', 'documents': '《神经网络与机器学习(英文版第3版)》的可读性非常强，作者举重若轻地对神经网络的基本模型和主要学习理论进行了深入探讨和分析，通过大量的试验报告、例题和习题来... '}\n",
      "{'title': 'Learning OpenCV           : Computer Vision with the OpenCV Library', 'author': 'Gary Bradski、Adrian Kaehler ', 'Publishinghouse': \" O'Reilly Media \", 'publishingTime': ' 2008-10-4 ', 'price': ' USD 49.99', 'commits': '(178人评价)', 'documents': 'Description\\nLearning OpenCV puts you right in the middle of the rapidly expand... '}\n",
      "{'title': '数据科学家修炼之道', 'author': 'Zacharias Voulgaris 弗格里斯 ', 'Publishinghouse': ' 吴文磊 田原 ', 'publishingTime': ' 2016-4-1', 'price': ' ', 'commits': '(47人评价)', 'documents': '学习大数据是什么，通过它的主要特征——体量、多样、高速与精确，展现出与传统数据有何不同。\\n\\n探讨不同类型的数据科学家以及他们各自类型的技术专长。\\n\\n挖掘数据... '}\n",
      "{'title': 'Python数据处理', 'author': '[美] 杰奎琳·凯泽尔凯瑟琳?贾缪尔 ', 'Publishinghouse': ' 人民邮电出版社 ', 'publishingTime': ' 2017-6-1 ', 'price': ' CNY 99.00', 'commits': '(24人评价)', 'documents': '本书采用基于项目的方法，介绍用Python完成数据获取、数据清洗、数据探索、数据呈现、数据规模化和自动化的过程。主要内容包括：Python基础知识，如何从C... '}\n",
      "{'title': 'Web数据挖掘', 'author': '刘兵 ', 'Publishinghouse': ' 清华大学出版社 ', 'publishingTime': ' 2009-4 ', 'price': ' 49.00元', 'commits': '(103人评价)', 'documents': '《Web数据挖掘》旨在讲述这些任务以及它们的核心挖掘算法；尽可能涵盖每个话题的广泛内容，给出足够多的细节，以便读者无须借助额外的阅读，即可获得相对完整的关于... '}\n",
      "{'title': '机器翻译', 'author': '李沐、刘树杰、张冬冬、周明 ', 'Publishinghouse': ' 高等教育出版社 ', 'publishingTime': ' 2018-8-1', 'price': ' ', 'commits': '(少于10人评价)', 'documents': '机器翻译是人工智能，尤其是自然语言处理方向里的一个重要研究领域。本书旨在作为该领域的入门书籍，内容上尽可能覆盖机器翻译研究历史上各种主流的研究方法和相关资源... '}\n",
      "{'title': 'Introduction to Machine Learning with Python', 'author': 'Sarah Guido、Andreas C. Mueller ', 'Publishinghouse': \" O'Reilly Media \", 'publishingTime': ' 2016-5-25 ', 'price': ' USD 49.99', 'commits': '(48人评价)', 'documents': '无简介'}\n",
      "{'title': '统计自然语言处理基础', 'author': 'Chris Manning、Hinrich Schütze ', 'Publishinghouse': ' 电子工业出版社 ', 'publishingTime': ' 2005-1 ', 'price': ' 55.00元', 'commits': '(152人评价)', 'documents': '《统计自然语言处理基础：国外计算机科学教材系列》是一本全面系统地介绍统计自然语言处理技术的专著，被国内外许多所著名大学选为计算语言学相关课程的教材。《统计自... '}\n",
      "{'title': 'Data Science for Business           : What you need to know about data mining and data-analytic thinking', 'author': 'Foster Provost、Tom Fawcett ', 'Publishinghouse': \" O'Reilly Media \", 'publishingTime': ' 2013-8-19 ', 'price': ' USD 39.99', 'commits': '(114人评价)', 'documents': 'Review\\n\"A must-read resource for anyone who is serious about embracing the opp... '}\n",
      "{'title': '数据战略           : 如何从大数据、数据分析和万物互联中获利', 'author': '伯纳德•马尔 （Bernard Marr） ', 'Publishinghouse': ' 机械工业出版社 ', 'publishingTime': ' 2019-3 ', 'price': ' 59.00元', 'commits': '(少于10人评价)', 'documents': '数据正在彻底改变所有人做生意的方式。然而，目前所有数据被分析和使用的比例不到0.5%。商业领袖和管理者不能对数据漠不关心或保持怀疑，因为视数据为战略资产的公... '}\n",
      "{'title': '实用机器学习', 'author': '孙亮、黄倩 ', 'Publishinghouse': ' 人民邮电出版社 ', 'publishingTime': ' 2017-5 ', 'price': ' 79.00', 'commits': '(10人评价)', 'documents': '大数据时代为机器学习的应用提供了广阔的空间，各行各业涉及数据分析的工作都需要使用机器学习算法。本书围绕实际数据分析的流程展开，着重介绍数据探索、数据预处理和... '}\n",
      "{'title': 'High-Dimensional Statistics           : A Non-Asymptotic Viewpoint', 'author': 'Martin J. Wainwright ', 'Publishinghouse': ' Cambridge University Press ', 'publishingTime': ' 2019-1-31 ', 'price': ' GBP 55.99', 'commits': '(13人评价)', 'documents': '无简介'}\n",
      "{'title': 'Pattern Recognition, Fourth Edition', 'author': 'Sergios Theodoridis、Konstantinos Koutroumbas ', 'Publishinghouse': ' Academic Press ', 'publishingTime': ' 2008-11-3 ', 'price': ' USD 103.00', 'commits': '(少于10人评价)', 'documents': 'Book Description\\nThe only book to combine coverage of classical topics with th... '}\n",
      "{'title': 'Large-Scale Inference           : Empirical Bayes Methods for Estimation, Testing, and Prediction', 'author': 'Bradley Efron ', 'Publishinghouse': ' Cambridge University Press ', 'publishingTime': ' 2012-11-29 ', 'price': ' GBP 28.99', 'commits': '(少于10人评价)', 'documents': 'We live in a new age for statistical inference, where modern scientific techno... '}\n",
      "{'title': '自然语言处理的形式模型', 'author': '冯志伟 ', 'Publishinghouse': ' 中国科学技术大学出版社 ', 'publishingTime': ' 2010 ', 'price': ' 118.00元', 'commits': '(25人评价)', 'documents': '本书对自然语言处理中的各种形式模型进行了系统的梳理，分别讨论了基于短语结构语法的形式模型、基于合一运算的形式模型、基于依存和配价的形式模型、基于格语法的形式... '}\n",
      "{'title': 'Probabilistic Robotics (Intelligent Robotics and Autonomous Agents)           : Robotics', 'author': 'Sebastian Thrun、Wolfram Burgard、Dieter Fox ', 'Publishinghouse': ' The MIT Press ', 'publishingTime': ' September 1, 2005 ', 'price': ' $60.00', 'commits': '(44人评价)', 'documents': 'Probabilistic robotics is a new and growing area in robotics, concerned with p... '}\n",
      "{'title': 'Numerical Optimization', 'author': 'Jorge Nocedal、Stephen Wright ', 'Publishinghouse': ' Springer ', 'publishingTime': ' 2000-04-28 ', 'price': ' USD 84.95', 'commits': '(59人评价)', 'documents': 'Numerical Optimization presents a comprehensive and up-to-date description of ... '}\n",
      "{'title': 'Large Scale Machine Learning with Python', 'author': 'Bastiaan Sjardin、Luca Massaron、Alberto Boschetti ', 'Publishinghouse': ' Packt Publishing - ebooks Account ', 'publishingTime': ' 2016-8-4 ', 'price': ' USD 49.99', 'commits': '(少于10人评价)', 'documents': '无简介'}\n",
      "{'title': 'Practical Statistics for Data Scientists           : 50 Essential Concepts', 'author': 'Bruce ', 'Publishinghouse': \" O'Reilly Media \", 'publishingTime': ' 2016-12-25 ', 'price': ' USD 33.99', 'commits': '(37人评价)', 'documents': '无简介'}\n",
      "{'title': 'Python机器学习及实践           : 从零开始通往Kaggle竞赛之路', 'author': '范淼、李超 ', 'Publishinghouse': ' 清华大学出版社 ', 'publishingTime': ' 2016-10-1 ', 'price': ' 49元', 'commits': '(124人评价)', 'documents': '本书面向所有对机器学习与数据挖掘的实践及竞赛感兴趣的读者，从零开始，以Python编程语言为基础，在不涉及大量数学模型与复杂编程知识的前提下，逐步带领读者熟... '}\n",
      "{'title': '智能问答', 'author': '段楠、周明 ', 'Publishinghouse': ' 高等教育出版社 ', 'publishingTime': ' 2018-9-10 ', 'price': ' 39.9元', 'commits': '(12人评价)', 'documents': '本书分为三部分，共8章。\\n第一部分为概论，介绍问答系统的历史沿革、方法分类和全新进展。\\n第二部分主要讲述问答系统的两类构建方法。第一类方法基于语义分析，该类... '}\n",
      "{'title': 'Machine Learning', 'author': 'Thomas Mitchell ', 'Publishinghouse': ' McGraw-Hill Education ', 'publishingTime': ' 1997-7-4 ', 'price': ' GBP 217.99', 'commits': '(110人评价)', 'documents': 'This book covers the field of machine learning, which is the study of algorith... '}\n",
      "{'title': 'Python编程           : 从入门到实践', 'author': '[美] 埃里克·马瑟斯 ', 'Publishinghouse': ' 人民邮电出版社 ', 'publishingTime': ' 2016-7-1 ', 'price': ' 89.00元', 'commits': '(2635人评价)', 'documents': '本书是一本针对所有层次的Python 读者而作的Python 入门书。全书分两部分：第一部分介绍用Python 编程所必须了解的基本概念，包括matplot... '}\n",
      "{'title': '神经网络设计（原书第2版）', 'author': '（美）马丁 T. 哈根、（美）霍华德 B. 德姆斯、（美）马克 H. 比勒 ', 'Publishinghouse': ' 机械工业出版社 ', 'publishingTime': ' 2017-11 ', 'price': ' 99.00元', 'commits': '(12人评价)', 'documents': '本书是一本易学易懂的神经网络教材，主要讨论网络结构、学习规则、训练技巧和工程应用，紧紧围绕“设计”这一视角组织材料和展开讲解，强调基本原理和训练方法，概念清... '}\n",
      "{'title': '机器学习理论及应用', 'author': '李凡长、钱旭培、谢琳、何书萍 ', 'Publishinghouse': ' 中国科大 ', 'publishingTime': ' 2009-10 ', 'price': ' 88.00元', 'commits': '(目前无人评价)', 'documents': '《机器学习理论及应用》内容简介：机器学习新方法研究是实现机器学服务各行各业的历史使命。根据这样的宗旨，《机器学习理论及应用》系统地介绍了李群机器学习、动态模... '}\n",
      "{'title': '复杂数据统计方法           : 基于R的应用(第三版)', 'author': '吴喜之 ', 'Publishinghouse': ' 中国人民大学出版社 ', 'publishingTime': ' 2015-7 ', 'price': ' 36.00元', 'commits': '(少于10人评价)', 'documents': '本书自面世以来，得到了广大读者的支持和鼓励。目前的第三版在第二版的基础上做了相当大的增补，并且重新安排了章节，主要增加了贝叶斯网络、 定序变量的比例优势模型... '}\n",
      "{'title': 'Deep Learning 2｜用Python進行自然語言處理的基礎理論實作', 'author': '斎藤康毅 ', 'Publishinghouse': ' 吳嘉芳 ', 'publishingTime': \" O'Reilly \", 'price': ' 2019-3-29', 'commits': '(少于10人评价)', 'documents': '本書是《Deep Learning : 用Python進行深度學習的基礎理論實作》的續篇，將延續上一本書，繼續介紹與深度學習有關的技術。本書尤其偏重在自然語... '}\n",
      "{'title': '自然语言处理综论（第二版）', 'author': 'Daniel Jurafsky(D. 朱夫斯凯)、James H. Martin(J. H. 马丁) ', 'Publishinghouse': ' 电子工业出版社 ', 'publishingTime': ' 2018-3-1 ', 'price': ' CNY 198.00', 'commits': '(10人评价)', 'documents': '从本书第一版出版以来，一直好评如潮，被国外许多大学选作自然语言处理或计算语言学的教材，被认为该领域教材的“黄金标准”。\\n本书第一版综合了自然语言处理、计算语... '}\n",
      "{'title': 'Python for Data Analysis           : Data Wrangling with Pandas, NumPy, and IPython', 'author': 'Wes McKinney ', 'Publishinghouse': \" O'Reilly Media \", 'publishingTime': ' 2017-9-25 ', 'price': ' USD 49.99', 'commits': '(112人评价)', 'documents': '无简介'}\n",
      "{'title': '数据挖掘导论           : Introduction to Data Mining', 'author': 'Pang-Ning Tan, Michael Steinbach ', 'Publishinghouse': ' 人民邮电出版社 ', 'publishingTime': ' 2006-01-01 ', 'price': ' 49.00元', 'commits': '(250人评价)', 'documents': '本书全面介绍了数据挖掘的理论和方法，旨在为读者提供将数据挖掘应用于实际问题所必需的知识。本书涵盖五个主题：数据、分类、关联分析、聚类和异常检测。除异常检测外... '}\n",
      "{'title': '深入理解神经网络           : 从逻辑回归到CNN', 'author': '张觉非 ', 'Publishinghouse': ' 人民邮电出版社 ', 'publishingTime': ' 2019-9 ', 'price': ' 89.00元', 'commits': '(少于10人评价)', 'documents': '本书以神经网络为线索，沿着从线性模型到深度学习的路线讲解神经网络的原理和实现。本书将数学基础知识与机器学习和神经网络紧密结合，包含线性模型的结构与局限、损失... '}\n"
     ]
    },
    {
     "name": "stdout",
     "output_type": "stream",
     "text": [
      "{'title': 'Machine Learning Refined           : Foundations, Algorithms, and Applications', 'author': 'Jeremy Watt、Reza Borhani、Aggelos Katsaggelos ', 'Publishinghouse': ' Cambridge University Press ', 'publishingTime': ' 2016-10-17 ', 'price': ' USD 90.00', 'commits': '(少于10人评价)', 'documents': '无简介'}\n",
      "{'title': '统计学习理论', 'author': 'Vladimir N.vapnik ', 'Publishinghouse': ' 第1版 (2004年1月1日) ', 'publishingTime': ' 2004-6-1 ', 'price': ' 59.00', 'commits': '(59人评价)', 'documents': '无简介'}\n",
      "{'title': 'Statistical Digital Signal Processing and Modeling', 'author': 'Monson H. Hayes ', 'Publishinghouse': ' Wiley ', 'publishingTime': ' 1996-03 ', 'price': ' USD 117.95', 'commits': '(少于10人评价)', 'documents': 'The main thrust is to provide students with a solid understanding of a number ... '}\n",
      "{'title': 'A First Course in Machine Learning', 'author': 'Simon Rogers、Mark Girolami ', 'Publishinghouse': 'CRC ', 'publishingTime': ' 2011-10-25 ', 'price': ' USD 69.95', 'commits': '(12人评价)', 'documents': '无简介'}\n",
      "{'title': 'MATLAB与机器学习', 'author': '机械工业出版社 ', 'Publishinghouse': ' 79.00元', 'publishingTime': ' ', 'price': ' ', 'commits': '(少于10人评价)', 'documents': '无简介'}\n",
      "{'title': 'Introduction to Linear Algebra, Fourth Edition', 'author': 'Gilbert Strang ', 'Publishinghouse': ' Wellesley Cambridge Press ', 'publishingTime': ' 2009-2-10 ', 'price': ' USD 87.50', 'commits': '(418人评价)', 'documents': \"Gilbert Strang's textbooks have changed the entire approach to learning linear... \"}\n",
      "{'title': '时间序列分析', 'author': '詹姆斯·D·汉密尔顿 (James D.Hamilton) ', 'Publishinghouse': ' 中国人民大学出版社 ', 'publishingTime': ' 2015-1-1 ', 'price': ' CNY 118.00', 'commits': '(24人评价)', 'documents': '近几年间，研究者分析时间序列数据的方式发生了显著的变化。因此，很有必要对这一日益重要的研究领域的新近发展进行综合，并整体呈现出来。作者第一次对时间序列分析的... '}\n",
      "{'title': 'Hands-On Unsupervised Learning Using Python           : How to Build Applied Machine Learning Solutions from Unlabeled Data', 'author': 'Ankur A. Patel ', 'Publishinghouse': ' O′Reilly ', 'publishingTime': ' 2019-4-30 ', 'price': ' GBP 53.82', 'commits': '(少于10人评价)', 'documents': '无简介'}\n",
      "{'title': 'Machine Learning for Business           : Using Amazon SageMaker and Jupyter', 'author': 'Doug Hudgeon、Richard Nichol ', 'Publishinghouse': ' Manning Publications ', 'publishingTime': ' 2020-2-14 ', 'price': ' USD 39.99', 'commits': '(目前无人评价)', 'documents': 'Imagine predicting which customers are thinking about switching to a competito... '}\n",
      "{'title': '贝叶斯网引论', 'author': '张连文 ', 'Publishinghouse': ' 科学出版 ', 'publishingTime': ' 2006-11 ', 'price': ' 58.00元', 'commits': '(71人评价)', 'documents': '无简介'}\n",
      "{'title': '统计机器翻译', 'author': '菲利普·科恩 ', 'Publishinghouse': ' 宗成庆 ', 'publishingTime': ' 2012-9 ', 'price': ' 55.00元', 'commits': '(14人评价)', 'documents': '《国外计算机科学教材系列:统计机器翻译》提供了必要的语言学和概率论基础知识，涵盖了机器翻译的主要模型：基于词的、基于短语的和基于句法树的模型，还介绍了机器翻... '}\n",
      "{'title': 'Machine Learning For Financial Engineering (Advances in Computer Science and Engineering           : Texts)', 'author': 'Laszlo Gyorfi ', 'Publishinghouse': ' Imperial College Press ', 'publishingTime': ' 2012-5-16 ', 'price': ' USD 95.00', 'commits': '(目前无人评价)', 'documents': 'This volume investigates algorithmic methods based on machine learning in orde... '}\n",
      "{'title': 'Spark快速大数据分析', 'author': '[美] Holden Karau、[美] Andy Konwinski、[美] Patrick Wendell、[加] Matei Zaharia ', 'Publishinghouse': ' 人民邮电出版社 ', 'publishingTime': ' 2015-10 ', 'price': ' 59.00元', 'commits': '(356人评价)', 'documents': '无简介'}\n",
      "{'title': 'Python数据分析与挖掘实战', 'author': '张良均、王路、谭立云、苏剑林 ', 'Publishinghouse': ' 机械工业出版社 ', 'publishingTime': ' 2016-1 ', 'price': ' 69.00元', 'commits': '(136人评价)', 'documents': '10余位数据挖掘领域资深专家和科研人员，10余年大数据挖掘咨询与实施经验结晶。从数据挖掘的应用出发，以电力、航空、医疗、互联网、生产制造以及公共服务等行业真... '}\n",
      "{'title': '文本上的算法——深入浅出自然语言处理', 'author': '路彦雄 ', 'Publishinghouse': ' 人民邮电出版社 ', 'publishingTime': ' 2018-3-1 ', 'price': ' 69.00元', 'commits': '(33人评价)', 'documents': '本书结合作者多年学习和从事自然语言处理相关工作的经验，力图用生动形象的方式深入浅出地介绍自然语言处理的理论、方法和技术。本书抛弃掉繁琐的证明，提取出算法的核... '}\n",
      "{'title': 'Generative Deep Learning           : Teaching Machines to Paint, Write, Compose and Play', 'author': 'David Foster ', 'Publishinghouse': \" O'Reilly Media \", 'publishingTime': ' 2019-9-4 ', 'price': ' USD 68.18', 'commits': '(少于10人评价)', 'documents': 'Generative modeling is one of the hottest topics in artificial intelligence. R... '}\n",
      "{'title': '数据科学与工程技术丛书           : 机器学习与R语言', 'author': 'Brett Lantz ', 'Publishinghouse': ' 机械工业出版社 ', 'publishingTime': ' 2015-4-7 ', 'price': ' CNY 69.00', 'commits': '(45人评价)', 'documents': '随着大数据的概念变得越来越流行，对数据的探索、分析和预测成为大数据分析领域的基本技能之一。作为探索和分析数据的基本理论和工具，机器学习和数据挖掘成为时下炙手... '}\n",
      "{'title': '实用数据分析', 'author': '（美）Hector Cuesta ', 'Publishinghouse': ' 机械工业出版社 ', 'publishingTime': ' 2014-9 ', 'price': ' 59.00', 'commits': '(21人评价)', 'documents': '【编辑推荐】\\n资深数据分析咨询师多年经验结晶，通过大量典型数据分析案例，全面而深入地讲解分类分析、聚类分析、数据可视化及预测方面的各种技术和方法，为快速掌握... '}\n",
      "{'title': '推荐系统(原理与实践)/计算机科学丛书', 'author': 'Charu C. Aggarwal ', 'Publishinghouse': ' 机械工业出版社 ', 'publishingTime': ' 2018-7-24 ', 'price': ' CNY 129.00', 'commits': '(少于10人评价)', 'documents': '无简介'}\n",
      "{'title': '零起点Python机器学习快速入门', 'author': '何海群 ', 'Publishinghouse': ' 电子工业出版社 ', 'publishingTime': ' 2017-5 ', 'price': ' 59', 'commits': '(少于10人评价)', 'documents': '《零起点Python机器学习快速入门》采用独创的黑箱模式，MBA案例教学机制，结合一线实战案例，介绍 Sklearn人工智能模块库和常用的机器学习算法。《零... '}\n",
      "{'title': '计算机视觉之深度学习：使用TensorFlow和Keras训练高级神经网络', 'author': '[英]拉贾林加帕•尚穆加马尼 ', 'Publishinghouse': ' 人民邮电出版社 ', 'publishingTime': ' 2020-2 ', 'price': ' 59.00元', 'commits': '(少于10人评价)', 'documents': '深度学习已在人工智能的多个应用领域（尤其是计算机视觉）中展示了其强大功能。计算机视觉是理解和处理图像的科学，并且在机器人技术、自动化等领域有广泛的应用。\\n本... '}\n",
      "{'title': 'Machine Learning with Spark', 'author': 'Nick Pentreath ', 'Publishinghouse': ' Packt Publishing - ebooks Account ', 'publishingTime': ' 2014-12-8 ', 'price': ' USD 49.99', 'commits': '(少于10人评价)', 'documents': '无简介'}\n",
      "{'title': 'Python Machine Learning (3rd Edition)', 'author': 'Sebastian Raschka and Vahid Mirjalili ', 'Publishinghouse': ' 2019-11-29', 'publishingTime': ' ', 'price': ' ', 'commits': '(少于10人评价)', 'documents': '无简介'}\n",
      "{'title': '实用机器学习', 'author': '[美] Henrik Brink ', 'Publishinghouse': ' 机械工业出版社 ', 'publishingTime': ' 2017-6 ', 'price': ' 69', 'commits': '(13人评价)', 'documents': '本书介绍了实用机器学习的工作流程，主要从实用角度进行了描述，没有数学公式和推导。本书涵盖了数据收集与处理、模型构建、评价和优化、特征的识别、提取和选择技术、... '}\n",
      "{'title': 'Speech and Language Processing', 'author': 'Daniel Jurafsky、James H. Martin ', 'Publishinghouse': ' 2013-7-17', 'publishingTime': ' ', 'price': ' ', 'commits': '(少于10人评价)', 'documents': 'An explosion of Web-based language techniques, merging of distinct fields, ava... '}\n",
      "{'title': '数值最优化算法与理论           : 数值最优化算法与理论', 'author': '李董辉、童小娇、万中 ', 'Publishinghouse': ' 2010-2 ', 'publishingTime': ' 32.80元', 'price': ' ', 'commits': '(少于10人评价)', 'documents': '《数值最优化算法与理论(第2版)》较为系统地介绍最优化领域中比较成熟的基本理论与方法。基本理论包括最优化问题解的必要条件和充分条件以及各种算法的收敛性理论。... '}\n",
      "{'title': '线性代数及其应用           : （原书第3版）', 'author': '（美）莱（Lay D.C.）、none、none ', 'Publishinghouse': ' 机械工业出版社 ', 'publishingTime': ' 2005-8-1 ', 'price': ' 59.00元', 'commits': '(890人评价)', 'documents': '本书主要内容包括线性方程组、矩阵代数、行列式、向量空间、特征值与特征向量、正交性和最小二乘法、对称矩阵和二次型等。此外，本书包含大量的练习题、习题、例题等，... '}\n",
      "{'title': 'R语言实战', 'author': '卡巴科弗 (Robert I.Kabacoff) ', 'Publishinghouse': ' 人民邮电出版社 ', 'publishingTime': ' 2013-1 ', 'price': ' 79.00元', 'commits': '(790人评价)', 'documents': '数据时代已经到来，但数据分析、数据挖掘人才却十分短缺。由于“大数据”对每个领域的决定性影响，\\u3000相对于经验和直觉，在商业、经济及其他领域中基于数据和分析去发现... '}\n",
      "{'title': '人工智能           : 国家人工智能战略行动抓手', 'author': '腾讯研究院、中国信通院互联网法律研究中心、腾讯AI Lab、腾讯开放平台 ', 'Publishinghouse': ' 中国人民大学出版社 ', 'publishingTime': ' 2017-10-25 ', 'price': ' 68.00元', 'commits': '(276人评价)', 'documents': '面对科技的迅猛发展，中国政府制定了《新一代人工智能发展规划》，将人工智能上升到国家战略层面，并提出：不仅人工智能产业要成为新的经济增长点，而且要在2030年... '}\n",
      "{'title': '社会计算           : 社区发现和社会媒体挖掘', 'author': 'Lei Tang、Huan Liu ', 'Publishinghouse': ' 机械工业出版社华章分社 ', 'publishingTime': ' 2012-12-1 ', 'price': ' 35.00元', 'commits': '(29人评价)', 'documents': '在刚过去的十年我们见证了共享Web和社会媒体的诞生，它们用各种富有创意的方式将人们联系在一起。目前，成千上万的用户忙着在线玩、加标签、工作以及开展社交活动，... '}\n",
      "{'title': 'An Introduction to Mathematical Epidemiology', 'author': 'Maia Martcheva ', 'Publishinghouse': ' Springer ', 'publishingTime': ' 2015-10-21', 'price': ' ', 'commits': '(少于10人评价)', 'documents': 'The book is a comprehensive, self-contained introduction to the mathematical m... '}\n",
      "{'title': '推荐系统与深度学习', 'author': '黄昕、赵伟、王本友、吕慧伟、杨敏 ', 'Publishinghouse': ' 清华大学出版社 ', 'publishingTime': ' 2019-1-1 ', 'price': ' 65.00元', 'commits': '(20人评价)', 'documents': '本书的内容设置由浅入深，从传统的推荐算法过渡到近年兴起的深度学习技术。不管是初学者，还是有一定经验的从业人员，相信都能从本书的不同章节中有所收获。 区别于其... '}\n",
      "{'title': 'Machine Learning           : A Bayesian and Optimization Perspective', 'author': 'Sergios Theodoridis ', 'Publishinghouse': ' Academic Press ', 'publishingTime': ' 2015-4-10 ', 'price': ' USD 99.95', 'commits': '(少于10人评价)', 'documents': '无简介'}\n",
      "{'title': '随机过程及其应用', 'author': '陆大絟 ', 'Publishinghouse': ' 清华大学出版社 ', 'publishingTime': ' 2006-5 ', 'price': ' 20.00元', 'commits': '(37人评价)', 'documents': '《随机过程及其应用》着重讨论了随机过程的基本研究方法，论述了应用广泛的几种基本随机过程，并对其在控制和电子技术中的应用作了相应的介绍。全书共分7章。第1章提... '}\n",
      "{'title': 'ODPS权威指南           : 阿里大数据平台应用开发实践', 'author': '李妹芳 ', 'Publishinghouse': ' 人民邮电出版社 ', 'publishingTime': ' 2014-12 ', 'price': ' 69元', 'commits': '(38人评价)', 'documents': 'ODPS（Open Data Processing Service）是阿里巴巴自主研发的海量数据处理和分析的服务平台，主要应用于数据分析、海量数据统计、数据... '}\n",
      "{'title': 'Deep Learning for Coders with fastai and PyTorch           : AI Applications Without a PhD', 'author': 'Jeremy Howard、Sylvain Gugger ', 'Publishinghouse': \" O'Reilly \", 'publishingTime': ' 2020-2-4 ', 'price': ' USD 69.99', 'commits': '(少于10人评价)', 'documents': 'Deep learning has the reputation as an exclusive domain for math PhDs. Not so.... '}\n",
      "{'title': 'Machine Learning           : The Ultimate Beginners Guide For Neural Networks, Algorithms, Random Forests and Decision Trees', 'author': 'Ryan Roberts ', 'Publishinghouse': ' CreateSpace Independent Publishing Platform ', 'publishingTime': ' 2017-7-29 ', 'price': ' USD 9.95', 'commits': '(目前无人评价)', 'documents': '无简介'}\n",
      "{'title': '计算机时代的统计推断：算法、演化和数据科学           : 算法、演化和数据科学', 'author': '布拉德利·埃夫隆、特雷福·黑斯蒂 ', 'Publishinghouse': ' 机械工业出版社 ', 'publishingTime': ' 2019-6-4 ', 'price': ' 119.00元', 'commits': '(少于10人评价)', 'documents': '本书以丰富的案例介绍了计算机时代下的统计推断的发展脉络，从理论的角度剖析统计推断的各类算法、证据等，揭示统计推断如何推动当今大数据、数据科学、机器学习等领域... '}\n",
      "{'title': '模式分类', 'author': 'Richard O.Duda、Peter E.Hart、David G.Stork ', 'Publishinghouse': ' 机械工业出版社 ', 'publishingTime': ' 2004-2 ', 'price': ' 69.0', 'commits': '(78人评价)', 'documents': '《模式分类》(英文版)(第2版)简明易读，新增的图表使得许多统计和数学题材非常生动。最终以完美和谐的形式，引导读者深入新的主题。 '}\n",
      "{'title': 'Deep Learning with PyTorch Quick Start Guide', 'author': 'David Julian ', 'Publishinghouse': ' Packt Publishing Limited ', 'publishingTime': ' 2018-12', 'price': ' ', 'commits': '(少于10人评价)', 'documents': 'PyTorch is extremely powerful and yet easy to learn. It provides advanced feat... '}\n"
     ]
    },
    {
     "name": "stdout",
     "output_type": "stream",
     "text": [
      "{'title': 'Artificial Intelligence           : A Modern Approach', 'author': 'Stuart Russell、Peter Norvig ', 'Publishinghouse': ' Prentice Hall ', 'publishingTime': ' 2002-12-30 ', 'price': ' USD 132.00', 'commits': '(80人评价)', 'documents': 'For one or two-semester, undergraduate or graduate-level courses in Artificial... '}\n",
      "{'title': 'Web安全之机器学习入门', 'author': '刘焱 ', 'Publishinghouse': ' 2017-8', 'publishingTime': ' ', 'price': ' ', 'commits': '(22人评价)', 'documents': '近几年，人工智能无疑成为人们口中的热点话题，先是谷歌的AlphaGo，后有百度的度秘、无人车，微软必应搜索推出的小冰。这一系列人工智能产品的推陈出新，令人眼... '}\n",
      "{'title': '机器学习之路——Caffe、Keras、scikit-learn实战', 'author': '阿布、胥嘉幸 ', 'Publishinghouse': ' 电子工业出版社 ', 'publishingTime': ' 2017-8 ', 'price': ' 79.00', 'commits': '(15人评价)', 'documents': '机器学习需要一条脱离过高理论门槛的入门之路。\\n《机器学习篇》从小红帽采蘑菇的故事开篇，介绍了基础的机器学习分类模型的训练（第1 章）。如何评估、调试模型？如... '}\n",
      "{'title': '数值最优化方法', 'author': '高立 ', 'Publishinghouse': ' 北京大学出版社 ', 'publishingTime': ' 2014-9 ', 'price': ' 28', 'commits': '(27人评价)', 'documents': '《数值最优化方法》系统地介绍了数值求解光滑非线性无约束和有约束最优化问题的基本方法和基本性质。本书在选材上，注重最优化方法的基础性与实用性；在内容的处理上，... '}\n",
      "{'title': 'Python数据科学           : 技术详解与商业实践', 'author': '常国珍、赵仁乾、张秋剑 ', 'Publishinghouse': ' 机械工业出版社 ', 'publishingTime': ' 2018-7-20 ', 'price': ' 99.00元', 'commits': '(36人评价)', 'documents': '这是一本以Python为工具，以商业实战为导向的数据科学家养成手册，从技术、业务、商业实战3个维度为有志成为数据科学家的读者提供了系统化的学习路径。\\n3位作... '}\n",
      "{'title': 'Data Science from Scratch           : First Principles with Python', 'author': 'Joel Grus ', 'Publishinghouse': \" O'Reilly Media \", 'publishingTime': ' 2015-4-28 ', 'price': ' USD 39.99', 'commits': '(41人评价)', 'documents': 'Data science libraries, frameworks, modules, and toolkits are great for doing ... '}\n",
      "{'title': '线性代数', 'author': '[美] 利昂 Steven J. Leon ', 'Publishinghouse': ' 机械工业出版社 ', 'publishingTime': ' 2010-10-1 ', 'price': ' 65.00元', 'commits': '(46人评价)', 'documents': '据原书第8版译出。本书结合大量应用和实例介绍线性代数的基本概念、基本定理与知识点，主要内容包括：矩阵与方程组、行列式、向量空间、线性变换、正交性、特征值和数... '}\n",
      "{'title': '深入浅出Python机器学习', 'author': '段小手 ', 'Publishinghouse': ' 清华大学出版社 ', 'publishingTime': ' 69元', 'price': ' ', 'commits': '(少于10人评价)', 'documents': '机器学习正在迅速改变我们的世界。我们几乎每天都会读到机器学习如何改变日常的生活。如果你在淘宝或者京东这样的电子商务网站购买商品，或者在爱奇艺或是腾讯视频这样... '}\n",
      "{'title': 'Python 语言构建机器学习系统 第2版（影印版）', 'author': 'Luis·Pedro·Coelho、WilliRi·chert ', 'Publishinghouse': ' 东南大学出版社 ', 'publishingTime': ' 2016-1-1 ', 'price': ' 68.00元', 'commits': '(少于10人评价)', 'documents': '运用机器学习获得对于数据的深入洞见，是现代应用开发者和分析师的关键技能。Python是一种可以用于开发机器学习应用的语言。作为一种动态语言，它可以进行快速探... '}\n",
      "{'title': \"Information Theory, Inference and Learning Algorithms           : Student's International Edition\", 'author': 'David J. C. MacKay ', 'Publishinghouse': ' Cambridge University Press ', 'publishingTime': ' 2015-1-1 ', 'price': ' USD 33.00', 'commits': '(少于10人评价)', 'documents': 'Information theory and inference, often taught separately, are here united in ... '}\n",
      "{'title': '机器学习导论（原书第3版）', 'author': '[土耳其] 埃塞姆·阿培丁（EthemAlpaydin） ', 'Publishinghouse': ' 机械工业出版社 ', 'publishingTime': ' 2016-1-1 ', 'price': ' 79.00元', 'commits': '(18人评价)', 'documents': '机器学习的目标是对计算机编程，以便使用样本数据或以往的经验来解决给定的问题。已经有许多机器学习的成功应用，包括分析以往销售数据来预测客户行为，优化机器人的行... '}\n",
      "{'title': '中国期货市场量化交易（R与C++版）', 'author': '李尉 ', 'Publishinghouse': ' 清华大学出版社 ', 'publishingTime': ' 2018-11 ', 'price': ' 89.00', 'commits': '(14人评价)', 'documents': '本书主要介绍如何运用统计分析和机器学习等方法对中国期货市场量化交易进行建模分\\n析。不仅覆盖了最基础的数据获取、数据清理、因子提取、模型构造以及最后的动态投资... '}\n",
      "{'title': 'MXNet神经网络与量化投资', 'author': 'TOP 极宽量化开源组 ', 'Publishinghouse': ' 电子工业出版社 ', 'publishingTime': ' 2018-11 ', 'price': ' 99', 'commits': '(目前无人评价)', 'documents': 'MXNet是亚马逊的深度学习库，以简单、高效、容易使用而著称。它拥有类似于Theano和TensorFlow的数据流图，为多GPU装置提供了良好的配置。《M... '}\n",
      "{'title': 'Python数据分析实战', 'author': '【意】内利 ', 'Publishinghouse': ' 人民邮电出版社 ', 'publishingTime': ' 2016-8-1 ', 'price': ' CNY 59.00', 'commits': '(37人评价)', 'documents': 'Python 简单易学，拥有丰富的库，并且具有极强的包容性。本书展示了如何利用Python 语言的强大功能，以最小的编程代价进行数据的提取、处理和分析，主要... '}\n",
      "{'title': '数据挖掘与机器学习——WEKA应用技术与实践', 'author': '袁梅宇 ', 'Publishinghouse': ' 清华大学出版社 ', 'publishingTime': ' 2014-7-1 ', 'price': ' CNY 52.80', 'commits': '(15人评价)', 'documents': '无简介'}\n",
      "{'title': '统计自然语言处理', 'author': '宗成庆 ', 'Publishinghouse': ' 清华大学出版社 ', 'publishingTime': ' 2008-5 ', 'price': ' 66.00元', 'commits': '(116人评价)', 'documents': '内容简介\\n本书全面介绍了统计自然语言处理的基本概念、理论方法和最新研究进展，内容包括形式语言与自动机及其在自然语言处理中的应用、语言模型、隐马尔可夫模型、语... '}\n",
      "{'title': 'Bayesian Methods for Hackers           : Probabilistic Programming and Bayesian Methods', 'author': 'Cameron Davidson-Pilon ', 'Publishinghouse': ' Addison-Wesley Professional ', 'publishingTime': ' 2015-5-10 ', 'price': ' USD 39.99', 'commits': '(21人评价)', 'documents': '无简介'}\n",
      "{'title': 'Data Analysis Using Regression and Multilevel/Hierarchical Models', 'author': 'Andrew Gelman、Jennifer Hill ', 'Publishinghouse': ' Cambridge University Press ', 'publishingTime': ' 2006-12-18 ', 'price': ' USD 69.99', 'commits': '(18人评价)', 'documents': 'Data Analysis Using Regression and Multilevel/Hierarchical Models is a compreh... '}\n",
      "{'title': '计算统计', 'author': 'Geof H.Givens、Jennifer A.Hoeting ', 'Publishinghouse': ' 人民邮电出版社 ', 'publishingTime': ' 2009-09-01 ', 'price': ' 59.00元', 'commits': '(13人评价)', 'documents': '随着计算机的快速发展, 数理统计中许多涉及大计算量的有效方法也得到了广泛应用与迅猛发展, 可以说, 计算统计已是统计中一个很重要的研究方向.\\n本书既包含一些... '}\n",
      "{'title': '机器学习算法（第2版 影印版 英文版）', 'author': '朱塞佩·博纳科尔索 ', 'Publishinghouse': ' 东南大学出版社 ', 'publishingTime': ' 2019-5 ', 'price': ' 108.00', 'commits': '(目前无人评价)', 'documents': '机器学习因运用大数据实现强大且快速的预测而大受欢迎。然而，其强大的输出背后，真正力量来自复杂的算法，涉及大量的统计分析，以大数据作为驱动而产生实质性的洞察力... '}\n",
      "{'title': 'Learn Algorithmic Trading', 'author': 'Sebastien Donadio、Sourav Ghosh ', 'Publishinghouse': ' 2019-11', 'publishingTime': ' ', 'price': ' ', 'commits': '(少于10人评价)', 'documents': 'Understand the fundamentals of algorithmic trading to apply algorithms to real... '}\n",
      "{'title': '机器翻译原理', 'author': '赵铁军等编 ', 'Publishinghouse': ' 哈尔滨工业大学出版社 ', 'publishingTime': ' 2000-06-01 ', 'price': ' 25.0', 'commits': '(少于10人评价)', 'documents': '\\n'}\n",
      "{'title': 'Machine Learning for Absolute Beginners', 'author': 'Oliver Theobald ', 'Publishinghouse': ' USD 10.99', 'publishingTime': ' ', 'price': ' ', 'commits': '(少于10人评价)', 'documents': 'The manner in which computers are now able to mimic human thinking to process ... '}\n",
      "{'title': '快速与增量式数据降维算法研究', 'author': '申富饶、竺涛、赵健 ', 'Publishinghouse': ' 科学出版社 ', 'publishingTime': ' 99元', 'price': ' ', 'commits': '(少于10人评价)', 'documents': '无简介'}\n",
      "{'title': '数据科学导论           : Python语言实现', 'author': '阿尔贝托·博斯凯蒂 ', 'Publishinghouse': ' 机械工业出版社 ', 'publishingTime': ' 2016-8-10 ', 'price': ' CNY 49.00', 'commits': '(19人评价)', 'documents': '本书由两位资深数据科学家撰写，融合其多年从事数据科学相关的教学和科研工作经验，借助现有的Python语法和结构知识，全面而系统地讲解进行数据科学分析和开发的... '}\n",
      "{'title': '机器学习Web应用', 'author': 'Andrea，Isoni，爱索尼克 著 ', 'Publishinghouse': ' 人民邮电出版社 ', 'publishingTime': ' 2017-7-1 ', 'price': ' 59.00', 'commits': '(少于10人评价)', 'documents': '机器学习可用来处理由用户产生的、数量不断增长的Web数据。\\n本书讲解如何用Python语言、Django框架开发一款Web商业应用，以及如何用一些现成的库和... '}\n",
      "{'title': 'Foundations of Machine Learning', 'author': 'Mehryar Mohri、Afshin Rostamizadeh、Ameet Talwalkar ', 'Publishinghouse': ' MIT Press ', 'publishingTime': ' 2019-1-22 ', 'price': ' GBP 58.00', 'commits': '(少于10人评价)', 'documents': '无简介'}\n",
      "{'title': 'Statistically Sound Machine Learning for Algorithmic Trading of Financial Instruments           : Developing Predictive-Model-Based Trading Systems Using TSSB', 'author': 'David Aronson、Timothy Masters ', 'Publishinghouse': ' CreateSpace Independent Publishing Platform ', 'publishingTime': ' 2013-6-1 ', 'price': ' USD 129.95', 'commits': '(少于10人评价)', 'documents': '无简介'}\n",
      "{'title': '机器学习入门之道', 'author': '[日]中井悦司 ', 'Publishinghouse': ' 人民邮电出版社 ', 'publishingTime': ' 2018-5 ', 'price': ' 59.00', 'commits': '(少于10人评价)', 'documents': '人工智能正在形成一股新的浪潮，它将从技术、经济、社会等各个层面改变我们的工作和生活方式。作为实现人工智能的重要技术，机器学习正在受到人工智能专家之外的更广泛... '}\n",
      "{'title': 'Bayesian Data Analysis, Third Edition', 'author': 'Andrew Gelman、John B. Carlin、Hal S. Stern、David B. Dunson、Aki Vehtari、Donald B. Rubin ', 'Publishinghouse': 'CRC ', 'publishingTime': ' 2013-11-1 ', 'price': ' USD 74.95', 'commits': '(33人评价)', 'documents': 'This third edition of a classic textbook presents a comprehensive introduction... '}\n",
      "{'title': 'On Intelligence', 'author': 'Jeff Hawkins、Sandra Blakeslee ', 'Publishinghouse': \" St. Martin's Griffin \", 'publishingTime': ' 2005-8-1 ', 'price': ' USD 16.99', 'commits': '(25人评价)', 'documents': 'From the inventor of the PalmPilot comes a new and compelling theory of intell... '}\n",
      "{'title': 'Dynamics and Control of Robotic Systems', 'author': 'Andrew J. Kurdila、Pinhas Ben-Tzvi ', 'Publishinghouse': ' Wiley ', 'publishingTime': ' 2019-10-9 ', 'price': ' USD 112.99', 'commits': '(目前无人评价)', 'documents': 'Dynamics and Control of Robotic Systems offers a systematic and thorough theor... '}\n",
      "{'title': 'Python绝技：运用Python成为顶级数据工程师', 'author': '黄文青 ', 'Publishinghouse': ' 电子工业出版社 ', 'publishingTime': ' 2018-6 ', 'price': ' 79', 'commits': '(10人评价)', 'documents': 'Python 已成为广受数据科学领域欢迎的开发语言。《Python绝技：运用Python成为顶级数据工程师》契合这一趋势，结合具体的业务场景，从数据思维的角... '}\n",
      "{'title': '深度学习框架PyTorch：入门与实践', 'author': '陈云 ', 'Publishinghouse': ' 电子工业出版社 ', 'publishingTime': ' 2018-1 ', 'price': ' 65', 'commits': '(68人评价)', 'documents': '《深度学习框架PyTorch：入门与实践》从多维数组Tensor开始，循序渐进地带领读者了解PyTorch各方面的基础知识。结合基础知识和前沿研究，带领读者... '}\n",
      "{'title': '具体数学（英文版第2版）           : 计算机科学基础', 'author': '[美] Ronald L. Graham、Donald E. Knuth、Oren Patashnik ', 'Publishinghouse': ' 机械工业出版社 ', 'publishingTime': ' 2002-8 ', 'price': ' 49.00元', 'commits': '(831人评价)', 'documents': 'This book introduces the mathematics that supports advanced computer Programmi... '}\n",
      "{'title': '数据挖掘           : 概念与技术', 'author': '[加] Jiawei Han、Micheline Kamber ', 'Publishinghouse': ' 机械工业出版社 ', 'publishingTime': ' 2001-8 ', 'price': ' 39.00元', 'commits': '(221人评价)', 'documents': '这本书系统地论述数据挖掘的基本概念、基本技术和最新进展。全书分10章，全面而深入地介绍数据库技术的发展和数据挖掘的应用，数据仓库和联机分析技术，数据预处理技... '}\n",
      "{'title': '商业数据科学(影印版)(英文版)', 'author': '(美)福斯特·普罗沃斯特、汤姆·福赛特 ', 'Publishinghouse': ' 东南大学 ', 'publishingTime': ' 2018-02-01 ', 'price': ' 98.0', 'commits': '(少于10人评价)', 'documents': ' 福斯特·普罗沃斯特、汤姆·福赛特著的《商业数据科学(影印版)(英文版)》是一本博大精深但又不太技术的指南，向你介绍数据科学的基本原则，并带领你全程浏览从所... '}\n",
      "{'title': '支持向量机导论', 'author': '（美）克里斯蒂亚尼尼 ', 'Publishinghouse': ' 机械工业出版社 ', 'publishingTime': ' 2005-01-01 ', 'price': ' 29.00元', 'commits': '(14人评价)', 'documents': '无简介'}\n",
      "{'title': '爱犯错的智能体', 'author': '张军平 ', 'Publishinghouse': ' 清华大学出版社 ', 'publishingTime': ' 2019-8-1 ', 'price': ' 55.00元', 'commits': '(41人评价)', 'documents': '智能是什么？二十一世纪以来，人工智能有了飞速发展，在各行各业如互联网、安防、多媒体等都有了广泛且有效的应用。但这是否意味着人类就能制造超越人类自身的智能体呢... '}\n",
      "{'title': '精通数据科学：从线性回归到深度学习', 'author': '唐亘 ', 'Publishinghouse': ' 人民邮电出版社 ', 'publishingTime': ' 2018-5-8 ', 'price': ' 99.00元', 'commits': '(101人评价)', 'documents': '数据科学是一门内涵很广的学科，它涉及到统计分析、机器学习以及计算机科学三方面的知识和技能。本书深入浅出、全面系统地介绍了这门学科的内容。\\n本书分为13章，最... '}\n"
     ]
    },
    {
     "name": "stdout",
     "output_type": "stream",
     "text": [
      "{'title': 'Learning Spark           : Lightning-Fast Big Data Analysis', 'author': 'Holden Karau、Andy Konwinski、Patrick Wendell、Matei Zaharia ', 'Publishinghouse': \" O'Reilly Media \", 'publishingTime': ' 2015-2-22 ', 'price': ' USD 39.99', 'commits': '(124人评价)', 'documents': '无简介'}\n",
      "{'title': 'Numerical Optimization', 'author': 'Jorge Nocedal、Stephen Wright ', 'Publishinghouse': ' Springer ', 'publishingTime': ' 2006-7-27 ', 'price': ' USD 79.95', 'commits': '(83人评价)', 'documents': 'Optimization is an important tool used in decision science and for the analysi... '}\n",
      "{'title': '神经网络在应用科学和工程中的应用           : 从基本原理到复杂的模式识别', 'author': '萨马拉辛荷 ', 'Publishinghouse': ' 2010-1 ', 'publishingTime': ' 88.00元', 'price': ' ', 'commits': '(少于10人评价)', 'documents': '《神经网络在应用科学与工程中的应用:从基本原理到复杂的模式识别》为读者提供了神经网络方面简单但却系统的介绍。\\n《神经网络在应用科学和工程中的应用从基本原理到... '}\n",
      "{'title': 'Machine Learning in Action', 'author': 'Peter Harrington ', 'Publishinghouse': ' Manning Publications ', 'publishingTime': ' 2012-4-19 ', 'price': ' GBP 29.99', 'commits': '(192人评价)', 'documents': 'It\\'s been said that data is the new \"dirt\"—the raw material from which and on ... '}\n",
      "{'title': 'TensorFlow技术解析与实战', 'author': '李嘉璇 ', 'Publishinghouse': ' 人民邮电出版社 ', 'publishingTime': ' 2017-6-1 ', 'price': ' 79.00元', 'commits': '(83人评价)', 'documents': 'TensorFlow 是谷歌公司开发的深度学习框架，也是目前深度学习的主流框架之一。本书从深度学习的基础讲起，深入TensorFlow框架原理、模型构建、源... '}\n",
      "{'title': '基于H2O的机器学习实用方法           : 一种强大的可扩展的人工智能和深度学习技术', 'author': '达伦.库克 ', 'Publishinghouse': ' 机械工业出版社 ', 'publishingTime': ' 2018-7-1 ', 'price': ' 69', 'commits': '(少于10人评价)', 'documents': '《基于H2O的机器学习实用方法：一种强大的可扩展的人工智能和深度学习技术》主要介绍了H2O的基本概念和应用。全书共11章，首先介绍了H2O在R和Python... '}\n",
      "{'title': 'Python机器学习经典实例', 'author': '[美] Prateek Joshi ', 'Publishinghouse': ' 人民邮电出版社 ', 'publishingTime': ' 2017-8 ', 'price': ' 59.00元', 'commits': '(12人评价)', 'documents': '在如今这个处处以数据驱动的世界中，机器学习正变得越来越大众化。它已经被广泛地应用于不同领域，如搜索引擎、机器人、无人驾驶汽车等。本书首先通过实用的案例介绍机... '}\n",
      "{'title': 'Spark大数据分析实战', 'author': '高彦杰、倪亚宇 ', 'Publishinghouse': ' 机械工业出版社 ', 'publishingTime': ' 2016-1-1 ', 'price': ' 59.00元', 'commits': '(16人评价)', 'documents': '本书一共11章：其中第1～3章，主要介绍了Spark的基本概念、编程模型、开发与部署的方法；第4～11章，详细详解了热点新闻分析系统、基于云平台的日志数据分... '}\n",
      "{'title': 'Trading Evolved           : Anyone can Build Killer Trading Strategies in Python', 'author': 'Andreas F. Clenow ', 'Publishinghouse': ' Independently published ', 'publishingTime': ' 2019-8-7 ', 'price': ' $49.50', 'commits': '(少于10人评价)', 'documents': 'Systematic trading allows you to test and evaluate your trading ideas before r... '}\n",
      "{'title': 'Probabilistic Graphical Models           : Principles and Applications', 'author': 'Luis Enrique Sucar ', 'Publishinghouse': ' Springer ', 'publishingTime': ' 2015-7-18 ', 'price': ' USD 69.99', 'commits': '(目前无人评价)', 'documents': '无简介'}\n",
      "{'title': '大数据智能           : 互联网时代的机器学习和自然语言处理技术', 'author': '刘知远、崔安颀 ', 'Publishinghouse': ' 电子工业出版社 ', 'publishingTime': ' 2016-1 ', 'price': ' 49.00元', 'commits': '(90人评价)', 'documents': '《大数据智能——互联网时代的机器学习和自然语言处理技术》是一本介绍大数据智能分析的科普书籍，旨在让更多的人了解和学习互联网时代的机器学习和自然语言处理技术，... '}\n",
      "{'title': '多元统计分析导论', 'author': '(美)T.W.Anderson ', 'Publishinghouse': ' 人民邮电出版社 ', 'publishingTime': ' 2010 年12月 ', 'price': ' 89.00元', 'commits': '(13人评价)', 'documents': '本书是世界知名统计学家的力作, 主要内容有多元正态分布、方差分析、回归分析、因 子分析、椭球等高分布、相依性模式、图模型. 附录中还列出了矩阵理论、wilk... '}\n",
      "{'title': 'Python高级机器学习', 'author': '[英] 约翰 • 哈蒂 ', 'Publishinghouse': ' 人民邮电出版社 ', 'publishingTime': ' 2020-1 ', 'price': ' 59.00元', 'commits': '(目前无人评价)', 'documents': '近些年机器学习发展迅猛，早已从科研领域延伸到了商业领域，新技术和新应用不断涌现，其中Python语言光芒难掩。越来越多的开发者和研究人员选择了Python，... '}\n",
      "{'title': '数据算法           : Hadoop/Spark大数据处理技巧', 'author': 'Mahmoud Parsian ', 'Publishinghouse': ' 中国电力出版社 ', 'publishingTime': ' 2016-10-1 ', 'price': ' 128元', 'commits': '(12人评价)', 'documents': '《数据算法：Hadoop/Spark大数据处理技巧》介绍了很多基本设计模式、优化技术和数据挖掘及机器学习解决方案，以解决生物信息学、基因组学、统计和社交网络... '}\n",
      "{'title': 'Rebooting AI: Building Artificial Intelligence We Can Trust', 'author': 'Gary F. Marcus、Ernest Davis ', 'Publishinghouse': ' Pantheon ', 'publishingTime': ' 2019-9-10', 'price': ' ', 'commits': '(少于10人评价)', 'documents': 'Two leaders in the field offer a compelling analysis of the current state of t... '}\n",
      "{'title': 'Python Machine Learning', 'author': 'Sebastian Raschka ', 'Publishinghouse': ' Packt Publishing - ebooks Account ', 'publishingTime': ' 2015-9 ', 'price': ' USD 44.99', 'commits': '(60人评价)', 'documents': \"About This Book\\nLeverage Python' s most powerful open-source libraries for dee... \"}\n",
      "{'title': 'Data Science on the Google Cloud Platform: Implementing End-to-End Real-time Data Pipelines: from ingest to machine learning', 'author': 'Valliappa Lakshmanan ', 'Publishinghouse': \" O'Reilly Media \", 'publishingTime': ' 2017-10-25 ', 'price': ' USD 34.80', 'commits': '(少于10人评价)', 'documents': 'Learn how easy it is to apply sophisticated statistical and machine learning m... '}\n",
      "{'title': '数学之美', 'author': '吴军 ', 'Publishinghouse': ' 人民邮电出版社 ', 'publishingTime': ' 2012-5-1 ', 'price': ' 45.00元', 'commits': '(10313人评价)', 'documents': '几年前，“数学之美”系列文章原刊载于谷歌黑板报，获得上百万次点击，得到读者高度评价。读者说，读了“数学之美”，才发现大学时学的数学知识，比如马尔可夫链、矩阵... '}\n",
      "{'title': '情感分析：挖掘观点、情感和情绪           : 挖掘观点、情感和情绪', 'author': '[美] 刘兵（Bing Liu） ', 'Publishinghouse': ' 机械工业出版社 ', 'publishingTime': ' 2017-9-20 ', 'price': ' 99.00', 'commits': '(21人评价)', 'documents': '本书主要从自然语言处理的角度全面地介绍情感分析这个主题最先进的研究技术和实用算法，以帮助读者了解通常用于表达观点和情感的问题和语言结构的基本结构。它涵盖了情... '}\n",
      "{'title': '深度学习之TensorFlow           : 入门、原理与进阶实战', 'author': '李金洪 ', 'Publishinghouse': ' 机械工业出版社 ', 'publishingTime': ' 2018-3-1 ', 'price': ' CNY 99.00', 'commits': '(48人评价)', 'documents': '本书通过96个案例，全面讲解了深度学习神经网络原理和TensorFlow的使用方法。全书共分为3篇，第1篇深度学习与TensorFlow基础，包括快速了解人... '}\n",
      "{'title': 'scikit learn机器学习           : 常用算法原理及编程实战', 'author': '黄永昌 ', 'Publishinghouse': ' 机械工业出版社 ', 'publishingTime': ' 2018-3-1 ', 'price': ' CNY 59.00', 'commits': '(26人评价)', 'documents': '本书通过通俗易懂的语言、丰富的图示和生动的实例，拨开了笼罩在机器学习上方复杂的数学“乌云”，让读者以较低的代价和门槛轻松入门机器学习。本书共分为11章，主要... '}\n",
      "{'title': 'Machine Learning for Designers', 'author': 'Patrick Hebron ', 'Publishinghouse': ' O’Reilly ', 'publishingTime': ' 2016-6-9', 'price': ' ', 'commits': '(少于10人评价)', 'documents': 'Since the dawn of computing, we have dreamed of (and had night‐ mares about) m... '}\n",
      "{'title': '模式识别', 'author': '边肇祺、张学工 ', 'Publishinghouse': ' 清华大学出版社 ', 'publishingTime': ' 2000-1 ', 'price': ' 25.00元', 'commits': '(65人评价)', 'documents': '本书是清华大学自动化系教材，主要讨论统计模式识别理论和方法，第一版包括贝叶斯决策理论、线性和非线性判别函数、近邻规则、经验风险最小化、特征提取和选择，以及聚... '}\n",
      "{'title': ': A Visual, Interactive Guide to Artificial Intelligence', 'author': 'Jon Krohn, Beyleveld Grant, Bassens Aglaé ', 'Publishinghouse': ' Addison-Wesley Professional ', 'publishingTime': ' 2019-9-28 ', 'price': ' USD 32.93', 'commits': '(目前无人评价)', 'documents': 'Fully Practical, Insightful Guide to Modern Deep Learning\\nDeep learning is tra... '}\n",
      "{'title': 'Neural Networks           : Tricks of the Trade', 'author': 'Grégoire Montavon、Geneviève Orr、Klaus-Robert Müller ', 'Publishinghouse': ' Springer ', 'publishingTime': ' 2013-11-6 ', 'price': ' USD 131.00', 'commits': '(10人评价)', 'documents': 'The twenty last years have been marked by an increase in available data and co... '}\n",
      "{'title': '机器学习算法实践           : 推荐系统的协同过滤理论及其应用', 'author': '王建芳 ', 'Publishinghouse': ' 清华大学出版社 ', 'publishingTime': ' 2018-10-27 ', 'price': ' 69.00元', 'commits': '(少于10人评价)', 'documents': '个性化推荐能够根据用户的历史行为显式或者隐式地挖掘用户潜在的兴趣和需求，并为其推送个性化信息，因此受到研究者的追捧及工业界的青睐，其研究具有重大的学术价值及... '}\n",
      "{'title': 'Python+Spark 2.0+Hadoop机器学习与大数据实战', 'author': '林大贵 ', 'Publishinghouse': ' 清华大学出版社 ', 'publishingTime': ' 99', 'price': ' ', 'commits': '(19人评价)', 'documents': '本书从浅显易懂的“大数据和机器学习”原理说明入手，讲述大数据和机器学习的基本概念，如分类、分析、训练、建模、预测、机器学习（推荐引擎）、机器学习（二元分类）... '}\n",
      "{'title': 'Neural Networks and Statistical Learning', 'author': 'Ke-Lin Du、M. N. S. Swamy ', 'Publishinghouse': ' Springer ', 'publishingTime': ' 2013-12-7 ', 'price': ' USD 129.00', 'commits': '(少于10人评价)', 'documents': '无简介'}\n",
      "{'title': '数据科学家访谈录           : 25位著名数据科学家的真知灼见', 'author': 'Carl Shan（单研）、William Chen（陈子蔚）、Henry Wang（汪强明）、Max Song（宋迈思） ', 'Publishinghouse': ' 人民邮电出版社 ', 'publishingTime': ' 2018-2 ', 'price': ' 69.00元', 'commits': '(29人评价)', 'documents': '本书选取世界知名的25位数据科学家进行了深度的访谈，从不同的视角和维度，将他们的智慧、经验、指导和建议凝聚成册。每一篇访谈都是一次深度的交流，涵盖了这些数据... '}\n",
      "{'title': '图解深度学习', 'author': '[日] 山下隆义 ', 'Publishinghouse': ' 人民邮电出版社 ', 'publishingTime': ' 2018-5 ', 'price': ' 59.00元', 'commits': '(37人评价)', 'documents': '本书从深度学习的发展历程讲起，以丰富的图例从理论和实践两个层面介绍了深度学习的各种方法，以及深度学习在图像识别等领域的应用案例。内容涉及神经网络、卷积神经网... '}\n",
      "{'title': '数据挖掘           : 实用机器学习工具与技术（英文版·第3版）', 'author': '（新西兰）Ian H.Witten、（新西兰）Eibe Frank、（新西兰）Mark A. Hall ', 'Publishinghouse': ' 机械工业出版社 ', 'publishingTime': ' 2012-4 ', 'price': ' 108.00元', 'commits': '(16人评价)', 'documents': '【编辑推荐】\\n假如你需要对数据进行分析和理解，本书以及相关的Weka工具包是一个绝佳的起步。\\n－－摘自本书序, Jim Gray (图灵奖获得者)\\n“本书既... '}\n",
      "{'title': 'R数据可视化手册', 'author': '[美] Winston Chang ', 'Publishinghouse': ' 人民邮电出版社 ', 'publishingTime': ' 2014-5 ', 'price': ' 89', 'commits': '(109人评价)', 'documents': 'R具有强大的统计计算功能和便捷的数据可视化系统。《R数据可视化手册》重点讲解R的绘图系统，指导读者通过绘图系统实现数据可视化。\\n书中提供了快速绘制高质量图形... '}\n",
      "{'title': '机器学习系统设计：python语言实现', 'author': '[美] 戴维·朱利安（David Julian）著 ', 'Publishinghouse': ' 机械工业出版社 ', 'publishingTime': ' 2017-6-2 ', 'price': ' 59.00元', 'commits': '(12人评价)', 'documents': '本书介绍了机器学习系统设计的整个过程，以及相关的Python库，并在各个知识环节中都给出了Python示例，为设计高效机器学习系统提供详实指南。\\n本书共9章... '}\n",
      "{'title': 'Python for Probability, Statistics, and Machine Learning', 'author': 'José Unpingco ', 'Publishinghouse': ' Springer ', 'publishingTime': ' 2016-4-12 ', 'price': ' USD 112.55', 'commits': '(少于10人评价)', 'documents': 'This book covers the key ideas that link probability, statistics, and machine ... '}\n",
      "{'title': '深入理解AutoML和AutoDL：构建自动化机器学习与深度学习平台', 'author': '王健宗、瞿晓阳 ', 'Publishinghouse': ' 机械工业出版社 ', 'publishingTime': ' 2019-8-20 ', 'price': ' 99.00元', 'commits': '(29人评价)', 'documents': '这是一部从基础理论、核心原理、前沿算法等多个维度系统、全面讲解AutoML、AutoDL和元学习的著作。\\n作者是资深的人工智能专家，大型金融集团科技公司深度... '}\n",
      "{'title': '统计决策论及贝叶斯分析', 'author': '（美）James O.Berger ', 'Publishinghouse': ' 中国统计出版社 ', 'publishingTime': ' 1998-5 ', 'price': ' 49.20元', 'commits': '(少于10人评价)', 'documents': '统计决策论及贝叶斯分析：第二版，ISBN：9787503725333，作者：（美）[J.O.伯杰]James O.Berger著；贾乃光译 '}\n",
      "{'title': '统计模拟           : （英文版•第4版）', 'author': '罗斯 ', 'Publishinghouse': ' 人民邮电 ', 'publishingTime': ' 2007-2 ', 'price': ' 45.00元', 'commits': '(23人评价)', 'documents': '《统计模拟(英文版•第4版)》系统阐述了统计模拟的一些实用方法和技术。在对概率的基本知识进行了简单的回顾之后，介绍如何利用计算机产生随机数以及如何利用这些随... '}\n",
      "{'title': 'Python与机器学习实战           : 决策树、集成学习、支持向量机与神经网络算法详解及编程实现', 'author': '何宇健 ', 'Publishinghouse': ' 电子工业出版社 ', 'publishingTime': ' 2017-7 ', 'price': ' 69', 'commits': '(17人评价)', 'documents': 'Python与机器学习这一话题是如此的宽广，仅靠一本书自然不可能涵盖到方方面面，甚至即使出一个系列的书也难能做到这点。单就机器学习而言，其领域就包括但不限于... '}\n",
      "{'title': 'Introductory Lectures on Convex Optimization           : A Basic Course (Applied Optimization)', 'author': 'Y. Nesterov ', 'Publishinghouse': ' Springer ', 'publishingTime': ' 2003-12-31 ', 'price': ' USD 95.00', 'commits': '(16人评价)', 'documents': '无简介'}\n",
      "{'title': 'Python大战机器学习           : 数据科学家的第一个小目标', 'author': '华校专、王正林 ', 'Publishinghouse': ' 电子工业出版社 ', 'publishingTime': ' 2017-2-1 ', 'price': ' 69', 'commits': '(24人评价)', 'documents': '数据科学家是当下炙手可热的职业，机器学习则是他们的必备技能。机器学习在大数据分析中居于核心地位，在互联网、金融保险、制造业、零售业、医疗等产业领域发挥了越来... '}\n"
     ]
    },
    {
     "name": "stdout",
     "output_type": "stream",
     "text": [
      "{'title': '机器学习实践应用', 'author': '李博 ', 'Publishinghouse': ' 人民邮电出版社 ', 'publishingTime': ' 2017 ', 'price': ' 69', 'commits': '(22人评价)', 'documents': '机器学习是一门多领域交叉学科，涉及概率论、统计学、逼近论、凸分析、算法复杂度等多门学科，专门研究计算机怎样模拟或实现人类的学习行为。机器学习是人工智能的核心... '}\n",
      "{'title': '统计推荐系统', 'author': 'Deepak K. Agarwal、陈必衷（Bee-Chung Chen） ', 'Publishinghouse': ' 机械工业出版社 ', 'publishingTime': ' 2019-9 ', 'price': ' 89.00元', 'commits': '(少于10人评价)', 'documents': '推荐系统无处不在，已经成为我们日常生活的一部分。本书由LinkedIn公司的两位技术专家撰写，着眼于推荐系统的核心——统计方法，不仅介绍算法理论，而且包含实... '}\n",
      "{'title': '机器学习在线：解析阿里云机器学习平台', 'author': '杨旭 ', 'Publishinghouse': ' 电子工业出版社 ', 'publishingTime': ' 2017-8 ', 'price': ' 79.00', 'commits': '(12人评价)', 'documents': '近几年，机器学习平台获得了飞速发展，积累了大量高效的机器学习算法组件，基于这些组件可以快速实现业务流程、解决具体问题。阿里云机器学习平台的丰富算法功能可以在... '}\n",
      "{'title': 'Artificial Intelligence and Machine Learning for Business           : A No-Nonsense Guide to Data Driven Technologies', 'author': 'Steven Finlay ', 'Publishinghouse': ' Relativistic ', 'publishingTime': ' 2017-5-28', 'price': ' ', 'commits': '(少于10人评价)', 'documents': 'Artificial Intelligence (AI) and Machine Learning are now mainstream business ... '}\n",
      "{'title': '零基础入门学习Python           : （第2版）', 'author': '小甲鱼 ', 'Publishinghouse': ' 清华大学出版社 ', 'publishingTime': ' 2019-6 ', 'price': ' 89元', 'commits': '(10人评价)', 'documents': '本书提倡理解为主，应用为王。因此，只要有可能，小甲鱼（注：作者）都会通过生动的实例来让大家理解概念。\\n虽然这是一本入门书籍，但本书的“野心”并不止于“初级水... '}\n",
      "{'title': '机器学习(从公理到算法)/中国计算机学会学术著作丛书           : 中国计算机学会学术著作丛书', 'author': '于剑 ', 'Publishinghouse': ' 清华大学出版社 ', 'publishingTime': ' 2017-7-1', 'price': ' ', 'commits': '(12人评价)', 'documents': '《机器学习：从公理到算法（中国计算机学会学术著作丛书）》是一本基于公理研究学习算法的书。共17章，由两部分组成。第一部分是机器学习公理以及部分理论演绎，包括... '}\n",
      "{'title': 'Fundamentals of Machine Learning for Predictive Data Analytics           : Algorithms, Worked Examples, and Case Studies', 'author': \"John D. Kelleher、Brian Mac Namee、Aoife D'Arcy \", 'Publishinghouse': ' The MIT Press ', 'publishingTime': ' 2015-7-24 ', 'price': ' USD 74.00', 'commits': '(少于10人评价)', 'documents': '无简介'}\n",
      "{'title': '深入浅出数据科学', 'author': '斯楠·奥兹德米尔 ', 'Publishinghouse': ' 人民邮电出版社 ', 'publishingTime': ' 2018-10-1 ', 'price': ' 69', 'commits': '(少于10人评价)', 'documents': '数据科学家是目前热门的职业之一。本书全面介绍了成为合格数据科学家所需的知识、技能和工作流程，是一本内容全面的实用性技术图书。 本书分为13章，其中第1～3章... '}\n",
      "{'title': 'Deep Learning for Natural Language Processing', 'author': 'Stephan Raaijmakers ', 'Publishinghouse': ' Manning Publication ', 'publishingTime': ' 2020-5-12 ', 'price': ' USD 49.99', 'commits': '(目前无人评价)', 'documents': 'Deep Learning for Natural Language Processing teaches you to apply state-of-th... '}\n",
      "{'title': '深度强化学习           : 原理与实践', 'author': '陈仲铭、何   明 ', 'Publishinghouse': ' 2019-4', 'publishingTime': ' ', 'price': ' ', 'commits': '(54人评价)', 'documents': '本书构建了一个完整的深度强化学习理论和实践体系：从马尔科夫决策过程开始，根据价值函数、策略函数求解贝尔曼方程，到利用深度学习模拟价值网络和策略网络。书中详细... '}\n",
      "{'title': '写给程序员的数据挖掘实践指南', 'author': '[美] Ron Zacharski ', 'Publishinghouse': ' 人民邮电出版社 ', 'publishingTime': ' 2015-10-24 ', 'price': ' 59.00', 'commits': '(62人评价)', 'documents': '数据挖掘一般是指从大量的数据中通过算法搜索隐藏于其中信息的过程。大多数数据挖掘的教材都专注于介绍理论基础，因而往往难以理解和学习。\\n本书是写给程序员的一本数... '}\n",
      "{'title': '模式分类           : 原书第2版', 'author': 'Richard O. Duda、Peter E. Hart、David G. Stork ', 'Publishinghouse': ' 机械工业出版社 ', 'publishingTime': ' 2003-9 ', 'price': ' 59.00元', 'commits': '(352人评价)', 'documents': '《模式分类》(原书第2版)的第1版《模式分类与场景分析》出版于1973年，是模式识别和场景分析领域奠基性的经曲名著。在第2版中，除了保留了第1版的关于统计模... '}\n",
      "{'title': 'Graph Algorithms           : Practical Examples in Apache Spark and Neo4j', 'author': 'Mark Needham、Amy E. Hodler ', 'Publishinghouse': \" O'Reilly Media \", 'publishingTime': ' 2019-6-4 ', 'price': ' USD 69.99', 'commits': '(少于10人评价)', 'documents': 'Discover how graph algorithms can help you leverage the relationships within y... '}\n",
      "{'title': 'Recommender Systems           : An Introduction', 'author': 'Dietmar Jannach、Markus Zanker、Alexander Felfernig、Gerhard Friedrich ', 'Publishinghouse': ' Cambridge University Press ', 'publishingTime': ' 2010-9-30 ', 'price': ' USD 79.99', 'commits': '(28人评价)', 'documents': \"Review\\n'Behind the modest title of 'An Introduction' lies the type of work the... \"}\n",
      "{'title': 'Machine Learning           : For Beginners - Your Definitive Guide For Machine Learning Framework, Machine Learning Model, Ba', 'author': 'Ken Richards ', 'Publishinghouse': ' CreateSpace Independent Publishing Platform ', 'publishingTime': ' 2018-1-15 ', 'price': ' GBP 14.38', 'commits': '(目前无人评价)', 'documents': '无简介'}\n",
      "{'title': '智能时代           : 大数据与智能革命重新定义未来', 'author': '吴军 ', 'Publishinghouse': ' 中信出版集团 ', 'publishingTime': ' 2016-8 ', 'price': ' 68.00', 'commits': '(5742人评价)', 'documents': '大数据和机器智能的出现，对我们的技术发展、商业和社会都会产生重大的影响。作者吴军在《智能时代：大数据与智能革命重新定义未来》中指出，首先，我们在过去认为非常... '}\n",
      "{'title': '算法', 'author': 'Robert Sedgewick、Kevin Wayne ', 'Publishinghouse': ' 人民邮电出版社 ', 'publishingTime': ' 2012-3-5 ', 'price': ' 99.00元', 'commits': '(676人评价)', 'documents': '《算法(英文版•第4版)》作为算法领域经典的参考书，全面介绍了关于算法和数据结构的必备知识，并特别针对排序、搜索、图处理和字符串处理进行了论述。第4版具体给... '}\n",
      "{'title': 'Probability Theory           : The Logic of Science', 'author': 'E. T. Jaynes ', 'Publishinghouse': ' Cambridge University Press ', 'publishingTime': ' 2003-6-9 ', 'price': ' USD 110.00', 'commits': '(78人评价)', 'documents': 'The standard rules of probability can be interpreted as uniquely valid princip... '}\n",
      "{'title': 'Probably Approximately Correct           : Nature’s Algorithms for Learning and Prospering in a Complex World', 'author': 'Leslie Valiant ', 'Publishinghouse': ' Basic Books ', 'publishingTime': ' 2013-6-4 ', 'price': ' USD 26.99', 'commits': '(10人评价)', 'documents': 'How does life prosper in a complex and erratic world? While we know that natur... '}\n",
      "{'title': '信用风险评分卡研究           : 基于SAS的开发与实施', 'author': '马杜姆.雷法特 ', 'Publishinghouse': ' 社会科学文献出版社 ', 'publishingTime': ' 2013-7 ', 'price': ' 58.00', 'commits': '(56人评价)', 'documents': '无简介'}\n",
      "{'title': '大数据策略：如何成功使用大数据与10个行业案例分享           : 如何成功使用大数据与10个行业案例分享', 'author': '(美)帕姆•贝克(Pam Baker)、(美)鲍勃•格雷(Bob Gourley) ', 'Publishinghouse': ' 清华大学出版社 ', 'publishingTime': ' 2016-7-1 ', 'price': ' 49.8', 'commits': '(15人评价)', 'documents': '大数据正在改变我们的世界。互联网发展以及移动通信市场和相关技术的迅速扩张业已创建大量的数据，包括结构化数据和非结构化数据。数据可用性和数据应用对商业和更广泛... '}\n",
      "{'title': '计算统计学基础', 'author': '金特尔 ', 'Publishinghouse': ' 科学出版社 ', 'publishingTime': ' 2006-9 ', 'price': ' 68.00元', 'commits': '(少于10人评价)', 'documents': '《计算统计学基础(影印版)》内容简介：集约计算方法在统计推断和探索性数据分析中已得到广泛应用。计算统计学方法包括数据集的重新采样、分类及多重变换，其中可能利... '}\n",
      "{'title': 'All of Statistics           : A Concise Course in Statistical Inference', 'author': 'Larry Wasserman ', 'Publishinghouse': ' Springer ', 'publishingTime': ' 2004-10-21 ', 'price': ' USD 99.00', 'commits': '(206人评价)', 'documents': 'WINNER OF THE 2005 DEGROOT PRIZE!  This book is for people who want to learn p... '}\n",
      "{'title': 'Python机器学习（原书第2版)', 'author': '[美] 塞巴斯蒂安·拉施卡（Sebastian Raschka）、[美] 瓦希德·米尔贾利利（Vahid Mirjalili） ', 'Publishinghouse': ' 机械工业出版社 ', 'publishingTime': ' 2018-11 ', 'price': ' 89.00元', 'commits': '(少于10人评价)', 'documents': '本书自第1版出版以来，备受广大读者欢迎。与同类书相比，本书除了介绍如何用Python和基于Python的机器学习软件库进行实践外，还对机器学习概念的必要细节... '}\n",
      "{'title': 'Introductory Functional Analysis with Applications', 'author': 'Erwin Kreyszig ', 'Publishinghouse': ' Wiley ', 'publishingTime': ' 1989-2-23 ', 'price': ' GBP 237.99', 'commits': '(49人评价)', 'documents': 'Provides avenues for applying functional analysis to the practical study of na... '}\n",
      "{'title': 'MATLAB深度学习 机器学习、神经网络与人工智能', 'author': 'Phil Kim ', 'Publishinghouse': ' 清华大学出版社 ', 'publishingTime': ' 2018-3 ', 'price': ' 49.8', 'commits': '(少于10人评价)', 'documents': 'MATLAB深度学习\\n在《MATLAB深度学习\\u3000机器学习、神经网络与人工智能》深入浅出的指导方式下，开启MATLAB深度学习与人工智能之旅吧！《MATLAB... '}\n",
      "{'title': '机器学习系统设计           : Python语言实现', 'author': '（美国）戴维·朱利安（David Julian） ', 'Publishinghouse': ' 机械工业出版社 ', 'publishingTime': ' 2017-6-1 ', 'price': ' 47.20元', 'commits': '(少于10人评价)', 'documents': '机器学习模型不能给出准确结果的原因有很多。从设计的角度来审视这些系统，我们能够深入理解其底层算法和可用的优化方法。本书为我们提供了机器学习设计过程的坚实基础... '}\n",
      "{'title': '计算机科学中的数学：信息与智能时代的必修课', 'author': '【美】埃里克•雷曼（Eric Lehman）、【美】F.汤姆森•莱顿（F. Thomson Leighton）、【美】艾伯特•R.迈耶（Albert R. Meyer） 著 ', 'Publishinghouse': ' 电子工业出版社 ', 'publishingTime': ' 2018-4 ', 'price': ' 168.00元', 'commits': '(23人评价)', 'documents': '《计算机科学中的数学：信息与智能时代的必修课》是麻省理工学院计算机科学与工程专业本科生的初等离散数学课程讲义。本书涵盖了国外计算机科学专业涉及的基础数学知识... '}\n",
      "{'title': 'TensorFlow自然语言处理', 'author': '', 'Publishinghouse': ' ', 'publishingTime': ' ', 'price': ' ', 'commits': '(少于10人评价)', 'documents': '无简介'}\n",
      "{'title': 'Python文本分析           : A Practical Real-World Approach to Gaining Actionable Insights from Your Data', 'author': '[印] 迪潘简·撒卡尔 ', 'Publishinghouse': ' 机械工业出版社 ', 'publishingTime': ' 2018-5-1 ', 'price': ' 79.00 元', 'commits': '(少于10人评价)', 'documents': '本书遵循结构化和综合性的方法，介绍了文本和语言语法、结构和语义的基础概念和高级概念。从自然语言和Python的基础开始，进而学习先进的分析理念和机器学习概念... '}\n",
      "{'title': '机器学习(英文版)', 'author': 'Tom M.Mitchell ', 'Publishinghouse': ' 机械工业出版社 ', 'publishingTime': ' 2003-03 ', 'price': ' 58.0', 'commits': '(25人评价)', 'documents': '本书展示了机器学习中的核心算法和理论，并阐明了算法的过行过程。书中主要涵盖了目前机器学习中各种最实用的理论和算法，包括概念学习、决策树、神经网络、贝叶斯学习... '}\n",
      "{'title': 'Probabilistic Reasoning in Intelligent Systems           : Networks of Plausible Inference', 'author': 'Judea Pearl ', 'Publishinghouse': ' Morgan Kaufmann ', 'publishingTime': ' 1988-09-15 ', 'price': ' USD 106.00', 'commits': '(少于10人评价)', 'documents': '无简介'}\n",
      "{'title': 'Artificial Intelligence           : A Modern Approach', 'author': 'Stuart Russell、Peter Norvig ', 'Publishinghouse': ' Pearson ', 'publishingTime': ' 2009-12-11 ', 'price': ' USD 195.00', 'commits': '(149人评价)', 'documents': 'The long-anticipated revision of this #1 selling book offers the most comprehe... '}\n",
      "{'title': 'Real-World Machine Learning', 'author': 'Henrik Brink、Joseph Richards、Mark Fetherolf ', 'Publishinghouse': ' Manning Publications ', 'publishingTime': ' 2015-12-31 ', 'price': ' USD 49.99', 'commits': '(12人评价)', 'documents': '无简介'}\n",
      "{'title': 'Spark MLlib机器学习           : 算法、源码及实战详解', 'author': '黄美灵 ', 'Publishinghouse': ' 电子工业出版社 ', 'publishingTime': ' 2016-4 ', 'price': ' 79', 'commits': '(14人评价)', 'documents': '《Spark MLlib机器学习：算法、源码及实战详解》以Spark 1.4.1版本源码为切入点，全面并且深入地解析Spark MLlib模块，着力于探索分... '}\n",
      "{'title': 'Introduction to Data Mining, Second Edition', 'author': 'Pang-Ning Tan、Michael Steinbach Pang-Ning Tan、Anuj Karpatne ', 'Publishinghouse': ' Pearson ', 'publishingTime': ' 2018-1-4 ', 'price': ' USD 126.65', 'commits': '(少于10人评价)', 'documents': 'Introduction to Data Mining, 2nd Edition, gives a comprehensive overview of th... '}\n",
      "{'title': 'Hands-On Machine Learning with TensorFlow.js', 'author': 'Kai Sasaki ', 'Publishinghouse': ' Packt ', 'publishingTime': ' 2019-11-27 ', 'price': ' USD 44.99', 'commits': '(少于10人评价)', 'documents': 'TensorFlow.js is a framework that enables you to create performant machine lea... '}\n",
      "{'title': 'Mining of Massive Datasets', 'author': 'Anand Rajaraman、Jeffrey David Ullman ', 'Publishinghouse': ' Cambridge University Press ', 'publishingTime': ' 2011-12-30 ', 'price': ' USD 65.00', 'commits': '(131人评价)', 'documents': 'The popularity of the Web and Internet commerce provides many extremely large ... '}\n",
      "{'title': 'Graphical Models, Exponential Families, and Variational Inference', 'author': 'Martin J Wainwright、Michael I Jordan ', 'Publishinghouse': ' Now Publishers Inc ', 'publishingTime': ' December 16, 2008 ', 'price': ' USD 125.00', 'commits': '(34人评价)', 'documents': '无简介'}\n",
      "{'title': 'TensorFlow Machine Learning Cookbook - Second Edition', 'author': '2018-8-30', 'Publishinghouse': ' ', 'publishingTime': ' ', 'price': ' ', 'commits': '(目前无人评价)', 'documents': '无简介'}\n"
     ]
    },
    {
     "name": "stdout",
     "output_type": "stream",
     "text": [
      "{'title': '机器学习           : 使用OpenCV和Python进行智能图像处理', 'author': '迈克尔·贝耶勒 ', 'Publishinghouse': ' 机械工业出版社 ', 'publishingTime': ' 2018-11-14 ', 'price': ' 69', 'commits': '(少于10人评价)', 'documents': '本书是一本基于OpenCV和Python的机器学习实战手册，既详细介绍机器学习及OpenCV相关的基础知识，又通过具体实例展示如何使用OpenCV和Pyth... '}\n",
      "{'title': 'scikit-learn机器学习（第2版）', 'author': '[美]加文·海克（Gavin Hackeling） ', 'Publishinghouse': ' 人民邮电出版社 ', 'publishingTime': ' 2019-1 ', 'price': ' 59.00元', 'commits': '(10人评价)', 'documents': '近年来，Python语言成为了广受欢迎的编程语言，而它在机器学习领域也有很好的表现。scikit-learn是一个用Python语言编写的机器学习算法库，它... '}\n",
      "{'title': 'Machine Learning Under a Modern Optimization Lens', 'author': 'Dimitris Bertsimas、Jack Dunn ', 'Publishinghouse': ' Dynamic Ideas LLC ', 'publishingTime': ' 2019', 'price': ' ', 'commits': '(目前无人评价)', 'documents': 'Part I covers robust, sparse, nonlinear, holistic regression and extensions.\\nP... '}\n",
      "{'title': 'The Nature of Statistical Learning Theory', 'author': 'Vladimir Vapnik ', 'Publishinghouse': ' Springer ', 'publishingTime': ' 1999-11-19 ', 'price': ' USD 189.00', 'commits': '(21人评价)', 'documents': 'The aim of this book is to discuss the fundamental ideas which lie behind the ... '}\n",
      "{'title': '稀疏统计学习及其应用', 'author': 'Trevor Hastie、Robert Tibshirani、Martin Wainwright ', 'Publishinghouse': ' 人民邮电出版社 ', 'publishingTime': ' 2018-1-1 ', 'price': ' 89', 'commits': '(11人评价)', 'documents': '稀疏统计模型只具有少数非零参数或权重，经典地体现了化繁为简的理念，因而广泛应用于诸多领域。本书就稀疏性统计学习做出总结，以 lasso方法为中心，层层推进，... '}\n",
      "{'title': 'Deep Learning with R', 'author': 'Francois Chollet、J. J. Allaire ', 'Publishinghouse': ' Manning Publications ', 'publishingTime': ' 2018-3-30 ', 'price': ' USD 49.99', 'commits': '(少于10人评价)', 'documents': 'Deep Learning with R introduces the world of deep learning using the powerful ... '}\n",
      "{'title': 'TensorFlow学习指南           : 深度学习系统构建详解', 'author': '朱小虎、李紫辉 ', 'Publishinghouse': ' 机械工业出版社 ', 'publishingTime': ' 2018-6', 'price': ' ', 'commits': '(14人评价)', 'documents': '本书主要介绍如何使用 TensorFlow 框架进行深度学习系统的构建。从基础知识入手，将使用TensorFlow 的各种方式贯穿于整本书的讲解之中，并结合... '}\n",
      "{'title': 'Convex Optimization', 'author': 'Stephen Boyd、Lieven Vandenberghe ', 'Publishinghouse': ' Cambridge University Press ', 'publishingTime': ' 2004-3-8 ', 'price': ' USD 90.00', 'commits': '(422人评价)', 'documents': 'Convex optimization problems arise frequently in many different fields. This b... '}\n",
      "{'title': 'Python for Finance           : Mastering Data-Driven Finance', 'author': 'Yves Hilpisch ', 'Publishinghouse': ' O′Reilly ', 'publishingTime': ' 2018-9-30 ', 'price': ' GBP 55.99', 'commits': '(少于10人评价)', 'documents': '无简介'}\n",
      "{'title': 'Feature Extraction           : Foundations and Applications', 'author': 'Springer ', 'Publishinghouse': ' 2016-5-1 ', 'publishingTime': ' GBP 269.50', 'price': ' ', 'commits': '(少于10人评价)', 'documents': '无简介'}\n",
      "{'title': 'Practical Deep Learning for Cloud and Mobile           : Real-World AI & Computer Vision Projects Using Python, Keras & TensorFlow', 'author': 'Anirudh Koul、Siddha Ganju、Meher Kasam ', 'Publishinghouse': \" O'Reilly Media \", 'publishingTime': ' 2019-11-5 ', 'price': ' USD 48.99', 'commits': '(目前无人评价)', 'documents': 'Whether you’re a software engineer aspiring to enter the world of artificial i... '}\n",
      "{'title': 'Deep Learning', 'author': 'Ian Goodfellow、Yoshua Bengio、Aaron Courville ', 'Publishinghouse': ' MITP Verlags GmbH ', 'publishingTime': ' 2018-10-8 ', 'price': ' EUR 80.00', 'commits': '(目前无人评价)', 'documents': 'Deep Learning ist eine Form des Machine Learnings, die Computer in die Lage ve... '}\n",
      "{'title': '统计推断', 'author': 'George Casella、Roger L.Berger ', 'Publishinghouse': ' 机械工业出版社 ', 'publishingTime': ' 2010-1 ', 'price': ' 66.00元', 'commits': '(110人评价)', 'documents': '《统计推断(翻译版·原书第2版)》从概率论的基础开始，通过例子与习题的旁征博引，引进了大量近代统计处理的新技术和一些国内同类教材中不常见而又广为使用的分布。... '}\n",
      "{'title': 'Automatic Speech Recognition           : A Deep Learning Approach', 'author': '俞栋、邓力 ', 'Publishinghouse': ' Springer ', 'publishingTime': ' 2014-11-11 ', 'price': ' USD 99.00', 'commits': '(少于10人评价)', 'documents': 'This book provides a comprehensive overview of the recent advancement in the f... '}\n",
      "{'title': 'Neural Network Design', 'author': 'Martin T. Hagan、Howard B. Demuth、Mark H. Beale ', 'Publishinghouse': ' Martin Hagan ', 'publishingTime': ' 2002-1 ', 'price': ' USD 80.00', 'commits': '(16人评价)', 'documents': '无简介'}\n",
      "{'title': 'The Elements of Statistical Learning', 'author': 'T. Hastie、R. Tibshirani、J. H. Friedman ', 'Publishinghouse': ' Springer ', 'publishingTime': ' 2003-07-30 ', 'price': ' USD 89.95', 'commits': '(138人评价)', 'documents': 'During the past decade there has been an explosion in computation and informat... '}\n",
      "{'title': '自然语言处理综论', 'author': 'Daniel Jurafsky、James H. Martin ', 'Publishinghouse': ' 电子工业出版社 ', 'publishingTime': ' 2005 ', 'price': ' 78.0', 'commits': '(83人评价)', 'documents': '本书是一本全面系统地讲述计算机自然语言处理的优秀教材。本书英文版出版之后好评如潮，国外许多著名大学纷纷把本书选为自然语言处理和计算语言学课程的主要教材，该书... '}\n",
      "{'title': '独立成分分析', 'author': '海韦里恩 (Aapo Hyvarinen)、卡尔胡恩 (Juha Karhunen)、奥亚 (Erkki Oja) ', 'Publishinghouse': ' 电子工业出版社 ', 'publishingTime': ' 2014-5-1 ', 'price': ' 79元', 'commits': '(少于10人评价)', 'documents': '独立成分分析(ICA）方面，国际认可的最全面的一本书，3位作者在该方向上的权威性也无人可比。所以虽是旧书，仍有参考价值。\\n再版序\\n本书不仅是国际上比较全面的... '}\n",
      "{'title': 'Introduction to Information Retrieval', 'author': 'Christopher D. Manning、Prabhakar Raghavan、Hinrich Schütze ', 'Publishinghouse': ' Cambridge University Press ', 'publishingTime': ' 2008-7-7 ', 'price': ' USD 74.99', 'commits': '(226人评价)', 'documents': 'Class-tested and coherent, this groundbreaking new textbook teaches classic we... '}\n",
      "{'title': 'Web Data Mining           : Exploring Hyperlinks, Contents, and Usage Data (Data-Centric Systems and Applications)', 'author': 'Bing Liu ', 'Publishinghouse': ' Springer ', 'publishingTime': ' 2006-12-28 ', 'price': ' USD 59.95', 'commits': '(27人评价)', 'documents': '\\n\\nWeb mining aims to discover useful information and knowledge from the Web hy... '}\n",
      "{'title': '数据挖掘实用机器学习技术', 'author': 'Ian H.Witten、Eibe Frank ', 'Publishinghouse': ' 机械工业出版社 ', 'publishingTime': ' 2006-3 ', 'price': ' 48.00元', 'commits': '(153人评价)', 'documents': '《数据挖掘实用机器学习技术(原书第2版)》介绍数据挖掘的基本理论与实践方法。主要内容包括：各种模型(决策树、关联规则、线性模型、聚类、贝叶斯网以及神经网络)... '}\n",
      "{'title': 'Regret Analysis of Stochastic and Nonstochastic Multi-Armed Bandit Problems', 'author': 'Bubeck, S. Bastian; Cesa-Bianchi, Nicolo; Bubeck, Sebastien', 'Publishinghouse': ' ', 'publishingTime': ' ', 'price': ' ', 'commits': '(少于10人评价)', 'documents': '无简介'}\n",
      "{'title': 'Statistics, Data Mining, and Machine Learning in Astronomy           : A Practical Python Guide for the Analysis of Survey Data, Updated Edition', 'author': 'Željko Ivezić、Andrew J. Connolly、Jacob T. VanderPlas、Alexander Gray ', 'Publishinghouse': ' Princeton University Press ', 'publishingTime': ' 2019-12-9 ', 'price': ' USD 85.00', 'commits': '(目前无人评价)', 'documents': 'Statistics, Data Mining, and Machine Learning in Astronomy is the essential in... '}\n",
      "{'title': '深入理解计算机系统（原书第3版）', 'author': \"Randal E.Bryant、David O'Hallaron \", 'Publishinghouse': ' 机械工业出版社 ', 'publishingTime': ' 2016-11 ', 'price': ' 139.00元', 'commits': '(929人评价)', 'documents': '和第2版相比，本版内容上*大的变化是，从以IA32和x86-64为基础转变为完全以x86-64为基础。主要更新如下：\\n基于x86-64，大量地重写代码，首次... '}\n",
      "{'title': '驾驭文本           : 文本的发现、组织和处理', 'author': 'Grant S. Ingersoll（格兰特.英格索尔）、Thomas S. Morton（托马斯.莫顿）、Andrew L. Farris（安德鲁.法里斯） ', 'Publishinghouse': ' 电子工业出版社 ', 'publishingTime': ' 2015-7-22 ', 'price': ' 79.00元', 'commits': '(11人评价)', 'documents': '文本处理是目前互联网内容应用(如搜索引擎、推荐引擎)的关键技术。本书涵盖了文本处理概念和技术的多个方面，包括文本预处理、搜索、字符串匹配、信息抽取、命名实体... '}\n"
     ]
    }
   ],
   "source": [
    "# 链接 pymongo 数据库\n",
    "import pymongo\n",
    "client = pymongo.MongoClient(host='localhost',port=27017)\n",
    "# 指定数据库 douban\n",
    "db =client.douban\n",
    "# 指定集合 doubanbooksML\n",
    "collection = db.doubanbooksML\n",
    "\n",
    "\n",
    "import requests\n",
    "from bs4 import BeautifulSoup\n",
    "import pandas as pd\n",
    "# print(\"导入成功！\")\n",
    "\n",
    "header ={\n",
    "    'User-Agent':'Mozilla/5.0 (Windows NT 10.0; Win64; x64) AppleWebKit/537.36 (KHTML, like Gecko) Chrome/78.0.3904.97 Safari/537.36'\n",
    "}\n",
    "# 将cookies存储到字典的方法\n",
    "cookies  = 'bid=P_ZKV9BVHfE; __utmc=30149280; ll=\"118271\"; _vwo_uuid_v2=D5F6301CCA0BA1F403310BBDB612A50A8|a7920ac816b0fa2e758cd41c10b386ce; gr_user_id=c45f1875-a6e0-43d9-aa34-cd019cf81e6b; __utmv=30149280.18622; douban-fav-remind=1; viewed=\"3165271_4254271\"; __utmc=81379588; gr_cs1_b61834d4-dee7-400e-b3ef-ba1189b0456b=user_id%3A0; ap_v=0,6.0; __utma=30149280.696154547.1563276061.1583499887.1583829730.30; __utmz=30149280.1583829730.30.17.utmcsr=baidu|utmccn=(organic)|utmcmd=organic; __utmt_douban=1; __utma=81379588.1649039511.1582552835.1582552835.1583829730.2; __utmz=81379588.1583829730.2.2.utmcsr=baidu|utmccn=(organic)|utmcmd=organic; __utmt=1; _pk_ref.100001.3ac3=%5B%22%22%2C%22%22%2C1583829730%2C%22https%3A%2F%2Fwww.baidu.com%2Flink%3Furl%3DuNphXXY-esw0TdBmKkUMe2BS2M-TjiIZi-QBZGAcYwXjmUMfOtxJRMnkop0Bperh%26wd%3D%26eqid%3D94ea1a200002da69000000055e6752aa%22%5D; _pk_ses.100001.3ac3=*; dbcl2=\"186229531:3ufBftA4bfw\"; ck=OeSD; gr_session_id_22c937bbd8ebd703f2d8e9445f7dfd03=e3637341-2cf6-460d-836a-b24b088f6d0d; gr_cs1_e3637341-2cf6-460d-836a-b24b088f6d0d=user_id%3A1; gr_session_id_22c937bbd8ebd703f2d8e9445f7dfd03_e3637341-2cf6-460d-836a-b24b088f6d0d=true; push_noty_num=0; push_doumail_num=0; _pk_id.100001.3ac3=527bb4a0a2a1ee2d.1582552835.2.1583829810.1582552835.; __utmb=30149280.4.10.1583829730; __utmb=81379588.4.10.1583829730'\n",
    "clst = cookies.split(';')\n",
    "dic_c={}\n",
    "for i in clst:\n",
    "    dic_c[i.split('=')[0]]=i.split('=')[1]\n",
    "\n",
    "# 拼接链接 返回列表\n",
    "def get_urls(n):\n",
    "    \"\"\"\n",
    "    分页网页URL采集 函数\n",
    "    n:页数参数\n",
    "    结果：得到一个分页网页的list\n",
    "    \"\"\"\n",
    "    lst=[]\n",
    "    for i in range(n):\n",
    "        # %% 必须是双引号 否则无法生效\n",
    "        ui='https://book.douban.com/tag/%%E6%%9C%%BA%%E5%%99%%A8%%E5%%AD%%A6%%E4%%B9%%A0?start=%i&type=T'%(i*20)\n",
    "        lst.append(ui)\n",
    "    return lst\n",
    "\n",
    "# 获取HTML 然后匹配信息\n",
    "def get_soup(url):\n",
    "    r= requests.get(url,headers=header,cookies=dic_c)\n",
    "\n",
    "    # 如果编码不正常添加如下代码即可\n",
    "    # r.encodng = r.apprent_encoding\n",
    "    # print(r.text)\n",
    "    from bs4 import BeautifulSoup\n",
    "    # 搜索匹配信息 方便进行抓取\n",
    "    soup = BeautifulSoup(r.text,'lxml')\n",
    "    ul_class = soup.find('ul',class_='subject-list')\n",
    "    lis= ul_class.find_all('li',class_='subject-item')\n",
    "    for i in lis:\n",
    "        info = i.find('div',class_='info')\n",
    "        h2 = info.find('h2').text.strip().replace('\\n','') # 标题\n",
    "        chubaninfo = info.find('div',class_='pub').text.strip().split('/') # 出版信息\n",
    "        # 如果有两个作者 删除第2个作者信息\n",
    "        if len(chubaninfo)>4:\n",
    "            del chubaninfo[1]\n",
    "        # 如果有缺失信息 补足4条信息 \n",
    "        elif len(chubaninfo)<4:\n",
    "            for i in range(len(chubaninfo),4):\n",
    "                chubaninfo.append(' ')\n",
    "        commits = info.find('span',class_='pl').text.strip()# 评论人数\n",
    "        try:\n",
    "            documents = info.find('p').text # 简介\n",
    "        except:\n",
    "            documents = '无简介'\n",
    "#         print(h2)\n",
    "#         print(chubaninfo)\n",
    "#         print(commits)\n",
    "#         print(documents)\n",
    "        # 拼接数据字典\n",
    "        data ={\n",
    "            'title':h2,\n",
    "            'author':chubaninfo[0],\n",
    "            'Publishinghouse':chubaninfo[1],\n",
    "            'publishingTime':chubaninfo[2],\n",
    "            'price':chubaninfo[3],\n",
    "            'commits':commits,\n",
    "            'documents':documents\n",
    "        }\n",
    "        print(data)\n",
    "        result = collection.insert_one(data)\n",
    "\n",
    "if __name__ == '__main__':\n",
    "    retun_lst = get_urls(20)\n",
    "#     print(retun_lst)\n",
    "    for i in retun_lst:\n",
    "#         print(i)\n",
    "        get_soup(i)\n",
    "#         break\n",
    "    "
   ]
  },
  {
   "cell_type": "code",
   "execution_count": null,
   "metadata": {},
   "outputs": [],
   "source": []
  }
 ],
 "metadata": {
  "kernelspec": {
   "display_name": "Python 3",
   "language": "python",
   "name": "python3"
  },
  "language_info": {
   "codemirror_mode": {
    "name": "ipython",
    "version": 3
   },
   "file_extension": ".py",
   "mimetype": "text/x-python",
   "name": "python",
   "nbconvert_exporter": "python",
   "pygments_lexer": "ipython3",
   "version": "3.7.1"
  },
  "toc": {
   "base_numbering": 1,
   "nav_menu": {},
   "number_sections": false,
   "sideBar": true,
   "skip_h1_title": false,
   "title_cell": "Table of Contents",
   "title_sidebar": "Contents",
   "toc_cell": false,
   "toc_position": {},
   "toc_section_display": true,
   "toc_window_display": false
  }
 },
 "nbformat": 4,
 "nbformat_minor": 2
}
